{
  "cells": [
    {
      "cell_type": "code",
      "execution_count": 1,
      "metadata": {
        "colab": {
          "base_uri": "https://localhost:8080/"
        },
        "id": "5N2RVmU231-E",
        "outputId": "d3c937cc-4112-4c6b-b332-75c268b1649c"
      },
      "outputs": [
        {
          "output_type": "stream",
          "name": "stdout",
          "text": [
            "Mounted at /content/drive\n"
          ]
        }
      ],
      "source": [
        "from google.colab import drive\n",
        "drive.mount('/content/drive')"
      ]
    },
    {
      "cell_type": "code",
      "execution_count": 2,
      "metadata": {
        "colab": {
          "base_uri": "https://localhost:8080/"
        },
        "id": "L6YrTq3D32NV",
        "outputId": "b5a3be4e-35cb-4f70-997d-2cd152777049"
      },
      "outputs": [
        {
          "output_type": "stream",
          "name": "stdout",
          "text": [
            "/content/drive/My Drive/Colab Notebooks/nlp\n"
          ]
        }
      ],
      "source": [
        "# change the working directory to the Drive root\n",
        "%cd /content/drive/My\\ Drive/Colab\\ Notebooks/nlp"
      ]
    },
    {
      "cell_type": "markdown",
      "metadata": {
        "id": "PUTTY2yXlh_2"
      },
      "source": [
        "# Parsing PDF and text extraction"
      ]
    },
    {
      "cell_type": "code",
      "execution_count": null,
      "metadata": {
        "colab": {
          "base_uri": "https://localhost:8080/"
        },
        "id": "RVQK-DyemVVZ",
        "outputId": "f40f4c92-9a8c-4b90-96f8-6d9f433fdbbb"
      },
      "outputs": [
        {
          "name": "stdout",
          "output_type": "stream",
          "text": [
            "Requirement already satisfied: pandas in /usr/local/lib/python3.11/dist-packages (2.2.2)\n",
            "Collecting PyPDF2\n",
            "  Downloading pypdf2-3.0.1-py3-none-any.whl.metadata (6.8 kB)\n",
            "Collecting python-dotenv\n",
            "  Downloading python_dotenv-1.0.1-py3-none-any.whl.metadata (23 kB)\n",
            "Requirement already satisfied: requests in /usr/local/lib/python3.11/dist-packages (2.32.3)\n",
            "Collecting PyMuPDF\n",
            "  Downloading pymupdf-1.25.4-cp39-abi3-manylinux2014_x86_64.manylinux_2_17_x86_64.whl.metadata (3.4 kB)\n",
            "Requirement already satisfied: langchain in /usr/local/lib/python3.11/dist-packages (0.3.20)\n",
            "Collecting langchain-community\n",
            "  Downloading langchain_community-0.3.20-py3-none-any.whl.metadata (2.4 kB)\n",
            "Collecting pdf2image\n",
            "  Downloading pdf2image-1.17.0-py3-none-any.whl.metadata (6.2 kB)\n",
            "Requirement already satisfied: pillow in /usr/local/lib/python3.11/dist-packages (11.1.0)\n",
            "Collecting pytesseract\n",
            "  Downloading pytesseract-0.3.13-py3-none-any.whl.metadata (11 kB)\n",
            "Requirement already satisfied: numpy>=1.23.2 in /usr/local/lib/python3.11/dist-packages (from pandas) (2.0.2)\n",
            "Requirement already satisfied: python-dateutil>=2.8.2 in /usr/local/lib/python3.11/dist-packages (from pandas) (2.8.2)\n",
            "Requirement already satisfied: pytz>=2020.1 in /usr/local/lib/python3.11/dist-packages (from pandas) (2025.1)\n",
            "Requirement already satisfied: tzdata>=2022.7 in /usr/local/lib/python3.11/dist-packages (from pandas) (2025.1)\n",
            "Requirement already satisfied: charset-normalizer<4,>=2 in /usr/local/lib/python3.11/dist-packages (from requests) (3.4.1)\n",
            "Requirement already satisfied: idna<4,>=2.5 in /usr/local/lib/python3.11/dist-packages (from requests) (3.10)\n",
            "Requirement already satisfied: urllib3<3,>=1.21.1 in /usr/local/lib/python3.11/dist-packages (from requests) (2.3.0)\n",
            "Requirement already satisfied: certifi>=2017.4.17 in /usr/local/lib/python3.11/dist-packages (from requests) (2025.1.31)\n",
            "Requirement already satisfied: langchain-core<1.0.0,>=0.3.41 in /usr/local/lib/python3.11/dist-packages (from langchain) (0.3.45)\n",
            "Requirement already satisfied: langchain-text-splitters<1.0.0,>=0.3.6 in /usr/local/lib/python3.11/dist-packages (from langchain) (0.3.6)\n",
            "Requirement already satisfied: langsmith<0.4,>=0.1.17 in /usr/local/lib/python3.11/dist-packages (from langchain) (0.3.15)\n",
            "Requirement already satisfied: pydantic<3.0.0,>=2.7.4 in /usr/local/lib/python3.11/dist-packages (from langchain) (2.10.6)\n",
            "Requirement already satisfied: SQLAlchemy<3,>=1.4 in /usr/local/lib/python3.11/dist-packages (from langchain) (2.0.39)\n",
            "Requirement already satisfied: PyYAML>=5.3 in /usr/local/lib/python3.11/dist-packages (from langchain) (6.0.2)\n",
            "Collecting langchain\n",
            "  Downloading langchain-0.3.21-py3-none-any.whl.metadata (7.8 kB)\n",
            "Requirement already satisfied: aiohttp<4.0.0,>=3.8.3 in /usr/local/lib/python3.11/dist-packages (from langchain-community) (3.11.14)\n",
            "Requirement already satisfied: tenacity!=8.4.0,<10,>=8.1.0 in /usr/local/lib/python3.11/dist-packages (from langchain-community) (9.0.0)\n",
            "Collecting dataclasses-json<0.7,>=0.5.7 (from langchain-community)\n",
            "  Downloading dataclasses_json-0.6.7-py3-none-any.whl.metadata (25 kB)\n",
            "Collecting pydantic-settings<3.0.0,>=2.4.0 (from langchain-community)\n",
            "  Downloading pydantic_settings-2.8.1-py3-none-any.whl.metadata (3.5 kB)\n",
            "Collecting httpx-sse<1.0.0,>=0.4.0 (from langchain-community)\n",
            "  Downloading httpx_sse-0.4.0-py3-none-any.whl.metadata (9.0 kB)\n",
            "Collecting langchain-text-splitters<1.0.0,>=0.3.7 (from langchain)\n",
            "  Downloading langchain_text_splitters-0.3.7-py3-none-any.whl.metadata (1.9 kB)\n",
            "Requirement already satisfied: packaging>=21.3 in /usr/local/lib/python3.11/dist-packages (from pytesseract) (24.2)\n",
            "Requirement already satisfied: aiohappyeyeballs>=2.3.0 in /usr/local/lib/python3.11/dist-packages (from aiohttp<4.0.0,>=3.8.3->langchain-community) (2.6.1)\n",
            "Requirement already satisfied: aiosignal>=1.1.2 in /usr/local/lib/python3.11/dist-packages (from aiohttp<4.0.0,>=3.8.3->langchain-community) (1.3.2)\n",
            "Requirement already satisfied: attrs>=17.3.0 in /usr/local/lib/python3.11/dist-packages (from aiohttp<4.0.0,>=3.8.3->langchain-community) (25.3.0)\n",
            "Requirement already satisfied: frozenlist>=1.1.1 in /usr/local/lib/python3.11/dist-packages (from aiohttp<4.0.0,>=3.8.3->langchain-community) (1.5.0)\n",
            "Requirement already satisfied: multidict<7.0,>=4.5 in /usr/local/lib/python3.11/dist-packages (from aiohttp<4.0.0,>=3.8.3->langchain-community) (6.2.0)\n",
            "Requirement already satisfied: propcache>=0.2.0 in /usr/local/lib/python3.11/dist-packages (from aiohttp<4.0.0,>=3.8.3->langchain-community) (0.3.0)\n",
            "Requirement already satisfied: yarl<2.0,>=1.17.0 in /usr/local/lib/python3.11/dist-packages (from aiohttp<4.0.0,>=3.8.3->langchain-community) (1.18.3)\n",
            "Collecting marshmallow<4.0.0,>=3.18.0 (from dataclasses-json<0.7,>=0.5.7->langchain-community)\n",
            "  Downloading marshmallow-3.26.1-py3-none-any.whl.metadata (7.3 kB)\n",
            "Collecting typing-inspect<1,>=0.4.0 (from dataclasses-json<0.7,>=0.5.7->langchain-community)\n",
            "  Downloading typing_inspect-0.9.0-py3-none-any.whl.metadata (1.5 kB)\n",
            "Requirement already satisfied: jsonpatch<2.0,>=1.33 in /usr/local/lib/python3.11/dist-packages (from langchain-core<1.0.0,>=0.3.41->langchain) (1.33)\n",
            "Requirement already satisfied: typing-extensions>=4.7 in /usr/local/lib/python3.11/dist-packages (from langchain-core<1.0.0,>=0.3.41->langchain) (4.12.2)\n",
            "Requirement already satisfied: httpx<1,>=0.23.0 in /usr/local/lib/python3.11/dist-packages (from langsmith<0.4,>=0.1.17->langchain) (0.28.1)\n",
            "Requirement already satisfied: orjson<4.0.0,>=3.9.14 in /usr/local/lib/python3.11/dist-packages (from langsmith<0.4,>=0.1.17->langchain) (3.10.15)\n",
            "Requirement already satisfied: requests-toolbelt<2.0.0,>=1.0.0 in /usr/local/lib/python3.11/dist-packages (from langsmith<0.4,>=0.1.17->langchain) (1.0.0)\n",
            "Requirement already satisfied: zstandard<0.24.0,>=0.23.0 in /usr/local/lib/python3.11/dist-packages (from langsmith<0.4,>=0.1.17->langchain) (0.23.0)\n",
            "Requirement already satisfied: annotated-types>=0.6.0 in /usr/local/lib/python3.11/dist-packages (from pydantic<3.0.0,>=2.7.4->langchain) (0.7.0)\n",
            "Requirement already satisfied: pydantic-core==2.27.2 in /usr/local/lib/python3.11/dist-packages (from pydantic<3.0.0,>=2.7.4->langchain) (2.27.2)\n",
            "Requirement already satisfied: six>=1.5 in /usr/local/lib/python3.11/dist-packages (from python-dateutil>=2.8.2->pandas) (1.17.0)\n",
            "Requirement already satisfied: greenlet!=0.4.17 in /usr/local/lib/python3.11/dist-packages (from SQLAlchemy<3,>=1.4->langchain) (3.1.1)\n",
            "Requirement already satisfied: anyio in /usr/local/lib/python3.11/dist-packages (from httpx<1,>=0.23.0->langsmith<0.4,>=0.1.17->langchain) (4.9.0)\n",
            "Requirement already satisfied: httpcore==1.* in /usr/local/lib/python3.11/dist-packages (from httpx<1,>=0.23.0->langsmith<0.4,>=0.1.17->langchain) (1.0.7)\n",
            "Requirement already satisfied: h11<0.15,>=0.13 in /usr/local/lib/python3.11/dist-packages (from httpcore==1.*->httpx<1,>=0.23.0->langsmith<0.4,>=0.1.17->langchain) (0.14.0)\n",
            "Requirement already satisfied: jsonpointer>=1.9 in /usr/local/lib/python3.11/dist-packages (from jsonpatch<2.0,>=1.33->langchain-core<1.0.0,>=0.3.41->langchain) (3.0.0)\n",
            "Collecting mypy-extensions>=0.3.0 (from typing-inspect<1,>=0.4.0->dataclasses-json<0.7,>=0.5.7->langchain-community)\n",
            "  Downloading mypy_extensions-1.0.0-py3-none-any.whl.metadata (1.1 kB)\n",
            "Requirement already satisfied: sniffio>=1.1 in /usr/local/lib/python3.11/dist-packages (from anyio->httpx<1,>=0.23.0->langsmith<0.4,>=0.1.17->langchain) (1.3.1)\n",
            "Downloading pypdf2-3.0.1-py3-none-any.whl (232 kB)\n",
            "\u001b[2K   \u001b[90m━━━━━━━━━━━━━━━━━━━━━━━━━━━━━━━━━━━━━━━━\u001b[0m \u001b[32m232.6/232.6 kB\u001b[0m \u001b[31m5.7 MB/s\u001b[0m eta \u001b[36m0:00:00\u001b[0m\n",
            "\u001b[?25hDownloading python_dotenv-1.0.1-py3-none-any.whl (19 kB)\n",
            "Downloading pymupdf-1.25.4-cp39-abi3-manylinux2014_x86_64.manylinux_2_17_x86_64.whl (20.0 MB)\n",
            "\u001b[2K   \u001b[90m━━━━━━━━━━━━━━━━━━━━━━━━━━━━━━━━━━━━━━━━\u001b[0m \u001b[32m20.0/20.0 MB\u001b[0m \u001b[31m25.7 MB/s\u001b[0m eta \u001b[36m0:00:00\u001b[0m\n",
            "\u001b[?25hDownloading langchain_community-0.3.20-py3-none-any.whl (2.5 MB)\n",
            "\u001b[2K   \u001b[90m━━━━━━━━━━━━━━━━━━━━━━━━━━━━━━━━━━━━━━━━\u001b[0m \u001b[32m2.5/2.5 MB\u001b[0m \u001b[31m58.8 MB/s\u001b[0m eta \u001b[36m0:00:00\u001b[0m\n",
            "\u001b[?25hDownloading langchain-0.3.21-py3-none-any.whl (1.0 MB)\n",
            "\u001b[2K   \u001b[90m━━━━━━━━━━━━━━━━━━━━━━━━━━━━━━━━━━━━━━━━\u001b[0m \u001b[32m1.0/1.0 MB\u001b[0m \u001b[31m51.1 MB/s\u001b[0m eta \u001b[36m0:00:00\u001b[0m\n",
            "\u001b[?25hDownloading pdf2image-1.17.0-py3-none-any.whl (11 kB)\n",
            "Downloading pytesseract-0.3.13-py3-none-any.whl (14 kB)\n",
            "Downloading dataclasses_json-0.6.7-py3-none-any.whl (28 kB)\n",
            "Downloading httpx_sse-0.4.0-py3-none-any.whl (7.8 kB)\n",
            "Downloading langchain_text_splitters-0.3.7-py3-none-any.whl (32 kB)\n",
            "Downloading pydantic_settings-2.8.1-py3-none-any.whl (30 kB)\n",
            "Downloading marshmallow-3.26.1-py3-none-any.whl (50 kB)\n",
            "\u001b[2K   \u001b[90m━━━━━━━━━━━━━━━━━━━━━━━━━━━━━━━━━━━━━━━━\u001b[0m \u001b[32m50.9/50.9 kB\u001b[0m \u001b[31m4.1 MB/s\u001b[0m eta \u001b[36m0:00:00\u001b[0m\n",
            "\u001b[?25hDownloading typing_inspect-0.9.0-py3-none-any.whl (8.8 kB)\n",
            "Downloading mypy_extensions-1.0.0-py3-none-any.whl (4.7 kB)\n",
            "Installing collected packages: python-dotenv, pytesseract, PyPDF2, PyMuPDF, pdf2image, mypy-extensions, marshmallow, httpx-sse, typing-inspect, pydantic-settings, dataclasses-json, langchain-text-splitters, langchain, langchain-community\n",
            "  Attempting uninstall: langchain-text-splitters\n",
            "    Found existing installation: langchain-text-splitters 0.3.6\n",
            "    Uninstalling langchain-text-splitters-0.3.6:\n",
            "      Successfully uninstalled langchain-text-splitters-0.3.6\n",
            "  Attempting uninstall: langchain\n",
            "    Found existing installation: langchain 0.3.20\n",
            "    Uninstalling langchain-0.3.20:\n",
            "      Successfully uninstalled langchain-0.3.20\n",
            "Successfully installed PyMuPDF-1.25.4 PyPDF2-3.0.1 dataclasses-json-0.6.7 httpx-sse-0.4.0 langchain-0.3.21 langchain-community-0.3.20 langchain-text-splitters-0.3.7 marshmallow-3.26.1 mypy-extensions-1.0.0 pdf2image-1.17.0 pydantic-settings-2.8.1 pytesseract-0.3.13 python-dotenv-1.0.1 typing-inspect-0.9.0\n",
            "Reading package lists... Done\n",
            "Building dependency tree... Done\n",
            "Reading state information... Done\n",
            "The following additional packages will be installed:\n",
            "  tesseract-ocr-eng tesseract-ocr-osd\n",
            "The following NEW packages will be installed:\n",
            "  tesseract-ocr tesseract-ocr-eng tesseract-ocr-osd\n",
            "0 upgraded, 3 newly installed, 0 to remove and 29 not upgraded.\n",
            "Need to get 4,816 kB of archives.\n",
            "After this operation, 15.6 MB of additional disk space will be used.\n",
            "Get:1 http://archive.ubuntu.com/ubuntu jammy/universe amd64 tesseract-ocr-eng all 1:4.00~git30-7274cfa-1.1 [1,591 kB]\n",
            "Get:2 http://archive.ubuntu.com/ubuntu jammy/universe amd64 tesseract-ocr-osd all 1:4.00~git30-7274cfa-1.1 [2,990 kB]\n",
            "Get:3 http://archive.ubuntu.com/ubuntu jammy/universe amd64 tesseract-ocr amd64 4.1.1-2.1build1 [236 kB]\n",
            "Fetched 4,816 kB in 2s (3,083 kB/s)\n",
            "Selecting previously unselected package tesseract-ocr-eng.\n",
            "(Reading database ... 126209 files and directories currently installed.)\n",
            "Preparing to unpack .../tesseract-ocr-eng_1%3a4.00~git30-7274cfa-1.1_all.deb ...\n",
            "Unpacking tesseract-ocr-eng (1:4.00~git30-7274cfa-1.1) ...\n",
            "Selecting previously unselected package tesseract-ocr-osd.\n",
            "Preparing to unpack .../tesseract-ocr-osd_1%3a4.00~git30-7274cfa-1.1_all.deb ...\n",
            "Unpacking tesseract-ocr-osd (1:4.00~git30-7274cfa-1.1) ...\n",
            "Selecting previously unselected package tesseract-ocr.\n",
            "Preparing to unpack .../tesseract-ocr_4.1.1-2.1build1_amd64.deb ...\n",
            "Unpacking tesseract-ocr (4.1.1-2.1build1) ...\n",
            "Setting up tesseract-ocr-eng (1:4.00~git30-7274cfa-1.1) ...\n",
            "Setting up tesseract-ocr-osd (1:4.00~git30-7274cfa-1.1) ...\n",
            "Setting up tesseract-ocr (4.1.1-2.1build1) ...\n",
            "Processing triggers for man-db (2.10.2-1) ...\n"
          ]
        }
      ],
      "source": [
        "# Install libraries\n",
        "!pip install pandas PyPDF2 python-dotenv requests PyMuPDF langchain langchain-community pdf2image pillow pytesseract\n",
        "!apt-get install tesseract-ocr"
      ]
    },
    {
      "cell_type": "code",
      "execution_count": null,
      "metadata": {
        "colab": {
          "base_uri": "https://localhost:8080/"
        },
        "id": "l08da5qGlhhA",
        "outputId": "5c9876b3-af87-4aec-e2c5-31ef78fce334"
      },
      "outputs": [
        {
          "name": "stdout",
          "output_type": "stream",
          "text": [
            "Processing file: ./data/raw/pdf_data/18398_Annual_Comprehensive_Financial_Report_December_31,_2021.pdf\n",
            "Saved file: ./data/scraped/scraped_pdf_text_data/18398_Annual_Comprehensive_Financial_Report_December_31,_2021.txt\n",
            "Processing file: ./data/raw/pdf_data/14147_Pittsburgh_CAR_PDF_Copy.pdf\n",
            "Saved file: ./data/scraped/scraped_pdf_text_data/14147_Pittsburgh_CAR_PDF_Copy.txt\n",
            "Processing file: ./data/raw/pdf_data/24770_Pittsburgh,_City_of_ACFR_FINAL_2023.pdf\n",
            "Saved file: ./data/scraped/scraped_pdf_text_data/24770_Pittsburgh,_City_of_ACFR_FINAL_2023.txt\n",
            "Processing file: ./data/raw/pdf_data/9623_ISP_Tax_Regulations.pdf\n",
            "Saved file: ./data/scraped/scraped_pdf_text_data/9623_ISP_Tax_Regulations.txt\n",
            "Processing file: ./data/raw/pdf_data/23255_2024_Operating_Budget.pdf\n",
            "Saved file: ./data/scraped/scraped_pdf_text_data/23255_2024_Operating_Budget.txt\n",
            "Processing file: ./data/raw/pdf_data/9624_Local_Services_Tax_Regulations.pdf\n",
            "Saved file: ./data/scraped/scraped_pdf_text_data/9624_Local_Services_Tax_Regulations.txt\n",
            "Processing file: ./data/raw/pdf_data/9625_Parking_Tax_Regulations.pdf\n",
            "Saved file: ./data/scraped/scraped_pdf_text_data/9625_Parking_Tax_Regulations.txt\n",
            "Processing file: ./data/raw/pdf_data/9622_Amusement_Tax_Regulations.pdf\n",
            "Saved file: ./data/scraped/scraped_pdf_text_data/9622_Amusement_Tax_Regulations.txt\n",
            "Processing file: ./data/raw/pdf_data/21150_FINAL_PGH_ACFR.pdf\n",
            "Saved file: ./data/scraped/scraped_pdf_text_data/21150_FINAL_PGH_ACFR.txt\n",
            "Processing file: ./data/raw/pdf_data/cmu-leadership-org-chart.pdf\n",
            "Saved file: ./data/scraped/scraped_pdf_text_data/cmu-leadership-org-chart.txt\n",
            "Processing file: ./data/raw/pdf_data/cmu_fact_sheet_02.pdf\n",
            "Saved file: ./data/scraped/scraped_pdf_text_data/cmu_fact_sheet_02.txt\n",
            "Processing file: ./data/raw/pdf_data/9627_UF_Regulations.pdf\n",
            "Saved file: ./data/scraped/scraped_pdf_text_data/9627_UF_Regulations.txt\n",
            "Processing file: ./data/raw/pdf_data/9626_Payroll_Tax_Regulations.pdf\n",
            "Saved file: ./data/scraped/scraped_pdf_text_data/9626_Payroll_Tax_Regulations.txt\n"
          ]
        }
      ],
      "source": [
        "import os\n",
        "import PyPDF2\n",
        "import fitz  # PyMuPDF\n",
        "from pdf2image import convert_from_path\n",
        "from PIL import Image\n",
        "import pytesseract\n",
        "\n",
        "# Ensure Tesseract is in your system's PATH or specify the executable path\n",
        "# pytesseract.pytesseract.tesseract_cmd = r'<full_path_to_your_tesseract_executable>'\n",
        "\n",
        "def crop_image(element, pageObj):\n",
        "    \"\"\"\n",
        "    Crop an image from a PDF page based on the element's coordinates.\n",
        "    \"\"\"\n",
        "    # Get the coordinates to crop the image from the PDF\n",
        "    [image_left, image_top, image_right, image_bottom] = [element.x0, element.y0, element.x1, element.y1]\n",
        "\n",
        "    # Crop the page using coordinates (left, bottom, right, top)\n",
        "    pageObj.mediabox.lower_left = (image_left, image_bottom)\n",
        "    pageObj.mediabox.upper_right = (image_right, image_top)\n",
        "\n",
        "    # Save the cropped page to a new PDF\n",
        "    cropped_pdf_writer = PyPDF2.PdfWriter()\n",
        "    cropped_pdf_writer.add_page(pageObj)\n",
        "    cropped_pdf_path = 'cropped_image.pdf'\n",
        "\n",
        "    with open(cropped_pdf_path, 'wb') as cropped_pdf_file:\n",
        "        cropped_pdf_writer.write(cropped_pdf_file)\n",
        "\n",
        "    return cropped_pdf_path\n",
        "\n",
        "def convert_to_images(input_file):\n",
        "    \"\"\"\n",
        "    Convert a PDF file to images.\n",
        "    \"\"\"\n",
        "    images = convert_from_path(input_file, dpi=500)\n",
        "    return images\n",
        "\n",
        "def image_to_text(image_path):\n",
        "    \"\"\"\n",
        "    Extract text from an image using OCR.\n",
        "    \"\"\"\n",
        "    img = Image.open(image_path)\n",
        "    text = pytesseract.image_to_string(img)\n",
        "    return text\n",
        "\n",
        "def process_pdf(file_path, output_dir):\n",
        "    \"\"\"\n",
        "    Process a PDF file to extract text and images.\n",
        "    \"\"\"\n",
        "    try:\n",
        "        with open(file_path, 'rb') as pdfFileObj:\n",
        "            pdfReaded = PyPDF2.PdfReader(pdfFileObj)\n",
        "            doc = fitz.open(file_path)\n",
        "            n = doc.page_count\n",
        "            doc_content = \"\"\n",
        "\n",
        "            for i in range(n):\n",
        "                page_n = doc.load_page(i)\n",
        "                page_content = page_n.get_text(\"blocks\")\n",
        "\n",
        "                for element in page_content:\n",
        "                    if element[6] == 0:  # If the element is text\n",
        "                        doc_content += element[4]\n",
        "                    else:  # If the element is an image\n",
        "                        pageObj = pdfReaded.pages[i]\n",
        "                        cropped_pdf_path = crop_image(element, pageObj)\n",
        "                        images = convert_to_images(cropped_pdf_path)\n",
        "                        if images:\n",
        "                            images[0].save('temp_image.png', \"PNG\")\n",
        "                            image_text = image_to_text('temp_image.png')\n",
        "                            doc_content += image_text\n",
        "\n",
        "                doc_content += \"\\n\"\n",
        "\n",
        "            # Save the extracted content to a text file\n",
        "            txt_file = os.path.join(output_dir, os.path.basename(file_path).replace('.pdf', '.txt'))\n",
        "            with open(txt_file, 'w', encoding='utf-8') as file:\n",
        "                file.write(doc_content)\n",
        "            print(f\"Saved file: {txt_file}\")\n",
        "\n",
        "    except Exception as e:\n",
        "        print(f\"Error processing {file_path}: {e}\")\n",
        "\n",
        "def main():\n",
        "    data_path = \"./data/raw/pdf_data\"  # Path to the folder where PDF files are available\n",
        "    output_dir = \"./data/scraped/scraped_pdf_text_data\"\n",
        "\n",
        "    # Ensure output directory exists\n",
        "    os.makedirs(output_dir, exist_ok=True)\n",
        "\n",
        "    # Process each PDF file in the directory\n",
        "    for file in os.listdir(data_path):\n",
        "        if file.endswith(\".pdf\"):\n",
        "            file_path = os.path.join(data_path, file)\n",
        "            print(f\"Processing file: {file_path}\")\n",
        "            process_pdf(file_path, output_dir)\n",
        "\n",
        "if __name__ == \"__main__\":\n",
        "    main()\n"
      ]
    },
    {
      "cell_type": "markdown",
      "metadata": {
        "id": "7YYQDsK2lI7K"
      },
      "source": [
        "# Scraping Webpage and Check Duplicate Sublink"
      ]
    },
    {
      "cell_type": "markdown",
      "metadata": {
        "id": "4avbkVF_eb2Z"
      },
      "source": [
        "Parsing static webpages from the collected sublink file. It is a part of the web crawling process.\n",
        "Based on the URLs of the collected sublink URLs, this script crawls the webpages and extracts ALL the text data (if opening the sublink URL does not timeout)."
      ]
    },
    {
      "cell_type": "code",
      "execution_count": null,
      "metadata": {
        "colab": {
          "base_uri": "https://localhost:8080/"
        },
        "id": "v0N8Q51sQu2Q",
        "outputId": "0c9b1dfa-c1df-461f-efd1-fa7360f5d25b"
      },
      "outputs": [
        {
          "output_type": "stream",
          "name": "stderr",
          "text": [
            "\r  0%|          | 0/156 [00:00<?, ?it/s]"
          ]
        },
        {
          "output_type": "stream",
          "name": "stdout",
          "text": [
            "Fetching: https://en.wikipedia.org/wiki/Pittsburgh\n"
          ]
        },
        {
          "output_type": "stream",
          "name": "stderr",
          "text": [
            "\r  1%|          | 1/156 [00:03<08:52,  3.43s/it]"
          ]
        },
        {
          "output_type": "stream",
          "name": "stdout",
          "text": [
            "Fetching: https://en.wikipedia.org/wiki/History_of_Pittsburgh\n"
          ]
        },
        {
          "output_type": "stream",
          "name": "stderr",
          "text": [
            "\r  1%|▏         | 2/156 [00:04<04:37,  1.80s/it]"
          ]
        },
        {
          "output_type": "stream",
          "name": "stdout",
          "text": [
            "Fetching: https://pittsburghpa.gov/pittsburgh/pgh-about\n",
            "Attempt 1 failed: 404 Client Error: Not Found for url: https://www.pittsburghpa.gov/pittsburgh/pgh-about\n",
            "Attempt 2 failed: 404 Client Error: Not Found for url: https://www.pittsburghpa.gov/pittsburgh/pgh-about\n",
            "Attempt 3 failed: 404 Client Error: Not Found for url: https://www.pittsburghpa.gov/pittsburgh/pgh-about\n"
          ]
        },
        {
          "output_type": "stream",
          "name": "stderr",
          "text": [
            "\r  2%|▏         | 3/156 [00:08<07:23,  2.90s/it]"
          ]
        },
        {
          "output_type": "stream",
          "name": "stdout",
          "text": [
            "Failed to parse URL at index: 2, URL: https://pittsburghpa.gov/pittsburgh/pgh-about\n",
            "Fetching: https://www.britannica.com/place/Pittsburgh\n"
          ]
        },
        {
          "output_type": "stream",
          "name": "stderr",
          "text": [
            "\r  3%|▎         | 4/156 [00:09<05:23,  2.13s/it]"
          ]
        },
        {
          "output_type": "stream",
          "name": "stdout",
          "text": [
            "Fetching: https://pittsburghpa.gov/events/index.html\n",
            "Attempt 1 failed: 404 Client Error: Not Found for url: https://www.pittsburghpa.gov/events/index.html\n",
            "Attempt 2 failed: 404 Client Error: Not Found for url: https://www.pittsburghpa.gov/events/index.html\n",
            "Attempt 3 failed: 404 Client Error: Not Found for url: https://www.pittsburghpa.gov/events/index.html\n"
          ]
        },
        {
          "output_type": "stream",
          "name": "stderr",
          "text": [
            "\r  3%|▎         | 5/156 [00:13<06:50,  2.72s/it]"
          ]
        },
        {
          "output_type": "stream",
          "name": "stdout",
          "text": [
            "Failed to parse URL at index: 4, URL: https://pittsburghpa.gov/events/index.html\n",
            "Fetching: https://www.visitpittsburgh.com/blog/move-in-day-pittsburgh-college-guide/\n"
          ]
        },
        {
          "output_type": "stream",
          "name": "stderr",
          "text": [
            "\r  4%|▍         | 6/156 [00:14<05:45,  2.30s/it]"
          ]
        },
        {
          "output_type": "stream",
          "name": "stdout",
          "text": [
            "Fetching: https://pittsburghpa.gov/mayor/pghmayors\n",
            "Attempt 1 failed: 404 Client Error: Not Found for url: https://www.pittsburghpa.gov/mayor/pghmayors\n",
            "Attempt 2 failed: 404 Client Error: Not Found for url: https://www.pittsburghpa.gov/mayor/pghmayors\n",
            "Attempt 3 failed: 404 Client Error: Not Found for url: https://www.pittsburghpa.gov/mayor/pghmayors\n"
          ]
        },
        {
          "output_type": "stream",
          "name": "stderr",
          "text": [
            "\r  4%|▍         | 7/156 [00:17<06:40,  2.69s/it]"
          ]
        },
        {
          "output_type": "stream",
          "name": "stdout",
          "text": [
            "Failed to parse URL at index: 6, URL: https://pittsburghpa.gov/mayor/pghmayors\n",
            "Fetching: https://en.wikipedia.org/wiki/Economy_of_Pittsburgh\n"
          ]
        },
        {
          "output_type": "stream",
          "name": "stderr",
          "text": [
            "\r  5%|▌         | 8/156 [00:18<05:01,  2.04s/it]"
          ]
        },
        {
          "output_type": "stream",
          "name": "stdout",
          "text": [
            "Fetching: https://en.wikipedia.org/wiki/Greater_Pittsburgh#\n"
          ]
        },
        {
          "output_type": "stream",
          "name": "stderr",
          "text": [
            "\r  6%|▌         | 9/156 [00:19<04:10,  1.70s/it]"
          ]
        },
        {
          "output_type": "stream",
          "name": "stdout",
          "text": [
            "Fetching: https://en.wikipedia.org/wiki/Government_of_Pittsburgh\n"
          ]
        },
        {
          "output_type": "stream",
          "name": "stderr",
          "text": [
            "\r  6%|▋         | 10/156 [00:20<03:20,  1.38s/it]"
          ]
        },
        {
          "output_type": "stream",
          "name": "stdout",
          "text": [
            "Fetching: https://en.wikipedia.org/wiki/Transportation_in_Pittsburgh\n"
          ]
        },
        {
          "output_type": "stream",
          "name": "stderr",
          "text": [
            "\r  7%|▋         | 11/156 [00:20<02:40,  1.11s/it]"
          ]
        },
        {
          "output_type": "stream",
          "name": "stdout",
          "text": [
            "Fetching: https://en.wikipedia.org/wiki/List_of_colleges_and_universities_in_Pittsburgh\n"
          ]
        },
        {
          "output_type": "stream",
          "name": "stderr",
          "text": [
            "\r  8%|▊         | 12/156 [00:21<02:07,  1.13it/s]"
          ]
        },
        {
          "output_type": "stream",
          "name": "stdout",
          "text": [
            "Fetching: https://en.wikipedia.org/wiki/Timeline_of_Pittsburgh\n"
          ]
        },
        {
          "output_type": "stream",
          "name": "stderr",
          "text": [
            "\r  8%|▊         | 13/156 [00:21<01:51,  1.28it/s]"
          ]
        },
        {
          "output_type": "stream",
          "name": "stdout",
          "text": [
            "Fetching: https://en.wikipedia.org/wiki/List_of_people_from_Pittsburgh\n"
          ]
        },
        {
          "output_type": "stream",
          "name": "stderr",
          "text": [
            "\r  9%|▉         | 14/156 [00:22<02:04,  1.14it/s]"
          ]
        },
        {
          "output_type": "stream",
          "name": "stdout",
          "text": [
            "Fetching: https://en.wikipedia.org/wiki/List_of_corporations_in_Pittsburgh\n"
          ]
        },
        {
          "output_type": "stream",
          "name": "stderr",
          "text": [
            "\r 10%|▉         | 15/156 [00:23<01:51,  1.26it/s]"
          ]
        },
        {
          "output_type": "stream",
          "name": "stdout",
          "text": [
            "Fetching: https://pittsburghpa.gov/pittsburgh/pgh-sports\n",
            "Attempt 1 failed: 404 Client Error: Not Found for url: https://www.pittsburghpa.gov/pittsburgh/pgh-sports\n",
            "Attempt 2 failed: 404 Client Error: Not Found for url: https://www.pittsburghpa.gov/pittsburgh/pgh-sports\n",
            "Attempt 3 failed: 404 Client Error: Not Found for url: https://www.pittsburghpa.gov/pittsburgh/pgh-sports\n"
          ]
        },
        {
          "output_type": "stream",
          "name": "stderr",
          "text": [
            "\r 10%|█         | 16/156 [00:26<03:45,  1.61s/it]"
          ]
        },
        {
          "output_type": "stream",
          "name": "stdout",
          "text": [
            "Failed to parse URL at index: 15, URL: https://pittsburghpa.gov/pittsburgh/pgh-sports\n",
            "Fetching: https://pittsburghpa.gov/pittsburgh/cultural-activities\n",
            "Attempt 1 failed: 404 Client Error: Not Found for url: https://www.pittsburghpa.gov/pittsburgh/cultural-activities\n",
            "Attempt 2 failed: 404 Client Error: Not Found for url: https://www.pittsburghpa.gov/pittsburgh/cultural-activities\n",
            "Attempt 3 failed: 404 Client Error: Not Found for url: https://www.pittsburghpa.gov/pittsburgh/cultural-activities\n"
          ]
        },
        {
          "output_type": "stream",
          "name": "stderr",
          "text": [
            "\r 11%|█         | 17/156 [00:30<05:02,  2.17s/it]"
          ]
        },
        {
          "output_type": "stream",
          "name": "stdout",
          "text": [
            "Failed to parse URL at index: 16, URL: https://pittsburghpa.gov/pittsburgh/cultural-activities\n",
            "Fetching: https://www.cmu.edu/about/\n"
          ]
        },
        {
          "output_type": "stream",
          "name": "stderr",
          "text": [
            "\r 12%|█▏        | 18/156 [00:31<04:07,  1.79s/it]"
          ]
        },
        {
          "output_type": "stream",
          "name": "stdout",
          "text": [
            "Fetching: https://www.cmu.edu/global/\n"
          ]
        },
        {
          "output_type": "stream",
          "name": "stderr",
          "text": [
            "\r 12%|█▏        | 19/156 [00:32<03:27,  1.51s/it]"
          ]
        },
        {
          "output_type": "stream",
          "name": "stdout",
          "text": [
            "Fetching: https://en.wikipedia.org/wiki/Carnegie_Mellon_University\n"
          ]
        },
        {
          "output_type": "stream",
          "name": "stderr",
          "text": [
            "\r 13%|█▎        | 20/156 [00:32<02:46,  1.23s/it]"
          ]
        },
        {
          "output_type": "stream",
          "name": "stdout",
          "text": [
            "Fetching: https://www.cmu.edu/student-admission/index.html\n"
          ]
        },
        {
          "output_type": "stream",
          "name": "stderr",
          "text": [
            "\r 13%|█▎        | 21/156 [00:33<02:13,  1.01it/s]"
          ]
        },
        {
          "output_type": "stream",
          "name": "stdout",
          "text": [
            "Fetching: https://www.cmu.edu/admission/\n"
          ]
        },
        {
          "output_type": "stream",
          "name": "stderr",
          "text": [
            "\r 14%|█▍        | 22/156 [00:33<02:04,  1.07it/s]"
          ]
        },
        {
          "output_type": "stream",
          "name": "stdout",
          "text": [
            "Fetching: https://www.cmu.edu/graduate/prospective/index.html\n"
          ]
        },
        {
          "output_type": "stream",
          "name": "stderr",
          "text": [
            "\r 15%|█▍        | 23/156 [00:34<01:42,  1.30it/s]"
          ]
        },
        {
          "output_type": "stream",
          "name": "stdout",
          "text": [
            "Fetching: https://www.cmu.edu/leadership/\n"
          ]
        },
        {
          "output_type": "stream",
          "name": "stderr",
          "text": [
            "\r 15%|█▌        | 24/156 [00:34<01:30,  1.46it/s]"
          ]
        },
        {
          "output_type": "stream",
          "name": "stdout",
          "text": [
            "Fetching: https://www.cmu.edu/strategic-plan/\n"
          ]
        },
        {
          "output_type": "stream",
          "name": "stderr",
          "text": [
            "\r 16%|█▌        | 25/156 [00:35<01:20,  1.63it/s]"
          ]
        },
        {
          "output_type": "stream",
          "name": "stdout",
          "text": [
            "Fetching: https://www.cmu.edu/strategic-plan/about/vision-mission.html\n"
          ]
        },
        {
          "output_type": "stream",
          "name": "stderr",
          "text": [
            "\r 17%|█▋        | 26/156 [00:35<01:16,  1.71it/s]"
          ]
        },
        {
          "output_type": "stream",
          "name": "stdout",
          "text": [
            "Fetching: https://www.cmu.edu/strategic-plan/about/values.html\n"
          ]
        },
        {
          "output_type": "stream",
          "name": "stderr",
          "text": [
            "\r 17%|█▋        | 27/156 [00:36<01:10,  1.82it/s]"
          ]
        },
        {
          "output_type": "stream",
          "name": "stdout",
          "text": [
            "Fetching: https://www.cmu.edu/diversity/\n"
          ]
        },
        {
          "output_type": "stream",
          "name": "stderr",
          "text": [
            "\r 18%|█▊        | 28/156 [00:36<01:13,  1.74it/s]"
          ]
        },
        {
          "output_type": "stream",
          "name": "stdout",
          "text": [
            "Fetching: https://en.wikipedia.org/wiki/Carnegie_Mellon_University_traditions\n"
          ]
        },
        {
          "output_type": "stream",
          "name": "stderr",
          "text": [
            "\r 19%|█▊        | 29/156 [00:37<01:25,  1.49it/s]"
          ]
        },
        {
          "output_type": "stream",
          "name": "stdout",
          "text": [
            "Fetching: https://www.cmu.edu/about/rankings.html\n"
          ]
        },
        {
          "output_type": "stream",
          "name": "stderr",
          "text": [
            "\r 19%|█▉        | 30/156 [00:38<01:16,  1.65it/s]"
          ]
        },
        {
          "output_type": "stream",
          "name": "stdout",
          "text": [
            "Fetching: https://www.cmu.edu/about/awards.html\n"
          ]
        },
        {
          "output_type": "stream",
          "name": "stderr",
          "text": [
            "\r 20%|█▉        | 31/156 [00:38<01:15,  1.66it/s]"
          ]
        },
        {
          "output_type": "stream",
          "name": "stdout",
          "text": [
            "Fetching: https://www.cmu.edu/cfa/music/concerts-events/opera-events.html\n"
          ]
        },
        {
          "output_type": "stream",
          "name": "stderr",
          "text": [
            "\r 21%|██        | 32/156 [00:39<01:13,  1.69it/s]"
          ]
        },
        {
          "output_type": "stream",
          "name": "stdout",
          "text": [
            "Fetching: https://www.cmu.edu/cfa/music/concerts-events/index.html\n"
          ]
        },
        {
          "output_type": "stream",
          "name": "stderr",
          "text": [
            "\r 21%|██        | 33/156 [00:39<01:10,  1.75it/s]"
          ]
        },
        {
          "output_type": "stream",
          "name": "stdout",
          "text": [
            "Fetching: https://events.cmu.edu/all\n"
          ]
        },
        {
          "output_type": "stream",
          "name": "stderr",
          "text": [
            "\r 22%|██▏       | 34/156 [00:40<01:14,  1.63it/s]"
          ]
        },
        {
          "output_type": "stream",
          "name": "stdout",
          "text": [
            "Fetching: https://pittsburghmusicals.com/season/\n"
          ]
        },
        {
          "output_type": "stream",
          "name": "stderr",
          "text": [
            "\r 22%|██▏       | 35/156 [00:42<01:43,  1.17it/s]"
          ]
        },
        {
          "output_type": "stream",
          "name": "stdout",
          "text": [
            "Fetching: https://www.chambermusicpittsburgh.org/2024-2025-mainstage-live/\n"
          ]
        },
        {
          "output_type": "stream",
          "name": "stderr",
          "text": [
            "\r 23%|██▎       | 36/156 [00:43<02:18,  1.16s/it]"
          ]
        },
        {
          "output_type": "stream",
          "name": "stdout",
          "text": [
            "Fetching: https://makemusicpittsburgh.org/\n"
          ]
        },
        {
          "output_type": "stream",
          "name": "stderr",
          "text": [
            "\r 24%|██▎       | 37/156 [00:44<02:00,  1.01s/it]"
          ]
        },
        {
          "output_type": "stream",
          "name": "stdout",
          "text": [
            "Fetching: https://en.wikipedia.org/wiki/Pittsburgh_Symphony_Orchestra\n"
          ]
        },
        {
          "output_type": "stream",
          "name": "stderr",
          "text": [
            "\r 24%|██▍       | 38/156 [00:45<01:45,  1.12it/s]"
          ]
        },
        {
          "output_type": "stream",
          "name": "stdout",
          "text": [
            "Fetching: https://www.pittsburghsymphony.org/feed?format=rss\n"
          ]
        },
        {
          "output_type": "stream",
          "name": "stderr",
          "text": [
            "\r 25%|██▌       | 39/156 [00:49<03:37,  1.86s/it]"
          ]
        },
        {
          "output_type": "stream",
          "name": "stdout",
          "text": [
            "Fetching: https://www.pittsburghsymphony.org/pso_home/web/about-landing/melia-p-tourangeau-president\n"
          ]
        },
        {
          "output_type": "stream",
          "name": "stderr",
          "text": [
            "\r 26%|██▌       | 40/156 [00:50<03:18,  1.71s/it]"
          ]
        },
        {
          "output_type": "stream",
          "name": "stdout",
          "text": [
            "Fetching: https://www.pittsburghsymphony.org/pso_home/biographies/pso-conductors/honeck-manfred\n"
          ]
        },
        {
          "output_type": "stream",
          "name": "stderr",
          "text": [
            "\r 26%|██▋       | 41/156 [00:51<02:46,  1.45s/it]"
          ]
        },
        {
          "output_type": "stream",
          "name": "stdout",
          "text": [
            "Fetching: https://www.pittsburghsymphony.org/pso_home/web/musicians\n"
          ]
        },
        {
          "output_type": "stream",
          "name": "stderr",
          "text": [
            "\r 27%|██▋       | 42/156 [00:52<02:35,  1.36s/it]"
          ]
        },
        {
          "output_type": "stream",
          "name": "stdout",
          "text": [
            "Fetching: https://www.pittsburghsymphony.org/pso_home/web/community-landing/learning-programs\n"
          ]
        },
        {
          "output_type": "stream",
          "name": "stderr",
          "text": [
            "\r 28%|██▊       | 43/156 [00:54<02:35,  1.38s/it]"
          ]
        },
        {
          "output_type": "stream",
          "name": "stdout",
          "text": [
            "Fetching: https://www.pittsburghsymphony.org/pso_home/web/subscriptions/why-subscribe-24-25/24-25-fiddlesticks-musical-exploration\n"
          ]
        },
        {
          "output_type": "stream",
          "name": "stderr",
          "text": [
            "\r 28%|██▊       | 44/156 [00:55<02:26,  1.31s/it]"
          ]
        },
        {
          "output_type": "stream",
          "name": "stdout",
          "text": [
            "Fetching: https://www.pittsburghsymphony.org/pso_home/web/community-landing/learning-programs/schooltime-concerts\n"
          ]
        },
        {
          "output_type": "stream",
          "name": "stderr",
          "text": [
            "\r 29%|██▉       | 45/156 [00:56<02:27,  1.33s/it]"
          ]
        },
        {
          "output_type": "stream",
          "name": "stdout",
          "text": [
            "Fetching: https://www.pittsburghsymphony.org/pso_home/web/community-landing/learning-programs/schooltime-concerts/digital-schooltime\n"
          ]
        },
        {
          "output_type": "stream",
          "name": "stderr",
          "text": [
            "\r 29%|██▉       | 46/156 [00:57<02:14,  1.23s/it]"
          ]
        },
        {
          "output_type": "stream",
          "name": "stdout",
          "text": [
            "Fetching: https://www.pittsburghsymphony.org/pso_home/web/give-landing/corporate-partnerships/dining-partners\n"
          ]
        },
        {
          "output_type": "stream",
          "name": "stderr",
          "text": [
            "\r 30%|███       | 47/156 [00:59<02:20,  1.29s/it]"
          ]
        },
        {
          "output_type": "stream",
          "name": "stdout",
          "text": [
            "Fetching: https://www.bandsintown.com/c/pittsburgh-pa?came_from=253&utm_medium=web&utm_source=city_page&utm_campaign=top_event&sort_by_filter=Number+of+RSVPs&concerts=true\n"
          ]
        },
        {
          "output_type": "stream",
          "name": "stderr",
          "text": [
            "\r 31%|███       | 48/156 [01:00<02:11,  1.22s/it]"
          ]
        },
        {
          "output_type": "stream",
          "name": "stdout",
          "text": [
            "Fetching: https://www.visitpittsburgh.com/blog/pittsburgh-music-venues/\n"
          ]
        },
        {
          "output_type": "stream",
          "name": "stderr",
          "text": [
            "\r 31%|███▏      | 49/156 [01:01<02:25,  1.36s/it]"
          ]
        },
        {
          "output_type": "stream",
          "name": "stdout",
          "text": [
            "Fetching: https://en.wikipedia.org/wiki/Pittsburgh_Opera\n"
          ]
        },
        {
          "output_type": "stream",
          "name": "stderr",
          "text": [
            "\r 32%|███▏      | 50/156 [01:02<02:00,  1.14s/it]"
          ]
        },
        {
          "output_type": "stream",
          "name": "stdout",
          "text": [
            "Fetching: https://pittsburghopera.org/about\n"
          ]
        },
        {
          "output_type": "stream",
          "name": "stderr",
          "text": [
            "\r 33%|███▎      | 51/156 [01:03<01:47,  1.03s/it]"
          ]
        },
        {
          "output_type": "stream",
          "name": "stdout",
          "text": [
            "Fetching: https://pittsburghopera.org/about/mission-history\n"
          ]
        },
        {
          "output_type": "stream",
          "name": "stderr",
          "text": [
            "\r 33%|███▎      | 52/156 [01:03<01:33,  1.12it/s]"
          ]
        },
        {
          "output_type": "stream",
          "name": "stdout",
          "text": [
            "Fetching: https://pittsburghopera.org/resident-artists/2024-25resident-artists\n"
          ]
        },
        {
          "output_type": "stream",
          "name": "stderr",
          "text": [
            "\r 34%|███▍      | 53/156 [01:04<01:24,  1.21it/s]"
          ]
        },
        {
          "output_type": "stream",
          "name": "stdout",
          "text": [
            "Fetching: https://pittsburghopera.org/resident-artists/faculty-administration/\n"
          ]
        },
        {
          "output_type": "stream",
          "name": "stderr",
          "text": [
            "\r 35%|███▍      | 54/156 [01:05<01:20,  1.26it/s]"
          ]
        },
        {
          "output_type": "stream",
          "name": "stdout",
          "text": [
            "Fetching: https://pittsburghopera.org/resident-artists/history-alumni/\n"
          ]
        },
        {
          "output_type": "stream",
          "name": "stderr",
          "text": [
            "\r 35%|███▌      | 55/156 [01:05<01:15,  1.35it/s]"
          ]
        },
        {
          "output_type": "stream",
          "name": "stdout",
          "text": [
            "Fetching: https://pittsburghopera.org/our-team/board-of-directors\n"
          ]
        },
        {
          "output_type": "stream",
          "name": "stderr",
          "text": [
            "\r 36%|███▌      | 56/156 [01:06<01:10,  1.42it/s]"
          ]
        },
        {
          "output_type": "stream",
          "name": "stdout",
          "text": [
            "Fetching: https://pittsburghopera.org/our-team/staff\n"
          ]
        },
        {
          "output_type": "stream",
          "name": "stderr",
          "text": [
            "\r 37%|███▋      | 57/156 [01:06<01:08,  1.45it/s]"
          ]
        },
        {
          "output_type": "stream",
          "name": "stdout",
          "text": [
            "Fetching: https://pittsburghopera.org/our-team/orchestra\n"
          ]
        },
        {
          "output_type": "stream",
          "name": "stderr",
          "text": [
            "\r 37%|███▋      | 58/156 [01:07<01:08,  1.42it/s]"
          ]
        },
        {
          "output_type": "stream",
          "name": "stdout",
          "text": [
            "Fetching: https://pittsburghopera.org/our-team/chorus\n"
          ]
        },
        {
          "output_type": "stream",
          "name": "stderr",
          "text": [
            "\r 38%|███▊      | 59/156 [01:08<01:04,  1.51it/s]"
          ]
        },
        {
          "output_type": "stream",
          "name": "stdout",
          "text": [
            "Fetching: https://pittsburghopera.org/facilities/pittsburgh-opera-headquarters/\n"
          ]
        },
        {
          "output_type": "stream",
          "name": "stderr",
          "text": [
            "\r 38%|███▊      | 60/156 [01:09<01:09,  1.38it/s]"
          ]
        },
        {
          "output_type": "stream",
          "name": "stdout",
          "text": [
            "Fetching: https://pittsburghopera.org/support/foundation-support\n"
          ]
        },
        {
          "output_type": "stream",
          "name": "stderr",
          "text": [
            "\r 39%|███▉      | 61/156 [01:09<01:07,  1.40it/s]"
          ]
        },
        {
          "output_type": "stream",
          "name": "stdout",
          "text": [
            "Fetching: https://pittsburghopera.org/support/government-support\n"
          ]
        },
        {
          "output_type": "stream",
          "name": "stderr",
          "text": [
            "\r 40%|███▉      | 62/156 [01:10<01:03,  1.48it/s]"
          ]
        },
        {
          "output_type": "stream",
          "name": "stdout",
          "text": [
            "Fetching: https://pittsburghopera.org/about/inclusion-diversity-equity-accessibility-idea/\n"
          ]
        },
        {
          "output_type": "stream",
          "name": "stderr",
          "text": [
            "\r 40%|████      | 63/156 [01:11<01:08,  1.35it/s]"
          ]
        },
        {
          "output_type": "stream",
          "name": "stdout",
          "text": [
            "Fetching: https://pittsburghopera.org/education/mobile-app\n"
          ]
        },
        {
          "output_type": "stream",
          "name": "stderr",
          "text": [
            "\r 41%|████      | 64/156 [01:11<01:03,  1.44it/s]"
          ]
        },
        {
          "output_type": "stream",
          "name": "stdout",
          "text": [
            "Fetching: https://pittsburghopera.org/education/bravo-academy\n"
          ]
        },
        {
          "output_type": "stream",
          "name": "stderr",
          "text": [
            "\r 42%|████▏     | 65/156 [01:12<01:03,  1.44it/s]"
          ]
        },
        {
          "output_type": "stream",
          "name": "stdout",
          "text": [
            "Fetching: https://pittsburghopera.org/season\n"
          ]
        },
        {
          "output_type": "stream",
          "name": "stderr",
          "text": [
            "\r 42%|████▏     | 66/156 [01:13<01:00,  1.48it/s]"
          ]
        },
        {
          "output_type": "stream",
          "name": "stdout",
          "text": [
            "Fetching: https://pittsburghopera.org/season/tosca\n"
          ]
        },
        {
          "output_type": "stream",
          "name": "stderr",
          "text": [
            "\r 43%|████▎     | 67/156 [01:14<01:05,  1.36it/s]"
          ]
        },
        {
          "output_type": "stream",
          "name": "stdout",
          "text": [
            "Fetching: https://pittsburghopera.org/season/cavalleria-rusticana-pagliacci\n"
          ]
        },
        {
          "output_type": "stream",
          "name": "stderr",
          "text": [
            "\r 44%|████▎     | 68/156 [01:14<01:01,  1.43it/s]"
          ]
        },
        {
          "output_type": "stream",
          "name": "stdout",
          "text": [
            "Fetching: https://pittsburghopera.org/season/armida\n"
          ]
        },
        {
          "output_type": "stream",
          "name": "stderr",
          "text": [
            "\r 44%|████▍     | 69/156 [01:15<01:01,  1.41it/s]"
          ]
        },
        {
          "output_type": "stream",
          "name": "stdout",
          "text": [
            "Fetching: https://pittsburghopera.org/season/madama-butterfly\n"
          ]
        },
        {
          "output_type": "stream",
          "name": "stderr",
          "text": [
            "\r 45%|████▍     | 70/156 [01:16<00:59,  1.45it/s]"
          ]
        },
        {
          "output_type": "stream",
          "name": "stdout",
          "text": [
            "Fetching: https://pittsburghopera.org/season/woman-with-eyes-closed\n"
          ]
        },
        {
          "output_type": "stream",
          "name": "stderr",
          "text": [
            "\r 46%|████▌     | 71/156 [01:16<00:59,  1.42it/s]"
          ]
        },
        {
          "output_type": "stream",
          "name": "stdout",
          "text": [
            "Fetching: https://pittsburghopera.org/calendar?timequery=month&prev=-1&start=1727755200000&end=1730415540000&hsLang=en\n"
          ]
        },
        {
          "output_type": "stream",
          "name": "stderr",
          "text": [
            "\r 46%|████▌     | 72/156 [01:17<01:00,  1.40it/s]"
          ]
        },
        {
          "output_type": "stream",
          "name": "stdout",
          "text": [
            "Fetching: https://pittsburghopera.org/calendar?timequery=month&prev=-1&start=1730433600000&end=1733011140000&hsLang=en\n"
          ]
        },
        {
          "output_type": "stream",
          "name": "stderr",
          "text": [
            "\r 47%|████▋     | 73/156 [01:18<00:53,  1.55it/s]"
          ]
        },
        {
          "output_type": "stream",
          "name": "stdout",
          "text": [
            "Fetching: https://pittsburghopera.org/calendar?timequery=month&prev=-1&start=1733029200000&end=1735689540000&hsLang=en\n"
          ]
        },
        {
          "output_type": "stream",
          "name": "stderr",
          "text": [
            "\r 47%|████▋     | 74/156 [01:18<00:48,  1.69it/s]"
          ]
        },
        {
          "output_type": "stream",
          "name": "stdout",
          "text": [
            "Fetching: https://pittsburghopera.org/calendar?timequery=month&prev=-1&start=1735707600000&end=1738367940000&hsLang=en\n"
          ]
        },
        {
          "output_type": "stream",
          "name": "stderr",
          "text": [
            "\r 48%|████▊     | 75/156 [01:19<00:50,  1.60it/s]"
          ]
        },
        {
          "output_type": "stream",
          "name": "stdout",
          "text": [
            "Fetching: https://pittsburghopera.org/calendar?timequery=month&prev=-1&start=1738386000000&end=1740787140000&hsLang=en\n"
          ]
        },
        {
          "output_type": "stream",
          "name": "stderr",
          "text": [
            "\r 49%|████▊     | 76/156 [01:19<00:46,  1.70it/s]"
          ]
        },
        {
          "output_type": "stream",
          "name": "stdout",
          "text": [
            "Fetching: https://pittsburghopera.org/calendar?timequery=month&prev=-1&start=1740805200000&end=1743461940000&hsLang=en\n"
          ]
        },
        {
          "output_type": "stream",
          "name": "stderr",
          "text": [
            "\r 49%|████▉     | 77/156 [01:20<00:44,  1.76it/s]"
          ]
        },
        {
          "output_type": "stream",
          "name": "stdout",
          "text": [
            "Fetching: https://pittsburghopera.org/calendar?timequery=month&prev=-1&start=1743480000000&end=1746053940000&hsLang=en\n"
          ]
        },
        {
          "output_type": "stream",
          "name": "stderr",
          "text": [
            "\r 50%|█████     | 78/156 [01:20<00:43,  1.77it/s]"
          ]
        },
        {
          "output_type": "stream",
          "name": "stdout",
          "text": [
            "Fetching: https://pittsburghopera.org/calendar?timequery=month&prev=-1&start=1746072000000&end=1748732340000&hsLang=en\n"
          ]
        },
        {
          "output_type": "stream",
          "name": "stderr",
          "text": [
            "\r 51%|█████     | 79/156 [01:21<00:43,  1.78it/s]"
          ]
        },
        {
          "output_type": "stream",
          "name": "stdout",
          "text": [
            "Fetching: https://pittsburghopera.org/season/special-events\n"
          ]
        },
        {
          "output_type": "stream",
          "name": "stderr",
          "text": [
            "\r 51%|█████▏    | 80/156 [01:22<00:45,  1.65it/s]"
          ]
        },
        {
          "output_type": "stream",
          "name": "stdout",
          "text": [
            "Fetching: https://pittsburghopera.org/education/educators\n"
          ]
        },
        {
          "output_type": "stream",
          "name": "stderr",
          "text": [
            "\r 52%|█████▏    | 81/156 [01:22<00:41,  1.82it/s]"
          ]
        },
        {
          "output_type": "stream",
          "name": "stdout",
          "text": [
            "Fetching: https://pittsburghopera.org/education/students\n"
          ]
        },
        {
          "output_type": "stream",
          "name": "stderr",
          "text": [
            "\r 53%|█████▎    | 82/156 [01:23<00:47,  1.56it/s]"
          ]
        },
        {
          "output_type": "stream",
          "name": "stdout",
          "text": [
            "Fetching: https://www.pghcitypaper.com/pittsburgh/EventSearch?v=d\n"
          ]
        },
        {
          "output_type": "stream",
          "name": "stderr",
          "text": [
            "\r 53%|█████▎    | 83/156 [01:32<03:46,  3.11s/it]"
          ]
        },
        {
          "output_type": "stream",
          "name": "stdout",
          "text": [
            "Fetching: https://downtownpittsburgh.com/events/?n=1&y=2025&cat=0\n"
          ]
        },
        {
          "output_type": "stream",
          "name": "stderr",
          "text": [
            "\r 54%|█████▍    | 84/156 [01:38<04:43,  3.94s/it]"
          ]
        },
        {
          "output_type": "stream",
          "name": "stdout",
          "text": [
            "Fetching: https://downtownpittsburgh.com/events/?n=12&y=2024&cat=0\n",
            "Attempt 1 failed: HTTPSConnectionPool(host='downtownpittsburgh.com', port=443): Read timed out. (read timeout=5)\n",
            "Attempt 2 failed: HTTPSConnectionPool(host='downtownpittsburgh.com', port=443): Read timed out. (read timeout=5)\n",
            "Attempt 3 failed: HTTPSConnectionPool(host='downtownpittsburgh.com', port=443): Read timed out. (read timeout=5)\n"
          ]
        },
        {
          "output_type": "stream",
          "name": "stderr",
          "text": [
            "\r 54%|█████▍    | 85/156 [01:56<09:49,  8.30s/it]"
          ]
        },
        {
          "output_type": "stream",
          "name": "stdout",
          "text": [
            "Failed to parse URL at index: 84, URL: https://downtownpittsburgh.com/events/?n=12&y=2024&cat=0\n",
            "Fetching: https://downtownpittsburgh.com/events/?n=11&y=2024&cat=0\n",
            "Attempt 1 failed: HTTPSConnectionPool(host='downtownpittsburgh.com', port=443): Read timed out. (read timeout=5)\n",
            "Attempt 2 failed: HTTPSConnectionPool(host='downtownpittsburgh.com', port=443): Read timed out. (read timeout=5)\n",
            "Attempt 3 failed: HTTPSConnectionPool(host='downtownpittsburgh.com', port=443): Read timed out. (read timeout=5)\n"
          ]
        },
        {
          "output_type": "stream",
          "name": "stderr",
          "text": [
            "\r 55%|█████▌    | 86/156 [02:15<13:20, 11.43s/it]"
          ]
        },
        {
          "output_type": "stream",
          "name": "stdout",
          "text": [
            "Failed to parse URL at index: 85, URL: https://downtownpittsburgh.com/events/?n=11&y=2024&cat=0\n",
            "Fetching: https://downtownpittsburgh.com/events/?n=10&y=2024&cat=0\n",
            "Attempt 1 failed: HTTPSConnectionPool(host='downtownpittsburgh.com', port=443): Read timed out. (read timeout=5)\n",
            "Attempt 2 failed: HTTPSConnectionPool(host='downtownpittsburgh.com', port=443): Read timed out. (read timeout=5)\n",
            "Attempt 3 failed: HTTPSConnectionPool(host='downtownpittsburgh.com', port=443): Read timed out. (read timeout=5)\n"
          ]
        },
        {
          "output_type": "stream",
          "name": "stderr",
          "text": [
            "\r 56%|█████▌    | 87/156 [02:33<15:38, 13.60s/it]"
          ]
        },
        {
          "output_type": "stream",
          "name": "stdout",
          "text": [
            "Failed to parse URL at index: 86, URL: https://downtownpittsburgh.com/events/?n=10&y=2024&cat=0\n",
            "Fetching: https://pittsburgh.events/october/\n"
          ]
        },
        {
          "output_type": "stream",
          "name": "stderr",
          "text": [
            "\r 56%|█████▋    | 88/156 [02:36<11:34, 10.21s/it]"
          ]
        },
        {
          "output_type": "stream",
          "name": "stdout",
          "text": [
            "Fetching: https://pittsburgh.events/november/\n"
          ]
        },
        {
          "output_type": "stream",
          "name": "stderr",
          "text": [
            "\r 57%|█████▋    | 89/156 [02:38<08:39,  7.75s/it]"
          ]
        },
        {
          "output_type": "stream",
          "name": "stdout",
          "text": [
            "Fetching: https://pittsburgh.events/december/\n"
          ]
        },
        {
          "output_type": "stream",
          "name": "stderr",
          "text": [
            "\r 58%|█████▊    | 90/156 [02:40<06:34,  5.97s/it]"
          ]
        },
        {
          "output_type": "stream",
          "name": "stdout",
          "text": [
            "Fetching: https://pittsburgh.events/january/\n"
          ]
        },
        {
          "output_type": "stream",
          "name": "stderr",
          "text": [
            "\r 58%|█████▊    | 91/156 [02:41<05:05,  4.70s/it]"
          ]
        },
        {
          "output_type": "stream",
          "name": "stdout",
          "text": [
            "Fetching: https://pittsburgh.events/february/\n"
          ]
        },
        {
          "output_type": "stream",
          "name": "stderr",
          "text": [
            "\r 59%|█████▉    | 92/156 [02:43<04:03,  3.80s/it]"
          ]
        },
        {
          "output_type": "stream",
          "name": "stdout",
          "text": [
            "Fetching: https://pittsburgh.events/march/\n"
          ]
        },
        {
          "output_type": "stream",
          "name": "stderr",
          "text": [
            "\r 60%|█████▉    | 93/156 [02:45<03:22,  3.21s/it]"
          ]
        },
        {
          "output_type": "stream",
          "name": "stdout",
          "text": [
            "Fetching: https://pittsburgh.events/april/\n"
          ]
        },
        {
          "output_type": "stream",
          "name": "stderr",
          "text": [
            "\r 60%|██████    | 94/156 [02:47<02:53,  2.80s/it]"
          ]
        },
        {
          "output_type": "stream",
          "name": "stdout",
          "text": [
            "Fetching: https://pittsburgh.events/may/\n"
          ]
        },
        {
          "output_type": "stream",
          "name": "stderr",
          "text": [
            "\r 61%|██████    | 95/156 [02:49<02:33,  2.52s/it]"
          ]
        },
        {
          "output_type": "stream",
          "name": "stdout",
          "text": [
            "Fetching: https://pittsburgh.events/june/\n"
          ]
        },
        {
          "output_type": "stream",
          "name": "stderr",
          "text": [
            "\r 62%|██████▏   | 96/156 [02:50<02:20,  2.34s/it]"
          ]
        },
        {
          "output_type": "stream",
          "name": "stdout",
          "text": [
            "Fetching: https://pittsburgh.events/july/\n"
          ]
        },
        {
          "output_type": "stream",
          "name": "stderr",
          "text": [
            "\r 62%|██████▏   | 97/156 [02:52<02:05,  2.13s/it]"
          ]
        },
        {
          "output_type": "stream",
          "name": "stdout",
          "text": [
            "Fetching: https://pittsburgh.events/august/\n"
          ]
        },
        {
          "output_type": "stream",
          "name": "stderr",
          "text": [
            "\r 63%|██████▎   | 98/156 [02:54<02:05,  2.17s/it]"
          ]
        },
        {
          "output_type": "stream",
          "name": "stdout",
          "text": [
            "Fetching: https://pittsburgh.events/september/\n"
          ]
        },
        {
          "output_type": "stream",
          "name": "stderr",
          "text": [
            "\r 63%|██████▎   | 99/156 [02:56<02:00,  2.11s/it]"
          ]
        },
        {
          "output_type": "stream",
          "name": "stdout",
          "text": [
            "Fetching: https://www.visitpittsburgh.com/things-to-do/pittsburgh-sports-teams/\n"
          ]
        },
        {
          "output_type": "stream",
          "name": "stderr",
          "text": [
            "\r 64%|██████▍   | 100/156 [02:58<01:54,  2.04s/it]"
          ]
        },
        {
          "output_type": "stream",
          "name": "stdout",
          "text": [
            "Fetching: https://www.visitpittsburgh.com/things-to-do/pittsburgh-sports-teams/pittsburgh-steelers/\n"
          ]
        },
        {
          "output_type": "stream",
          "name": "stderr",
          "text": [
            "\r 65%|██████▍   | 101/156 [03:00<01:40,  1.83s/it]"
          ]
        },
        {
          "output_type": "stream",
          "name": "stdout",
          "text": [
            "Fetching: https://www.visitpittsburgh.com/things-to-do/pittsburgh-sports-teams/pittsburgh-pirates/\n"
          ]
        },
        {
          "output_type": "stream",
          "name": "stderr",
          "text": [
            "\r 65%|██████▌   | 102/156 [03:01<01:28,  1.64s/it]"
          ]
        },
        {
          "output_type": "stream",
          "name": "stdout",
          "text": [
            "Fetching: https://www.visitpittsburgh.com/things-to-do/pittsburgh-sports-teams/pittsburgh-penguins/\n"
          ]
        },
        {
          "output_type": "stream",
          "name": "stderr",
          "text": [
            "\r 66%|██████▌   | 103/156 [03:02<01:21,  1.53s/it]"
          ]
        },
        {
          "output_type": "stream",
          "name": "stdout",
          "text": [
            "Fetching: https://www.visitpittsburgh.com/things-to-do/pittsburgh-sports-teams/college-sports/\n"
          ]
        },
        {
          "output_type": "stream",
          "name": "stderr",
          "text": [
            "\r 67%|██████▋   | 104/156 [03:03<01:14,  1.43s/it]"
          ]
        },
        {
          "output_type": "stream",
          "name": "stdout",
          "text": [
            "Fetching: https://www.visitpittsburgh.com/things-to-do/pittsburgh-sports-teams/other-sports-teams/\n"
          ]
        },
        {
          "output_type": "stream",
          "name": "stderr",
          "text": [
            "\r 67%|██████▋   | 105/156 [03:04<01:08,  1.34s/it]"
          ]
        },
        {
          "output_type": "stream",
          "name": "stdout",
          "text": [
            "Fetching: https://www.visitpittsburgh.com/things-to-do/pittsburgh-sports-teams/terrible-towel/\n"
          ]
        },
        {
          "output_type": "stream",
          "name": "stderr",
          "text": [
            "\r 68%|██████▊   | 106/156 [03:06<01:05,  1.30s/it]"
          ]
        },
        {
          "output_type": "stream",
          "name": "stdout",
          "text": [
            "Fetching: https://www.visitpittsburgh.com/things-to-do/pittsburgh-sports-teams/pittsburgh-riverhounds/\n"
          ]
        },
        {
          "output_type": "stream",
          "name": "stderr",
          "text": [
            "\r 69%|██████▊   | 107/156 [03:07<01:01,  1.26s/it]"
          ]
        },
        {
          "output_type": "stream",
          "name": "stdout",
          "text": [
            "Fetching: https://www.visitpittsburgh.com/blog/steelers-hall-of-honor-museum/\n"
          ]
        },
        {
          "output_type": "stream",
          "name": "stderr",
          "text": [
            "\r 69%|██████▉   | 108/156 [03:08<00:55,  1.16s/it]"
          ]
        },
        {
          "output_type": "stream",
          "name": "stdout",
          "text": [
            "Fetching: https://www.visitpittsburgh.com/blog/guide-to-acrisure-stadium-for-steelers-fans/\n"
          ]
        },
        {
          "output_type": "stream",
          "name": "stderr",
          "text": [
            "\r 70%|██████▉   | 109/156 [03:09<00:51,  1.10s/it]"
          ]
        },
        {
          "output_type": "stream",
          "name": "stdout",
          "text": [
            "Fetching: https://www.visitpittsburgh.com/blog/what-to-eat-at-pnc-park/\n"
          ]
        },
        {
          "output_type": "stream",
          "name": "stderr",
          "text": [
            "\r 71%|███████   | 110/156 [03:10<00:54,  1.18s/it]"
          ]
        },
        {
          "output_type": "stream",
          "name": "stdout",
          "text": [
            "Fetching: https://www.visitpittsburgh.com/blog/ppg-paints-arena-penguins-guide/\n"
          ]
        },
        {
          "output_type": "stream",
          "name": "stderr",
          "text": [
            "\r 71%|███████   | 111/156 [03:11<00:51,  1.14s/it]"
          ]
        },
        {
          "output_type": "stream",
          "name": "stdout",
          "text": [
            "Fetching: https://www.steelers.com/\n"
          ]
        },
        {
          "output_type": "stream",
          "name": "stderr",
          "text": [
            "\r 72%|███████▏  | 112/156 [03:12<00:44,  1.01s/it]"
          ]
        },
        {
          "output_type": "stream",
          "name": "stdout",
          "text": [
            "Fetching: https://www.steelers.com/schedule/\n"
          ]
        },
        {
          "output_type": "stream",
          "name": "stderr",
          "text": [
            "\r 72%|███████▏  | 113/156 [03:12<00:38,  1.12it/s]"
          ]
        },
        {
          "output_type": "stream",
          "name": "stdout",
          "text": [
            "Fetching: https://en.wikipedia.org/wiki/Myron_Cope\n"
          ]
        },
        {
          "output_type": "stream",
          "name": "stderr",
          "text": [
            "\r 73%|███████▎  | 114/156 [03:14<00:40,  1.04it/s]"
          ]
        },
        {
          "output_type": "stream",
          "name": "stdout",
          "text": [
            "Fetching: https://www.dkpittsburghsports.com/\n"
          ]
        },
        {
          "output_type": "stream",
          "name": "stderr",
          "text": [
            "\r 74%|███████▎  | 115/156 [03:14<00:37,  1.10it/s]"
          ]
        },
        {
          "output_type": "stream",
          "name": "stdout",
          "text": [
            "Fetching: https://en.wikipedia.org/wiki/Sports_in_Pittsburgh\n"
          ]
        },
        {
          "output_type": "stream",
          "name": "stderr",
          "text": [
            "\r 74%|███████▍  | 116/156 [03:15<00:34,  1.16it/s]"
          ]
        },
        {
          "output_type": "stream",
          "name": "stdout",
          "text": [
            "Fetching: https://www.nytimes.com/athletic/location/pittsburgh/\n"
          ]
        },
        {
          "output_type": "stream",
          "name": "stderr",
          "text": [
            "\r 75%|███████▌  | 117/156 [03:17<00:41,  1.07s/it]"
          ]
        },
        {
          "output_type": "stream",
          "name": "stdout",
          "text": [
            "Fetching: https://athletics.cmu.edu/landing/index\n"
          ]
        },
        {
          "output_type": "stream",
          "name": "stderr",
          "text": [
            "\r 76%|███████▌  | 118/156 [03:18<00:48,  1.29s/it]"
          ]
        },
        {
          "output_type": "stream",
          "name": "stdout",
          "text": [
            "Fetching: https://athletics.cmu.edu/sports/mbkb/index\n"
          ]
        },
        {
          "output_type": "stream",
          "name": "stderr",
          "text": [
            "\r 76%|███████▋  | 119/156 [03:20<00:47,  1.29s/it]"
          ]
        },
        {
          "output_type": "stream",
          "name": "stdout",
          "text": [
            "Fetching: https://athletics.cmu.edu/sports/mbkb/2024-25/schedule\n"
          ]
        },
        {
          "output_type": "stream",
          "name": "stderr",
          "text": [
            "\r 77%|███████▋  | 120/156 [03:21<00:44,  1.23s/it]"
          ]
        },
        {
          "output_type": "stream",
          "name": "stdout",
          "text": [
            "Fetching: https://x.com/tartanathletics?lang=en\n",
            "Attempt 1 failed: 400 Client Error: Bad Request for url: https://x.com/tartanathletics?lang=en\n",
            "Attempt 2 failed: 400 Client Error: Bad Request for url: https://x.com/tartanathletics?lang=en\n",
            "Attempt 3 failed: 400 Client Error: Bad Request for url: https://x.com/tartanathletics?lang=en\n"
          ]
        },
        {
          "output_type": "stream",
          "name": "stderr",
          "text": [
            "\r 78%|███████▊  | 121/156 [03:24<01:03,  1.83s/it]"
          ]
        },
        {
          "output_type": "stream",
          "name": "stdout",
          "text": [
            "Failed to parse URL at index: 120, URL: https://x.com/tartanathletics?lang=en\n",
            "Fetching: https://trustarts.org/\n"
          ]
        },
        {
          "output_type": "stream",
          "name": "stderr",
          "text": [
            "\r 78%|███████▊  | 122/156 [03:25<00:55,  1.63s/it]"
          ]
        },
        {
          "output_type": "stream",
          "name": "stdout",
          "text": [
            "Fetching: https://trustarts.org/pct_home/blog\n"
          ]
        },
        {
          "output_type": "stream",
          "name": "stderr",
          "text": [
            "\r 79%|███████▉  | 123/156 [03:28<01:00,  1.84s/it]"
          ]
        },
        {
          "output_type": "stream",
          "name": "stdout",
          "text": [
            "Fetching: https://trustarts.org/pct_home/about\n"
          ]
        },
        {
          "output_type": "stream",
          "name": "stderr",
          "text": [
            "\r 79%|███████▉  | 124/156 [03:29<00:51,  1.60s/it]"
          ]
        },
        {
          "output_type": "stream",
          "name": "stdout",
          "text": [
            "Fetching: https://trustarts.org/pct_home/about/history\n"
          ]
        },
        {
          "output_type": "stream",
          "name": "stderr",
          "text": [
            "\r 80%|████████  | 125/156 [03:30<00:45,  1.47s/it]"
          ]
        },
        {
          "output_type": "stream",
          "name": "stdout",
          "text": [
            "Fetching: https://trustarts.org/pct_home/about/cultural-district\n"
          ]
        },
        {
          "output_type": "stream",
          "name": "stderr",
          "text": [
            "\r 81%|████████  | 126/156 [03:30<00:36,  1.23s/it]"
          ]
        },
        {
          "output_type": "stream",
          "name": "stdout",
          "text": [
            "Fetching: https://trustarts.org/pct_home/visual-arts\n"
          ]
        },
        {
          "output_type": "stream",
          "name": "stderr",
          "text": [
            "\r 81%|████████▏ | 127/156 [03:32<00:37,  1.28s/it]"
          ]
        },
        {
          "output_type": "stream",
          "name": "stdout",
          "text": [
            "Fetching: https://en.wikipedia.org/wiki/Pittsburgh_Cultural_Trust\n"
          ]
        },
        {
          "output_type": "stream",
          "name": "stderr",
          "text": [
            "\r 82%|████████▏ | 128/156 [03:32<00:29,  1.05s/it]"
          ]
        },
        {
          "output_type": "stream",
          "name": "stdout",
          "text": [
            "Fetching: https://carnegiemuseums.org/\n"
          ]
        },
        {
          "output_type": "stream",
          "name": "stderr",
          "text": [
            "\r 83%|████████▎ | 129/156 [03:33<00:27,  1.01s/it]"
          ]
        },
        {
          "output_type": "stream",
          "name": "stdout",
          "text": [
            "Fetching: https://carnegiemuseums.org/events/?start_date=2024-10-27&end_date=2025-11-29\n"
          ]
        },
        {
          "output_type": "stream",
          "name": "stderr",
          "text": [
            "\r 83%|████████▎ | 130/156 [03:34<00:26,  1.01s/it]"
          ]
        },
        {
          "output_type": "stream",
          "name": "stdout",
          "text": [
            "Fetching: https://en.wikipedia.org/wiki/Carnegie_Museums_of_Pittsburgh\n"
          ]
        },
        {
          "output_type": "stream",
          "name": "stderr",
          "text": [
            "\r 84%|████████▍ | 131/156 [03:35<00:23,  1.07it/s]"
          ]
        },
        {
          "output_type": "stream",
          "name": "stdout",
          "text": [
            "Fetching: https://en.wikipedia.org/wiki/Carnegie_Museum_of_Art\n"
          ]
        },
        {
          "output_type": "stream",
          "name": "stderr",
          "text": [
            "\r 85%|████████▍ | 132/156 [03:36<00:19,  1.21it/s]"
          ]
        },
        {
          "output_type": "stream",
          "name": "stdout",
          "text": [
            "Fetching: https://carnegiemuseums.org/about-us/our-history/\n"
          ]
        },
        {
          "output_type": "stream",
          "name": "stderr",
          "text": [
            "\r 85%|████████▌ | 133/156 [03:36<00:17,  1.30it/s]"
          ]
        },
        {
          "output_type": "stream",
          "name": "stdout",
          "text": [
            "Fetching: https://carnegiemnh.org/\n"
          ]
        },
        {
          "output_type": "stream",
          "name": "stderr",
          "text": [
            "\r 86%|████████▌ | 134/156 [03:38<00:21,  1.04it/s]"
          ]
        },
        {
          "output_type": "stream",
          "name": "stdout",
          "text": [
            "Fetching: https://carnegieart.org/\n"
          ]
        },
        {
          "output_type": "stream",
          "name": "stderr",
          "text": [
            "\r 87%|████████▋ | 135/156 [03:39<00:21,  1.04s/it]"
          ]
        },
        {
          "output_type": "stream",
          "name": "stdout",
          "text": [
            "Fetching: https://en.wikipedia.org/wiki/Carnegie_Museum_of_Natural_History\n"
          ]
        },
        {
          "output_type": "stream",
          "name": "stderr",
          "text": [
            "\r 87%|████████▋ | 136/156 [03:40<00:19,  1.00it/s]"
          ]
        },
        {
          "output_type": "stream",
          "name": "stdout",
          "text": [
            "Fetching: https://en.wikipedia.org/wiki/Heinz_History_Center\n"
          ]
        },
        {
          "output_type": "stream",
          "name": "stderr",
          "text": [
            "\r 88%|████████▊ | 137/156 [03:41<00:17,  1.06it/s]"
          ]
        },
        {
          "output_type": "stream",
          "name": "stdout",
          "text": [
            "Fetching: https://www.heinzhistorycenter.org/\n"
          ]
        },
        {
          "output_type": "stream",
          "name": "stderr",
          "text": [
            "\r 88%|████████▊ | 138/156 [03:41<00:15,  1.18it/s]"
          ]
        },
        {
          "output_type": "stream",
          "name": "stdout",
          "text": [
            "Fetching: https://www.thefrickpittsburgh.org/\n"
          ]
        },
        {
          "output_type": "stream",
          "name": "stderr",
          "text": [
            "\r 89%|████████▉ | 139/156 [03:42<00:16,  1.01it/s]"
          ]
        },
        {
          "output_type": "stream",
          "name": "stdout",
          "text": [
            "Fetching: https://en.wikipedia.org/wiki/The_Frick_Pittsburgh#:~:text=The%20Frick%20Pittsburgh%20is%20a,residence%20known%20as%20%22Clayton%22.\n"
          ]
        },
        {
          "output_type": "stream",
          "name": "stderr",
          "text": [
            "\r 90%|████████▉ | 140/156 [03:44<00:16,  1.04s/it]"
          ]
        },
        {
          "output_type": "stream",
          "name": "stdout",
          "text": [
            "Fetching: https://www.visitpittsburgh.com/events-festivals/food-festivals/\n"
          ]
        },
        {
          "output_type": "stream",
          "name": "stderr",
          "text": [
            "\r 90%|█████████ | 141/156 [03:45<00:18,  1.23s/it]"
          ]
        },
        {
          "output_type": "stream",
          "name": "stdout",
          "text": [
            "Fetching: https://www.picklesburgh.com/\n"
          ]
        },
        {
          "output_type": "stream",
          "name": "stderr",
          "text": [
            "\r 91%|█████████ | 142/156 [03:46<00:14,  1.01s/it]"
          ]
        },
        {
          "output_type": "stream",
          "name": "stdout",
          "text": [
            "Fetching: https://www.picklesburgh.com/vendors/\n"
          ]
        },
        {
          "output_type": "stream",
          "name": "stderr",
          "text": [
            "\r 92%|█████████▏| 143/156 [03:47<00:14,  1.09s/it]"
          ]
        },
        {
          "output_type": "stream",
          "name": "stdout",
          "text": [
            "Fetching: https://www.pghtacofest.com/about\n"
          ]
        },
        {
          "output_type": "stream",
          "name": "stderr",
          "text": [
            "\r 92%|█████████▏| 144/156 [03:48<00:11,  1.04it/s]"
          ]
        },
        {
          "output_type": "stream",
          "name": "stdout",
          "text": [
            "Fetching: https://pittsburghrestaurantweek.com/\n"
          ]
        },
        {
          "output_type": "stream",
          "name": "stderr",
          "text": [
            "\r 93%|█████████▎| 145/156 [03:48<00:09,  1.14it/s]"
          ]
        },
        {
          "output_type": "stream",
          "name": "stdout",
          "text": [
            "Fetching: https://pittsburghrestaurantweek.com/restaurants/summer-2024-restaurants/\n"
          ]
        },
        {
          "output_type": "stream",
          "name": "stderr",
          "text": [
            "\r 94%|█████████▎| 146/156 [03:50<00:10,  1.03s/it]"
          ]
        },
        {
          "output_type": "stream",
          "name": "stdout",
          "text": [
            "Fetching: https://littleitalydays.com/\n"
          ]
        },
        {
          "output_type": "stream",
          "name": "stderr",
          "text": [
            "\r 94%|█████████▍| 147/156 [03:51<00:09,  1.01s/it]"
          ]
        },
        {
          "output_type": "stream",
          "name": "stdout",
          "text": [
            "Fetching: https://littleitalydays.com/about-us/\n"
          ]
        },
        {
          "output_type": "stream",
          "name": "stderr",
          "text": [
            "\r 95%|█████████▍| 148/156 [03:51<00:06,  1.17it/s]"
          ]
        },
        {
          "output_type": "stream",
          "name": "stdout",
          "text": [
            "Fetching: https://bananasplitfest.com/\n"
          ]
        },
        {
          "output_type": "stream",
          "name": "stderr",
          "text": [
            "\r 96%|█████████▌| 149/156 [03:52<00:05,  1.31it/s]"
          ]
        },
        {
          "output_type": "stream",
          "name": "stdout",
          "text": [
            "Fetching: https://bananasplitfest.com/events/\n"
          ]
        },
        {
          "output_type": "stream",
          "name": "stderr",
          "text": [
            "\r 96%|█████████▌| 150/156 [03:53<00:05,  1.09it/s]"
          ]
        },
        {
          "output_type": "stream",
          "name": "stdout",
          "text": [
            "Fetching: https://en.wikipedia.org/wiki/Picklesburgh\n"
          ]
        },
        {
          "output_type": "stream",
          "name": "stderr",
          "text": [
            "\r 97%|█████████▋| 151/156 [03:53<00:03,  1.34it/s]"
          ]
        },
        {
          "output_type": "stream",
          "name": "stdout",
          "text": [
            "Fetching: https://pittsburghpa.gov/mayor/city-staff\n",
            "Attempt 1 failed: 404 Client Error: Not Found for url: https://www.pittsburghpa.gov/mayor/city-staff\n",
            "Attempt 2 failed: 404 Client Error: Not Found for url: https://www.pittsburghpa.gov/mayor/city-staff\n",
            "Attempt 3 failed: 404 Client Error: Not Found for url: https://www.pittsburghpa.gov/mayor/city-staff\n"
          ]
        },
        {
          "output_type": "stream",
          "name": "stderr",
          "text": [
            "\r 97%|█████████▋| 152/156 [03:58<00:07,  1.78s/it]"
          ]
        },
        {
          "output_type": "stream",
          "name": "stdout",
          "text": [
            "Failed to parse URL at index: 151, URL: https://pittsburghpa.gov/mayor/city-staff\n",
            "Fetching: https://pittsburghpa.gov/finance/tax-descriptions\n",
            "Attempt 1 failed: 404 Client Error: Not Found for url: https://www.pittsburghpa.gov/finance/tax-descriptions\n",
            "Attempt 2 failed: 404 Client Error: Not Found for url: https://www.pittsburghpa.gov/finance/tax-descriptions\n",
            "Attempt 3 failed: 404 Client Error: Not Found for url: https://www.pittsburghpa.gov/finance/tax-descriptions\n"
          ]
        },
        {
          "output_type": "stream",
          "name": "stderr",
          "text": [
            "\r 98%|█████████▊| 153/156 [04:02<00:07,  2.42s/it]"
          ]
        },
        {
          "output_type": "stream",
          "name": "stdout",
          "text": [
            "Failed to parse URL at index: 152, URL: https://pittsburghpa.gov/finance/tax-descriptions\n",
            "Fetching: https://www.visitpittsburgh.com/events-festivals/\n"
          ]
        },
        {
          "output_type": "stream",
          "name": "stderr",
          "text": [
            "\r 99%|█████████▊| 154/156 [04:03<00:04,  2.14s/it]"
          ]
        },
        {
          "output_type": "stream",
          "name": "stdout",
          "text": [
            "Fetching: https://www.mlb.com/pirates/team/front-office\n"
          ]
        },
        {
          "output_type": "stream",
          "name": "stderr",
          "text": [
            "\r 99%|█████████▉| 155/156 [04:04<00:01,  1.91s/it]"
          ]
        },
        {
          "output_type": "stream",
          "name": "stdout",
          "text": [
            "Fetching: https://www.steelers.com/team/front-office-roster/\n"
          ]
        },
        {
          "output_type": "stream",
          "name": "stderr",
          "text": [
            "100%|██████████| 156/156 [04:05<00:00,  1.58s/it]\n"
          ]
        },
        {
          "output_type": "stream",
          "name": "stdout",
          "text": [
            "Duplicates removed. Cleaned data saved to ./data/scraped/parentlink_file_name_url_mapping_filtered.csv\n"
          ]
        },
        {
          "output_type": "stream",
          "name": "stderr",
          "text": [
            "  1%|          | 145/14621 [02:28<7:19:59,  1.82s/it]"
          ]
        },
        {
          "output_type": "stream",
          "name": "stdout",
          "text": [
            "Attempt 1 failed: HTTPSConnectionPool(host='en.wikipedia.org', port=443): Read timed out. (read timeout=5)\n"
          ]
        },
        {
          "output_type": "stream",
          "name": "stderr",
          "text": [
            "  9%|▊         | 1244/14621 [22:48<3:26:45,  1.08it/s]"
          ]
        },
        {
          "output_type": "stream",
          "name": "stdout",
          "text": [
            "Attempt 1 failed: 404 Client Error: Not Found for url: https://en.wikipedia.org/wiki/Pennsylvania_American_Water\n",
            "Attempt 2 failed: 404 Client Error: Not Found for url: https://en.wikipedia.org/wiki/Pennsylvania_American_Water\n",
            "Attempt 3 failed: 404 Client Error: Not Found for url: https://en.wikipedia.org/wiki/Pennsylvania_American_Water\n"
          ]
        },
        {
          "output_type": "stream",
          "name": "stderr",
          "text": [
            "\r  9%|▊         | 1245/14621 [22:53<8:02:52,  2.17s/it]"
          ]
        },
        {
          "output_type": "stream",
          "name": "stdout",
          "text": [
            "Failed to parse sublink at index 1244, URL: https://en.wikipedia.org/w/index.php?title=Pennsylvania_American_Water&action=edit&redlink=1\n"
          ]
        },
        {
          "output_type": "stream",
          "name": "stderr",
          "text": [
            " 10%|█         | 1464/14621 [26:05<3:45:15,  1.03s/it]"
          ]
        },
        {
          "output_type": "stream",
          "name": "stdout",
          "text": [
            "Attempt 1 failed: 403 Client Error: Unknown Error for url: https://www.usatoday.com/money/economy/2009-09-21-us-steel-pittsburgh_N.htm\n",
            "Attempt 2 failed: 403 Client Error: Unknown Error for url: https://www.usatoday.com/money/economy/2009-09-21-us-steel-pittsburgh_N.htm\n",
            "Attempt 3 failed: 403 Client Error: Unknown Error for url: https://www.usatoday.com/money/economy/2009-09-21-us-steel-pittsburgh_N.htm\n"
          ]
        },
        {
          "output_type": "stream",
          "name": "stderr",
          "text": [
            "\r 10%|█         | 1465/14621 [26:08<6:02:30,  1.65s/it]"
          ]
        },
        {
          "output_type": "stream",
          "name": "stdout",
          "text": [
            "Failed to parse sublink at index 1464, URL: https://www.usatoday.com/money/economy/2009-09-21-us-steel-pittsburgh_N.htm\n",
            "Attempt 1 failed: 404 Client Error: Not Found for url: https://www.wtae.com/Just-How-Many-Bridges-Are-There-In-Pittsburgh/-/9681798/7685514/-/jaknsc/-/index.html\n",
            "Attempt 2 failed: 404 Client Error: Not Found for url: https://www.wtae.com/Just-How-Many-Bridges-Are-There-In-Pittsburgh/-/9681798/7685514/-/jaknsc/-/index.html\n",
            "Attempt 3 failed: 404 Client Error: Not Found for url: https://www.wtae.com/Just-How-Many-Bridges-Are-There-In-Pittsburgh/-/9681798/7685514/-/jaknsc/-/index.html\n"
          ]
        },
        {
          "output_type": "stream",
          "name": "stderr",
          "text": [
            "\r 10%|█         | 1466/14621 [26:12<7:58:27,  2.18s/it]"
          ]
        },
        {
          "output_type": "stream",
          "name": "stdout",
          "text": [
            "Failed to parse sublink at index 1465, URL: http://www.wtae.com/Just-How-Many-Bridges-Are-There-In-Pittsburgh/-/9681798/7685514/-/jaknsc/-/index.html\n",
            "Attempt 1 failed: 404 Client Error: Not Found for url: https://www.chicagotribune.com/ct-xpm-1987-10-18-8703180822-story.html\n",
            "Attempt 2 failed: 404 Client Error: Not Found for url: https://www.chicagotribune.com/ct-xpm-1987-10-18-8703180822-story.html\n",
            "Attempt 3 failed: 404 Client Error: Not Found for url: https://www.chicagotribune.com/ct-xpm-1987-10-18-8703180822-story.html\n"
          ]
        },
        {
          "output_type": "stream",
          "name": "stderr",
          "text": [
            "\r 10%|█         | 1467/14621 [26:15<9:34:52,  2.62s/it]"
          ]
        },
        {
          "output_type": "stream",
          "name": "stdout",
          "text": [
            "Failed to parse sublink at index 1466, URL: http://articles.chicagotribune.com/1987-10-18/travel/8703180822_1_steel-truss-bridge-twin-bridges-arches\n"
          ]
        },
        {
          "output_type": "stream",
          "name": "stderr",
          "text": [
            " 10%|█         | 1469/14621 [26:17<5:51:43,  1.60s/it]"
          ]
        },
        {
          "output_type": "stream",
          "name": "stdout",
          "text": [
            "Attempt 1 failed: HTTPConnectionPool(host='www.bivouacbooks.com', port=80): Max retries exceeded with url: /bbv4i4s4.htm (Caused by NameResolutionError(\"<urllib3.connection.HTTPConnection object at 0x7c1348763750>: Failed to resolve 'www.bivouacbooks.com' ([Errno -2] Name or service not known)\"))\n",
            "Attempt 2 failed: HTTPConnectionPool(host='www.bivouacbooks.com', port=80): Max retries exceeded with url: /bbv4i4s4.htm (Caused by NameResolutionError(\"<urllib3.connection.HTTPConnection object at 0x7c1348de74d0>: Failed to resolve 'www.bivouacbooks.com' ([Errno -2] Name or service not known)\"))\n",
            "Attempt 3 failed: HTTPConnectionPool(host='www.bivouacbooks.com', port=80): Max retries exceeded with url: /bbv4i4s4.htm (Caused by NameResolutionError(\"<urllib3.connection.HTTPConnection object at 0x7c134332bb10>: Failed to resolve 'www.bivouacbooks.com' ([Errno -2] Name or service not known)\"))\n"
          ]
        },
        {
          "output_type": "stream",
          "name": "stderr",
          "text": [
            "\r 10%|█         | 1470/14621 [26:26<14:07:38,  3.87s/it]"
          ]
        },
        {
          "output_type": "stream",
          "name": "stdout",
          "text": [
            "Failed to parse sublink at index 1469, URL: http://www.bivouacbooks.com/bbv4i4s4.htm\n",
            "Attempt 1 failed: 404 Client Error: Not Found for url: https://www.post-gazette.com/stories/local/community-eyewitness/eyewitness-1949-tv-makes-pittsburgh-a-new-promise-247120\n",
            "Attempt 2 failed: 404 Client Error: Not Found for url: https://www.post-gazette.com/stories/local/community-eyewitness/eyewitness-1949-tv-makes-pittsburgh-a-new-promise-247120\n",
            "Attempt 3 failed: 404 Client Error: Not Found for url: https://www.post-gazette.com/stories/local/community-eyewitness/eyewitness-1949-tv-makes-pittsburgh-a-new-promise-247120\n"
          ]
        },
        {
          "output_type": "stream",
          "name": "stderr",
          "text": [
            " 10%|█         | 1472/14621 [26:31<10:42:35,  2.93s/it]"
          ]
        },
        {
          "output_type": "stream",
          "name": "stdout",
          "text": [
            "Failed to parse sublink at index 1470, URL: http://www.post-gazette.com/stories/local/community-eyewitness/eyewitness-1949-tv-makes-pittsburgh-a-new-promise-247120/\n"
          ]
        },
        {
          "output_type": "stream",
          "name": "stderr",
          "text": [
            " 10%|█         | 1474/14621 [26:31<5:43:44,  1.57s/it]"
          ]
        },
        {
          "output_type": "stream",
          "name": "stdout",
          "text": [
            "Attempt 1 failed: 404 Client Error: Not Found for url: https://www.cmu.edu/epp/graduate/faq_contacts_pittsburgh.html\n",
            "Attempt 2 failed: 404 Client Error: Not Found for url: https://www.cmu.edu/epp/graduate/faq_contacts_pittsburgh.html\n",
            "Attempt 3 failed: 404 Client Error: Not Found for url: https://www.cmu.edu/epp/graduate/faq_contacts_pittsburgh.html\n"
          ]
        },
        {
          "output_type": "stream",
          "name": "stderr",
          "text": [
            " 10%|█         | 1476/14621 [26:36<6:36:20,  1.81s/it]"
          ]
        },
        {
          "output_type": "stream",
          "name": "stdout",
          "text": [
            "Failed to parse sublink at index 1474, URL: http://www.epp.cmu.edu/graduate/faq_contacts_pittsburgh.html\n"
          ]
        },
        {
          "output_type": "stream",
          "name": "stderr",
          "text": [
            " 10%|█         | 1482/14621 [26:40<3:23:33,  1.08it/s]"
          ]
        },
        {
          "output_type": "stream",
          "name": "stdout",
          "text": [
            "Attempt 1 failed: 404 Client Error: Not Found for url: https://www.uschamber.com/blog/innovate-or-die-pittsburgh-chose-innovate\n",
            "Attempt 2 failed: 404 Client Error: Not Found for url: https://www.uschamber.com/blog/innovate-or-die-pittsburgh-chose-innovate\n",
            "Attempt 3 failed: 404 Client Error: Not Found for url: https://www.uschamber.com/blog/innovate-or-die-pittsburgh-chose-innovate\n"
          ]
        },
        {
          "output_type": "stream",
          "name": "stderr",
          "text": [
            "\r 10%|█         | 1483/14621 [26:44<6:36:42,  1.81s/it]"
          ]
        },
        {
          "output_type": "stream",
          "name": "stdout",
          "text": [
            "Failed to parse sublink at index 1482, URL: https://www.uschamber.com/blog/innovate-or-die-pittsburgh-chose-innovate\n"
          ]
        },
        {
          "output_type": "stream",
          "name": "stderr",
          "text": [
            " 10%|█         | 1485/14621 [26:44<3:54:54,  1.07s/it]"
          ]
        },
        {
          "output_type": "stream",
          "name": "stdout",
          "text": [
            "Attempt 1 failed: 404 Client Error: Not Found for url: https://www.post-gazette.com/stories/business/news/in-desperate-1983-there-was-nowhere-for-pittsburghs-economy-to-go-but-up-667537\n",
            "Attempt 2 failed: 404 Client Error: Not Found for url: https://www.post-gazette.com/stories/business/news/in-desperate-1983-there-was-nowhere-for-pittsburghs-economy-to-go-but-up-667537\n",
            "Attempt 3 failed: 404 Client Error: Not Found for url: https://www.post-gazette.com/stories/business/news/in-desperate-1983-there-was-nowhere-for-pittsburghs-economy-to-go-but-up-667537\n"
          ]
        },
        {
          "output_type": "stream",
          "name": "stderr",
          "text": [
            "\r 10%|█         | 1486/14621 [26:49<7:23:13,  2.02s/it]"
          ]
        },
        {
          "output_type": "stream",
          "name": "stdout",
          "text": [
            "Failed to parse sublink at index 1485, URL: http://www.post-gazette.com/stories/business/news/in-desperate-1983-there-was-nowhere-for-pittsburghs-economy-to-go-but-up-667537/\n"
          ]
        },
        {
          "output_type": "stream",
          "name": "stderr",
          "text": [
            " 10%|█         | 1489/14621 [26:49<3:12:10,  1.14it/s]"
          ]
        },
        {
          "output_type": "stream",
          "name": "stdout",
          "text": [
            "Attempt 1 failed: 403 Client Error: Forbidden for url: https://www.jstor.org/stable/j.ctt9qh7tx\n",
            "Attempt 2 failed: 403 Client Error: Forbidden for url: https://www.jstor.org/stable/j.ctt9qh7tx\n",
            "Attempt 3 failed: 403 Client Error: Forbidden for url: https://www.jstor.org/stable/j.ctt9qh7tx\n"
          ]
        },
        {
          "output_type": "stream",
          "name": "stderr",
          "text": [
            "\r 10%|█         | 1490/14621 [26:52<5:22:00,  1.47s/it]"
          ]
        },
        {
          "output_type": "stream",
          "name": "stdout",
          "text": [
            "Failed to parse sublink at index 1489, URL: https://www.jstor.org/stable/j.ctt9qh7tx\n"
          ]
        },
        {
          "output_type": "stream",
          "name": "stderr",
          "text": [
            "\r 10%|█         | 1491/14621 [26:53<4:23:04,  1.20s/it]"
          ]
        },
        {
          "output_type": "stream",
          "name": "stdout",
          "text": [
            "Attempt 1 failed: 403 Client Error: Forbidden for url: https://www.jstor.org/stable/10.2307/j.ctt9qh7tx\n",
            "Attempt 2 failed: 403 Client Error: Forbidden for url: https://www.jstor.org/stable/10.2307/j.ctt9qh7tx\n",
            "Attempt 3 failed: 403 Client Error: Forbidden for url: https://www.jstor.org/stable/10.2307/j.ctt9qh7tx\n"
          ]
        },
        {
          "output_type": "stream",
          "name": "stderr",
          "text": [
            "\r 10%|█         | 1492/14621 [26:56<6:45:24,  1.85s/it]"
          ]
        },
        {
          "output_type": "stream",
          "name": "stdout",
          "text": [
            "Failed to parse sublink at index 1491, URL: https://doi.org/10.2307%2Fj.ctt9qh7tx\n"
          ]
        },
        {
          "output_type": "stream",
          "name": "stderr",
          "text": [
            " 10%|█         | 1499/14621 [27:06<4:20:18,  1.19s/it]"
          ]
        },
        {
          "output_type": "stream",
          "name": "stdout",
          "text": [
            "Failed to parse sublink at index 1499, URL: http://www.bizjournals.com/pittsburgh/blog/morning-edition/2014/12/eaton-wins-contract-for-solar-installations.html\n",
            "Attempt 1 failed: HTTPConnectionPool(host='174.143.38.57', port=80): Max retries exceeded with url: /wp-content/uploads/2010/06/S013_ROBOT-RxSellSheet.pdf (Caused by ConnectTimeoutError(<urllib3.connection.HTTPConnection object at 0x7c1343a86cd0>, 'Connection to 174.143.38.57 timed out. (connect timeout=5)'))\n",
            "Attempt 2 failed: HTTPConnectionPool(host='174.143.38.57', port=80): Max retries exceeded with url: /wp-content/uploads/2010/06/S013_ROBOT-RxSellSheet.pdf (Caused by ConnectTimeoutError(<urllib3.connection.HTTPConnection object at 0x7c1343f718d0>, 'Connection to 174.143.38.57 timed out. (connect timeout=5)'))\n",
            "Attempt 3 failed: HTTPConnectionPool(host='174.143.38.57', port=80): Max retries exceeded with url: /wp-content/uploads/2010/06/S013_ROBOT-RxSellSheet.pdf (Caused by ConnectTimeoutError(<urllib3.connection.HTTPConnection object at 0x7c1348c5de90>, 'Connection to 174.143.38.57 timed out. (connect timeout=5)'))\n"
          ]
        },
        {
          "output_type": "stream",
          "name": "stderr",
          "text": [
            "\r 10%|█         | 1501/14621 [27:24<17:30:02,  4.80s/it]"
          ]
        },
        {
          "output_type": "stream",
          "name": "stdout",
          "text": [
            "Failed to parse sublink at index 1500, URL: http://174.143.38.57/wp-content/uploads/2010/06/S013_ROBOT-RxSellSheet.pdf\n"
          ]
        },
        {
          "output_type": "stream",
          "name": "stderr",
          "text": [
            " 10%|█         | 1505/14621 [27:27<7:00:45,  1.92s/it] "
          ]
        },
        {
          "output_type": "stream",
          "name": "stdout",
          "text": [
            "Attempt 1 failed: 404 Client Error: Not Found for url: https://www.ncfta.net/contact-ncfta.aspx\n",
            "Attempt 2 failed: 404 Client Error: Not Found for url: https://www.ncfta.net/contact-ncfta.aspx\n",
            "Attempt 3 failed: 404 Client Error: Not Found for url: https://www.ncfta.net/contact-ncfta.aspx\n"
          ]
        },
        {
          "output_type": "stream",
          "name": "stderr",
          "text": [
            "\r 10%|█         | 1506/14621 [27:30<8:16:47,  2.27s/it]"
          ]
        },
        {
          "output_type": "stream",
          "name": "stdout",
          "text": [
            "Failed to parse sublink at index 1505, URL: http://www.ncfta.net/contact-ncfta.aspx\n"
          ]
        },
        {
          "output_type": "stream",
          "name": "stderr",
          "text": [
            "\r 10%|█         | 1507/14621 [27:31<7:30:03,  2.06s/it]"
          ]
        },
        {
          "output_type": "stream",
          "name": "stdout",
          "text": [
            "Attempt 1 failed: 404 Client Error: Not Found for url: https://www.rec.ri.cmu.edu/about/history/\n",
            "Attempt 2 failed: 404 Client Error: Not Found for url: https://www.rec.ri.cmu.edu/about/history/\n",
            "Attempt 3 failed: 404 Client Error: Not Found for url: https://www.rec.ri.cmu.edu/about/history/\n"
          ]
        },
        {
          "output_type": "stream",
          "name": "stderr",
          "text": [
            "\r 10%|█         | 1508/14621 [27:36<9:43:11,  2.67s/it]"
          ]
        },
        {
          "output_type": "stream",
          "name": "stdout",
          "text": [
            "Failed to parse sublink at index 1507, URL: http://www.rec.ri.cmu.edu/about/history/\n"
          ]
        },
        {
          "output_type": "stream",
          "name": "stderr",
          "text": [
            "\r 10%|█         | 1509/14621 [27:36<7:33:44,  2.08s/it]"
          ]
        },
        {
          "output_type": "stream",
          "name": "stdout",
          "text": [
            "Attempt 1 failed: 404 Client Error: Not Found for url: http://www.pittsburghlive.com/x/pittsburghtrib/business/s_580675.html\n",
            "Attempt 2 failed: 404 Client Error: Not Found for url: http://www.pittsburghlive.com/x/pittsburghtrib/business/s_580675.html\n",
            "Attempt 3 failed: 404 Client Error: Not Found for url: http://www.pittsburghlive.com/x/pittsburghtrib/business/s_580675.html\n"
          ]
        },
        {
          "output_type": "stream",
          "name": "stderr",
          "text": [
            "\r 10%|█         | 1510/14621 [27:40<8:46:51,  2.41s/it]"
          ]
        },
        {
          "output_type": "stream",
          "name": "stdout",
          "text": [
            "Failed to parse sublink at index 1509, URL: http://www.pittsburghlive.com/x/pittsburghtrib/business/s_580675.html\n",
            "Attempt 1 failed: 404 Client Error: Not Found for url: https://www.post-gazette.com/stories/local/region/pittsburgh-region-sees-11th-consecutive-month-of-home-sales-increases-655305\n",
            "Attempt 2 failed: 404 Client Error: Not Found for url: https://www.post-gazette.com/stories/local/region/pittsburgh-region-sees-11th-consecutive-month-of-home-sales-increases-655305\n",
            "Attempt 3 failed: 404 Client Error: Not Found for url: https://www.post-gazette.com/stories/local/region/pittsburgh-region-sees-11th-consecutive-month-of-home-sales-increases-655305\n"
          ]
        },
        {
          "output_type": "stream",
          "name": "stderr",
          "text": [
            "\r 10%|█         | 1511/14621 [27:44<10:30:40,  2.89s/it]"
          ]
        },
        {
          "output_type": "stream",
          "name": "stdout",
          "text": [
            "Failed to parse sublink at index 1510, URL: http://www.post-gazette.com/stories/local/region/pittsburgh-region-sees-11th-consecutive-month-of-home-sales-increases-655305/\n",
            "Attempt 1 failed: 404 Client Error: Not Found for url: https://www.boston.com/bostonglobe/ideas/articles/2010/02/28/warning_your_reality_is_out_of_date/\n",
            "Attempt 2 failed: 404 Client Error: Not Found for url: https://www.boston.com/bostonglobe/ideas/articles/2010/02/28/warning_your_reality_is_out_of_date/\n",
            "Attempt 3 failed: 404 Client Error: Not Found for url: https://www.boston.com/bostonglobe/ideas/articles/2010/02/28/warning_your_reality_is_out_of_date/\n"
          ]
        },
        {
          "output_type": "stream",
          "name": "stderr",
          "text": [
            "\r 10%|█         | 1512/14621 [27:48<11:55:03,  3.27s/it]"
          ]
        },
        {
          "output_type": "stream",
          "name": "stdout",
          "text": [
            "Failed to parse sublink at index 1511, URL: http://www.boston.com/bostonglobe/ideas/articles/2010/02/28/warning_your_reality_is_out_of_date/\n"
          ]
        },
        {
          "output_type": "stream",
          "name": "stderr",
          "text": [
            " 10%|█         | 1515/14621 [27:50<5:24:03,  1.48s/it]"
          ]
        },
        {
          "output_type": "stream",
          "name": "stdout",
          "text": [
            "Attempt 1 failed: 403 Client Error: Forbidden for url: https://www.nytimes.com/2009/01/08/business/economy/08collapse.html\n",
            "Attempt 2 failed: 403 Client Error: Forbidden for url: https://www.nytimes.com/2009/01/08/business/economy/08collapse.html\n",
            "Attempt 3 failed: 403 Client Error: Forbidden for url: https://www.nytimes.com/2009/01/08/business/economy/08collapse.html\n"
          ]
        },
        {
          "output_type": "stream",
          "name": "stderr",
          "text": [
            "\r 10%|█         | 1516/14621 [27:53<7:16:19,  2.00s/it]"
          ]
        },
        {
          "output_type": "stream",
          "name": "stdout",
          "text": [
            "Failed to parse sublink at index 1515, URL: https://www.nytimes.com/2009/01/08/business/economy/08collapse.html\n"
          ]
        },
        {
          "output_type": "stream",
          "name": "stderr",
          "text": [
            " 10%|█         | 1518/14621 [27:54<4:58:51,  1.37s/it]"
          ]
        },
        {
          "output_type": "stream",
          "name": "stdout",
          "text": [
            "Attempt 1 failed: 404 Client Error: Not Found for url: http://www.zillowstatic.com/vstatic/419b583f682a74b83f007039dd9c49f8/static/pages/visuals/neg-equity-map/v3/map.html?embed=1&loc=4/38.41056/-97.95410\n",
            "Attempt 2 failed: 404 Client Error: Not Found for url: http://www.zillowstatic.com/vstatic/419b583f682a74b83f007039dd9c49f8/static/pages/visuals/neg-equity-map/v3/map.html?embed=1&loc=4/38.41056/-97.95410\n",
            "Attempt 3 failed: 404 Client Error: Not Found for url: http://www.zillowstatic.com/vstatic/419b583f682a74b83f007039dd9c49f8/static/pages/visuals/neg-equity-map/v3/map.html?embed=1&loc=4/38.41056/-97.95410\n"
          ]
        },
        {
          "output_type": "stream",
          "name": "stderr",
          "text": [
            "\r 10%|█         | 1519/14621 [27:57<6:51:31,  1.88s/it]"
          ]
        },
        {
          "output_type": "stream",
          "name": "stdout",
          "text": [
            "Failed to parse sublink at index 1518, URL: http://www.zillowstatic.com/vstatic/419b583f682a74b83f007039dd9c49f8/static/pages/visuals/neg-equity-map/v3/map.html?embed=1&loc=4/38.41056/-97.95410\n"
          ]
        },
        {
          "output_type": "stream",
          "name": "stderr",
          "text": [
            " 10%|█         | 1522/14621 [28:01<5:00:59,  1.38s/it]"
          ]
        },
        {
          "output_type": "stream",
          "name": "stdout",
          "text": [
            "Attempt 1 failed: 404 Client Error: Not Found for url: https://www.carnegielibrary.org/exhibit/hname.html\n",
            "Attempt 2 failed: 404 Client Error: Not Found for url: https://www.carnegielibrary.org/exhibit/hname.html\n",
            "Attempt 3 failed: 404 Client Error: Not Found for url: https://www.carnegielibrary.org/exhibit/hname.html\n"
          ]
        },
        {
          "output_type": "stream",
          "name": "stderr",
          "text": [
            "\r 10%|█         | 1523/14621 [28:06<9:48:57,  2.70s/it]"
          ]
        },
        {
          "output_type": "stream",
          "name": "stdout",
          "text": [
            "Failed to parse sublink at index 1522, URL: http://www.carnegielibrary.org/exhibit/hname.html\n"
          ]
        },
        {
          "output_type": "stream",
          "name": "stderr",
          "text": [
            " 10%|█         | 1526/14621 [28:08<5:05:48,  1.40s/it]"
          ]
        },
        {
          "output_type": "stream",
          "name": "stdout",
          "text": [
            "Attempt 1 failed: 405 Client Error: Method Not Allowed for url: https://old.post-gazette.com/pg/03001/700027-209.stm\n",
            "Attempt 2 failed: 405 Client Error: Method Not Allowed for url: https://old.post-gazette.com/pg/03001/700027-209.stm\n",
            "Attempt 3 failed: 405 Client Error: Method Not Allowed for url: https://old.post-gazette.com/pg/03001/700027-209.stm\n"
          ]
        },
        {
          "output_type": "stream",
          "name": "stderr",
          "text": [
            "\r 10%|█         | 1527/14621 [28:12<7:51:37,  2.16s/it]"
          ]
        },
        {
          "output_type": "stream",
          "name": "stdout",
          "text": [
            "Failed to parse sublink at index 1526, URL: http://old.post-gazette.com/pg/03001/700027-209.stm\n"
          ]
        },
        {
          "output_type": "stream",
          "name": "stderr",
          "text": [
            "\r 10%|█         | 1528/14621 [28:13<6:12:39,  1.71s/it]"
          ]
        },
        {
          "output_type": "stream",
          "name": "stdout",
          "text": [
            "Attempt 1 failed: 404 Client Error: Not Found for url: https://www.carnegielibrary.org/exhibit/hname2.html\n",
            "Attempt 2 failed: 404 Client Error: Not Found for url: https://www.carnegielibrary.org/exhibit/hname2.html\n",
            "Attempt 3 failed: 404 Client Error: Not Found for url: https://www.carnegielibrary.org/exhibit/hname2.html\n"
          ]
        },
        {
          "output_type": "stream",
          "name": "stderr",
          "text": [
            "\r 10%|█         | 1529/14621 [28:19<10:38:53,  2.93s/it]"
          ]
        },
        {
          "output_type": "stream",
          "name": "stdout",
          "text": [
            "Failed to parse sublink at index 1528, URL: http://www.carnegielibrary.org/exhibit/hname2.html\n"
          ]
        },
        {
          "output_type": "stream",
          "name": "stderr",
          "text": [
            "\r 10%|█         | 1530/14621 [28:19<8:03:54,  2.22s/it] "
          ]
        }
      ],
      "source": [
        "import requests\n",
        "from bs4 import BeautifulSoup\n",
        "import pandas as pd\n",
        "import time\n",
        "import random\n",
        "import warnings\n",
        "from urllib.parse import urljoin, urlparse, urlunparse\n",
        "from urllib3.exceptions import InsecureRequestWarning\n",
        "from tqdm import tqdm\n",
        "\n",
        "# Suppress warnings from unverified HTTPS requests\n",
        "warnings.filterwarnings('ignore', category=InsecureRequestWarning)\n",
        "\n",
        "# Suppress XMLParsedAsHTMLWarning if parsing XML with HTML parser\n",
        "from bs4 import XMLParsedAsHTMLWarning\n",
        "warnings.filterwarnings(\"ignore\", category=XMLParsedAsHTMLWarning)\n",
        "\n",
        "# User agents for simulating browser requests\n",
        "user_agents = [\n",
        "    'Mozilla/5.0 (Windows NT 10.0; Win64; x64) AppleWebKit/537.36 (KHTML, like Gecko) Chrome/58.0.3029.110 Safari/537.3',\n",
        "    'Mozilla/5.0 (X11; Linux x86_64) AppleWebKit/537.36 (KHTML, like Gecko) Chrome/58.0.3029.110 Safari/537.3',\n",
        "    'Mozilla/5.0 (Macintosh; Intel Mac OS X 10_12_6) AppleWebKit/537.36 (KHTML, like Gecko) Chrome/60.0.3112.113 Safari/537.36',\n",
        "]\n",
        "\n",
        "# Initialize a session for persistent connection\n",
        "session = requests.Session()\n",
        "\n",
        "# Function to fetch the page text with a retry mechanism\n",
        "def fetch_page_text(url, retries=3, timeout=5):\n",
        "    \"\"\"Fetch page text and return the parsed BeautifulSoup object.\"\"\"\n",
        "    for attempt in range(retries):\n",
        "        try:\n",
        "            headers = {'User-Agent': random.choice(user_agents)}\n",
        "            response = session.get(url, timeout=timeout, headers=headers, verify=False)\n",
        "            response.raise_for_status()  # Raise an error for bad responses\n",
        "\n",
        "            soup = BeautifulSoup(response.content, 'lxml')\n",
        "            return soup.get_text(separator='\\n', strip=True), soup\n",
        "\n",
        "        except requests.exceptions.RequestException as e:\n",
        "            print(f\"Attempt {attempt + 1} failed: {e}\")\n",
        "            time.sleep(1)  # Wait before retrying\n",
        "\n",
        "    return None, None  # Return None if all attempts fail\n",
        "\n",
        "# Function to extract all sublinks from the soup object\n",
        "def extract_sublinks(soup, base_url):\n",
        "    \"\"\"Extract and return all sublinks from the HTML soup.\"\"\"\n",
        "    sublinks = []\n",
        "    for link in soup.find_all('a', href=True):\n",
        "        full_url = urljoin(base_url, link['href'])\n",
        "        sublinks.append(full_url)\n",
        "    return sublinks\n",
        "\n",
        "# Function to save crawled text data to .txt files\n",
        "def save_crawled_text(url, text, index, folder='./data/scraped/scraped_web_text_data/'):\n",
        "    \"\"\"Save crawled text data to individual .txt files.\"\"\"\n",
        "    cleaned_text = text.replace('\\n', ' ')  # Clean up the text by removing newlines\n",
        "    output_file = f\"{folder}{index}.txt\"\n",
        "\n",
        "    with open(output_file, 'w', encoding='utf-8') as file:\n",
        "        file.write(cleaned_text)\n",
        "\n",
        "# Function to save sublinks to a CSV file\n",
        "def save_sublinks_to_csv(sublinks_data, output_csv):\n",
        "    \"\"\"Save sublink data to a CSV file.\"\"\"\n",
        "    df = pd.DataFrame(sublinks_data, columns=['Parent URL', 'Sublink'])\n",
        "    df.to_csv(output_csv, index=False)\n",
        "\n",
        "# Function to normalize a URL by removing the fragment\n",
        "def normalize_url(url):\n",
        "    \"\"\"Remove the fragment from a URL.\"\"\"\n",
        "    parsed_url = urlparse(url)\n",
        "    return urlunparse(parsed_url._replace(fragment=''))\n",
        "\n",
        "# Function to check and remove duplicate URLs based on the base URL\n",
        "def remove_duplicate_urls(file_path, column_name):\n",
        "    \"\"\"Remove duplicate URLs from the specified column in the CSV file.\"\"\"\n",
        "    data = pd.read_csv(file_path)\n",
        "    data['normalized_url'] = data[column_name].apply(normalize_url)\n",
        "    data = data.dropna(subset=['normalized_url'])  # Remove rows with NaN URLs\n",
        "    data_cleaned = data.drop_duplicates(subset='normalized_url', keep='first')  # Remove duplicates\n",
        "    data_cleaned = data_cleaned.reset_index(drop=False)  # Keep original index\n",
        "    data_cleaned['new_index'] = range(len(data_cleaned))  # New index column\n",
        "    data_cleaned = data_cleaned.drop(columns=['normalized_url'])  # Drop temporary column\n",
        "\n",
        "    output_file = file_path.replace('.csv', '_filtered.csv')\n",
        "    data_cleaned.to_csv(output_file, index=False)\n",
        "    print(f\"Duplicates removed. Cleaned data saved to {output_file}\")\n",
        "\n",
        "# Function to crawl through the provided URLs and fetch data\n",
        "def crawl_urls(url_list):\n",
        "    \"\"\"Crawl the list of URLs and return crawled data and sublinks.\"\"\"\n",
        "    results = {}\n",
        "    sublinks_data = []  # List to store (parent_url, sublink) pairs\n",
        "\n",
        "    for index, url in tqdm(enumerate(url_list), total=len(url_list)):\n",
        "        print(f\"Fetching: {url}\")\n",
        "        text, soup = fetch_page_text(url)\n",
        "        if text and soup:\n",
        "            results[url] = text  # Store the crawled text\n",
        "            sublinks = extract_sublinks(soup, url)  # Extract sublinks\n",
        "            sublinks_data.extend((url, sublink) for sublink in sublinks)  # Collect sublink pairs\n",
        "            save_crawled_text(url, text, index)  # Save the crawled text immediately\n",
        "        else:\n",
        "            print(f\"Failed to parse URL at index: {index}, URL: {url}\")\n",
        "\n",
        "    return results, sublinks_data\n",
        "\n",
        "# Function to crawl sublinks\n",
        "def crawl_and_save_sublinks(urls, indexes):\n",
        "    \"\"\"Crawl sublinks and save results.\"\"\"\n",
        "    for index, url in tqdm(enumerate(urls), total=len(urls)):\n",
        "        if url.startswith('http'):\n",
        "            text, _ = fetch_page_text(url)\n",
        "            if text:\n",
        "                save_crawled_text(url, text, indexes[index], folder='./data/scraped/scraped_sublink_text_data/')\n",
        "            else:\n",
        "                print(f\"Failed to parse sublink at index {index}, URL: {url}\")\n",
        "\n",
        "if __name__ == \"__main__\":\n",
        "    # Read the CSV file with main URLs\n",
        "    main_file_path = './data/raw/csv_data/data_source.csv'\n",
        "    data = pd.read_csv(main_file_path)\n",
        "\n",
        "    # Extract non-empty URLs from the 'Source URL' column\n",
        "    main_urls = data[data['Select'] == 'Webpage']['Source URL'].dropna().unique()\n",
        "\n",
        "    # Start crawling the main URLs\n",
        "    crawled_data, sublinks_data = crawl_urls(main_urls)\n",
        "\n",
        "    # Save sublinks to CSV\n",
        "    output_csv = './data/scraped/parentlink_file_name_url_mapping.csv'\n",
        "    save_sublinks_to_csv(sublinks_data, output_csv)\n",
        "\n",
        "    # Remove duplicates from the sublink CSV\n",
        "    remove_duplicate_urls(output_csv, 'Sublink')\n",
        "\n",
        "    # Read the CSV file with sublinks for further crawling\n",
        "    sublink_file_path = './data/scraped/sublink_file_name_url_mapping_filtered.csv'\n",
        "    sublink_data = pd.read_csv(sublink_file_path)\n",
        "\n",
        "    # Extract non-empty URLs from the 'Sublink' column\n",
        "    sublinks = sublink_data['Value'].dropna().unique()\n",
        "    indexes = sublink_data['new_index']\n",
        "\n",
        "    # Start crawling the sublinks\n",
        "    crawl_and_save_sublinks(sublinks, indexes)\n",
        "\n",
        "    print(\"Crawling complete!\")\n"
      ]
    },
    {
      "cell_type": "markdown",
      "metadata": {
        "id": "UTlecsf_rcz5"
      },
      "source": [
        "# Dynamic crawling for the events data"
      ]
    },
    {
      "cell_type": "code",
      "execution_count": null,
      "metadata": {
        "colab": {
          "base_uri": "https://localhost:8080/"
        },
        "id": "Tyz9lM1ix-oA",
        "outputId": "973fc485-e044-4258-c934-68c3c5744f09"
      },
      "outputs": [
        {
          "name": "stdout",
          "output_type": "stream",
          "text": [
            "Requirement already satisfied: webdriver_manager in /usr/local/lib/python3.11/dist-packages (4.0.2)\n",
            "Requirement already satisfied: requests in /usr/local/lib/python3.11/dist-packages (from webdriver_manager) (2.32.3)\n",
            "Requirement already satisfied: python-dotenv in /usr/local/lib/python3.11/dist-packages (from webdriver_manager) (1.0.1)\n",
            "Requirement already satisfied: packaging in /usr/local/lib/python3.11/dist-packages (from webdriver_manager) (24.2)\n",
            "Requirement already satisfied: charset-normalizer<4,>=2 in /usr/local/lib/python3.11/dist-packages (from requests->webdriver_manager) (3.4.1)\n",
            "Requirement already satisfied: idna<4,>=2.5 in /usr/local/lib/python3.11/dist-packages (from requests->webdriver_manager) (3.10)\n",
            "Requirement already satisfied: urllib3<3,>=1.21.1 in /usr/local/lib/python3.11/dist-packages (from requests->webdriver_manager) (2.3.0)\n",
            "Requirement already satisfied: certifi>=2017.4.17 in /usr/local/lib/python3.11/dist-packages (from requests->webdriver_manager) (2025.1.31)\n",
            "Hit:1 http://deb.debian.org/debian buster InRelease\n",
            "Hit:2 https://cloud.r-project.org/bin/linux/ubuntu jammy-cran40/ InRelease\n",
            "Hit:3 http://deb.debian.org/debian buster-updates InRelease\n",
            "Get:4 https://dl.google.com/linux/chrome/deb stable InRelease [1,825 B]\n",
            "Hit:5 https://developer.download.nvidia.com/compute/cuda/repos/ubuntu2204/x86_64  InRelease\n",
            "Hit:6 http://deb.debian.org/debian-security buster/updates InRelease\n",
            "Get:7 http://security.ubuntu.com/ubuntu jammy-security InRelease [129 kB]\n",
            "Hit:8 https://r2u.stat.illinois.edu/ubuntu jammy InRelease\n",
            "Hit:9 http://archive.ubuntu.com/ubuntu jammy InRelease\n",
            "Get:10 http://archive.ubuntu.com/ubuntu jammy-updates InRelease [128 kB]\n",
            "Hit:11 https://ppa.launchpadcontent.net/deadsnakes/ppa/ubuntu jammy InRelease\n",
            "Hit:12 https://ppa.launchpadcontent.net/graphics-drivers/ppa/ubuntu jammy InRelease\n",
            "Hit:13 https://ppa.launchpadcontent.net/ubuntugis/ppa/ubuntu jammy InRelease\n",
            "Hit:14 http://archive.ubuntu.com/ubuntu jammy-backports InRelease\n",
            "Get:15 https://dl.google.com/linux/chrome/deb stable/main amd64 Packages [1,215 B]\n",
            "Get:16 http://archive.ubuntu.com/ubuntu jammy-updates/main amd64 Packages [3,003 kB]\n",
            "Fetched 3,263 kB in 5s (665 kB/s)\n",
            "Reading package lists... Done\n",
            "W: Skipping acquire of configured file 'main/source/Sources' as repository 'https://r2u.stat.illinois.edu/ubuntu jammy InRelease' does not seem to provide it (sources.list entry misspelt?)\n",
            "Reading package lists... Done\n",
            "Building dependency tree... Done\n",
            "Reading state information... Done\n",
            "libvulkan1 is already the newest version (1.3.204.1-2).\n",
            "unzip is already the newest version (6.0-26ubuntu3.2).\n",
            "wget is already the newest version (1.21.2-2ubuntu1.1).\n",
            "0 upgraded, 0 newly installed, 0 to remove and 31 not upgraded.\n",
            "--2025-03-22 08:23:01--  https://dl.google.com/linux/direct/google-chrome-stable_current_amd64.deb\n",
            "Resolving dl.google.com (dl.google.com)... 172.217.164.14, 2607:f8b0:4025:810::200e\n",
            "Connecting to dl.google.com (dl.google.com)|172.217.164.14|:443... connected.\n",
            "HTTP request sent, awaiting response... 200 OK\n",
            "Length: 114483440 (109M) [application/x-debian-package]\n",
            "Saving to: ‘google-chrome-stable_current_amd64.deb’\n",
            "\n",
            "google-chrome-stabl 100%[===================>] 109.18M   100MB/s    in 1.1s    \n",
            "\n",
            "2025-03-22 08:23:02 (100 MB/s) - ‘google-chrome-stable_current_amd64.deb’ saved [114483440/114483440]\n",
            "\n",
            "(Reading database ... 127403 files and directories currently installed.)\n",
            "Preparing to unpack google-chrome-stable_current_amd64.deb ...\n",
            "Unpacking google-chrome-stable (134.0.6998.165-1) over (134.0.6998.165-1) ...\n",
            "Setting up google-chrome-stable (134.0.6998.165-1) ...\n",
            "Processing triggers for mailcap (3.70+nmu1ubuntu1) ...\n",
            "Processing triggers for man-db (2.10.2-1) ...\n",
            "Reading package lists... Done\n",
            "Building dependency tree... Done\n",
            "Reading state information... Done\n",
            "0 upgraded, 0 newly installed, 0 to remove and 31 not upgraded.\n",
            "Reading package lists... Done\n",
            "Building dependency tree... Done\n",
            "Reading state information... Done\n",
            "xvfb is already the newest version (2:21.1.4-2ubuntu1.7~22.04.13).\n",
            "0 upgraded, 0 newly installed, 0 to remove and 31 not upgraded.\n",
            "Requirement already satisfied: selenium in /usr/local/lib/python3.11/dist-packages (4.30.0)\n",
            "Requirement already satisfied: chromedriver-autoinstaller in /usr/local/lib/python3.11/dist-packages (0.6.4)\n",
            "Requirement already satisfied: urllib3<3,>=1.26 in /usr/local/lib/python3.11/dist-packages (from urllib3[socks]<3,>=1.26->selenium) (2.3.0)\n",
            "Requirement already satisfied: trio~=0.17 in /usr/local/lib/python3.11/dist-packages (from selenium) (0.29.0)\n",
            "Requirement already satisfied: trio-websocket~=0.9 in /usr/local/lib/python3.11/dist-packages (from selenium) (0.12.2)\n",
            "Requirement already satisfied: certifi>=2021.10.8 in /usr/local/lib/python3.11/dist-packages (from selenium) (2025.1.31)\n",
            "Requirement already satisfied: typing_extensions~=4.9 in /usr/local/lib/python3.11/dist-packages (from selenium) (4.12.2)\n",
            "Requirement already satisfied: websocket-client~=1.8 in /usr/local/lib/python3.11/dist-packages (from selenium) (1.8.0)\n",
            "Requirement already satisfied: packaging>=23.1 in /usr/local/lib/python3.11/dist-packages (from chromedriver-autoinstaller) (24.2)\n",
            "Requirement already satisfied: attrs>=23.2.0 in /usr/local/lib/python3.11/dist-packages (from trio~=0.17->selenium) (25.3.0)\n",
            "Requirement already satisfied: sortedcontainers in /usr/local/lib/python3.11/dist-packages (from trio~=0.17->selenium) (2.4.0)\n",
            "Requirement already satisfied: idna in /usr/local/lib/python3.11/dist-packages (from trio~=0.17->selenium) (3.10)\n",
            "Requirement already satisfied: outcome in /usr/local/lib/python3.11/dist-packages (from trio~=0.17->selenium) (1.3.0.post0)\n",
            "Requirement already satisfied: sniffio>=1.3.0 in /usr/local/lib/python3.11/dist-packages (from trio~=0.17->selenium) (1.3.1)\n",
            "Requirement already satisfied: wsproto>=0.14 in /usr/local/lib/python3.11/dist-packages (from trio-websocket~=0.9->selenium) (1.2.0)\n",
            "Requirement already satisfied: pysocks!=1.5.7,<2.0,>=1.5.6 in /usr/local/lib/python3.11/dist-packages (from urllib3[socks]<3,>=1.26->selenium) (1.7.1)\n",
            "Requirement already satisfied: h11<1,>=0.9.0 in /usr/local/lib/python3.11/dist-packages (from wsproto>=0.14->trio-websocket~=0.9->selenium) (0.14.0)\n"
          ]
        }
      ],
      "source": [
        "!pip install webdriver_manager\n",
        "# Update package list and install necessary dependencies\n",
        "!apt-get update\n",
        "!apt-get install -y wget unzip libvulkan1\n",
        "\n",
        "# Download and install Google Chrome\n",
        "!wget https://dl.google.com/linux/direct/google-chrome-stable_current_amd64.deb\n",
        "!dpkg -i google-chrome-stable_current_amd64.deb\n",
        "!apt-get install -f -y\n",
        "\n",
        "# Install xvfb for virtual framebuffer support\n",
        "!apt-get install -y xvfb\n",
        "\n",
        "# Install selenium and chromedriver-autoinstaller\n",
        "!pip install selenium chromedriver-autoinstaller\n"
      ]
    },
    {
      "cell_type": "code",
      "execution_count": null,
      "metadata": {
        "colab": {
          "base_uri": "https://localhost:8080/"
        },
        "id": "vaNhhqmCxphV",
        "outputId": "6bafac4c-1e94-4af6-b332-a439da3fceed"
      },
      "outputs": [
        {
          "name": "stderr",
          "output_type": "stream",
          "text": [
            "Crawling URLs:   2%|▎         | 1/40 [00:02<01:30,  2.31s/it]"
          ]
        },
        {
          "name": "stdout",
          "output_type": "stream",
          "text": [
            "Saved content to ./data/scraped/events_test/0.txt\n"
          ]
        },
        {
          "name": "stderr",
          "output_type": "stream",
          "text": [
            "\rCrawling URLs:   5%|▌         | 2/40 [00:04<01:33,  2.47s/it]"
          ]
        },
        {
          "name": "stdout",
          "output_type": "stream",
          "text": [
            "Saved content to ./data/scraped/events_test/1.txt\n"
          ]
        },
        {
          "name": "stderr",
          "output_type": "stream",
          "text": [
            "\rCrawling URLs:   8%|▊         | 3/40 [00:06<01:24,  2.28s/it]"
          ]
        },
        {
          "name": "stdout",
          "output_type": "stream",
          "text": [
            "Saved content to ./data/scraped/events_test/2.txt\n"
          ]
        },
        {
          "name": "stderr",
          "output_type": "stream",
          "text": [
            "\rCrawling URLs:  10%|█         | 4/40 [00:08<01:08,  1.90s/it]"
          ]
        },
        {
          "name": "stdout",
          "output_type": "stream",
          "text": [
            "Saved content to ./data/scraped/events_test/3.txt\n"
          ]
        },
        {
          "name": "stderr",
          "output_type": "stream",
          "text": [
            "\rCrawling URLs:  12%|█▎        | 5/40 [00:11<01:17,  2.22s/it]"
          ]
        },
        {
          "name": "stdout",
          "output_type": "stream",
          "text": [
            "Saved content to ./data/scraped/events_test/4.txt\n"
          ]
        },
        {
          "name": "stderr",
          "output_type": "stream",
          "text": [
            "\rCrawling URLs:  15%|█▌        | 6/40 [00:14<01:25,  2.52s/it]"
          ]
        },
        {
          "name": "stdout",
          "output_type": "stream",
          "text": [
            "Saved content to ./data/scraped/events_test/5.txt\n"
          ]
        },
        {
          "name": "stderr",
          "output_type": "stream",
          "text": [
            "\rCrawling URLs:  18%|█▊        | 7/40 [00:14<01:00,  1.83s/it]"
          ]
        },
        {
          "name": "stdout",
          "output_type": "stream",
          "text": [
            "Saved content to ./data/scraped/events_test/6.txt\n"
          ]
        },
        {
          "name": "stderr",
          "output_type": "stream",
          "text": [
            "\rCrawling URLs:  20%|██        | 8/40 [00:16<00:58,  1.84s/it]"
          ]
        },
        {
          "name": "stdout",
          "output_type": "stream",
          "text": [
            "Saved content to ./data/scraped/events_test/7.txt\n"
          ]
        },
        {
          "name": "stderr",
          "output_type": "stream",
          "text": [
            "\rCrawling URLs:  22%|██▎       | 9/40 [00:18<00:58,  1.89s/it]"
          ]
        },
        {
          "name": "stdout",
          "output_type": "stream",
          "text": [
            "Saved content to ./data/scraped/events_test/8.txt\n"
          ]
        },
        {
          "name": "stderr",
          "output_type": "stream",
          "text": [
            "\rCrawling URLs:  25%|██▌       | 10/40 [00:21<01:06,  2.21s/it]"
          ]
        },
        {
          "name": "stdout",
          "output_type": "stream",
          "text": [
            "Saved content to ./data/scraped/events_test/9.txt\n"
          ]
        },
        {
          "name": "stderr",
          "output_type": "stream",
          "text": [
            "\rCrawling URLs:  28%|██▊       | 11/40 [00:23<01:00,  2.08s/it]"
          ]
        },
        {
          "name": "stdout",
          "output_type": "stream",
          "text": [
            "Saved content to ./data/scraped/events_test/10.txt\n"
          ]
        },
        {
          "name": "stderr",
          "output_type": "stream",
          "text": [
            "\rCrawling URLs:  30%|███       | 12/40 [00:24<00:53,  1.91s/it]"
          ]
        },
        {
          "name": "stdout",
          "output_type": "stream",
          "text": [
            "Saved content to ./data/scraped/events_test/11.txt\n"
          ]
        },
        {
          "name": "stderr",
          "output_type": "stream",
          "text": [
            "\rCrawling URLs:  32%|███▎      | 13/40 [00:26<00:52,  1.94s/it]"
          ]
        },
        {
          "name": "stdout",
          "output_type": "stream",
          "text": [
            "Saved content to ./data/scraped/events_test/12.txt\n"
          ]
        },
        {
          "name": "stderr",
          "output_type": "stream",
          "text": [
            "\rCrawling URLs:  35%|███▌      | 14/40 [00:28<00:47,  1.84s/it]"
          ]
        },
        {
          "name": "stdout",
          "output_type": "stream",
          "text": [
            "Saved content to ./data/scraped/events_test/13.txt\n"
          ]
        },
        {
          "name": "stderr",
          "output_type": "stream",
          "text": [
            "\rCrawling URLs:  38%|███▊      | 15/40 [00:30<00:45,  1.82s/it]"
          ]
        },
        {
          "name": "stdout",
          "output_type": "stream",
          "text": [
            "Saved content to ./data/scraped/events_test/14.txt\n"
          ]
        },
        {
          "name": "stderr",
          "output_type": "stream",
          "text": [
            "\rCrawling URLs:  40%|████      | 16/40 [00:31<00:42,  1.76s/it]"
          ]
        },
        {
          "name": "stdout",
          "output_type": "stream",
          "text": [
            "Saved content to ./data/scraped/events_test/15.txt\n"
          ]
        },
        {
          "name": "stderr",
          "output_type": "stream",
          "text": [
            "\rCrawling URLs:  42%|████▎     | 17/40 [00:33<00:39,  1.73s/it]"
          ]
        },
        {
          "name": "stdout",
          "output_type": "stream",
          "text": [
            "Saved content to ./data/scraped/events_test/16.txt\n"
          ]
        },
        {
          "name": "stderr",
          "output_type": "stream",
          "text": [
            "\rCrawling URLs:  45%|████▌     | 18/40 [00:34<00:33,  1.53s/it]"
          ]
        },
        {
          "name": "stdout",
          "output_type": "stream",
          "text": [
            "Saved content to ./data/scraped/events_test/17.txt\n"
          ]
        },
        {
          "name": "stderr",
          "output_type": "stream",
          "text": [
            "\rCrawling URLs:  48%|████▊     | 19/40 [00:35<00:29,  1.43s/it]"
          ]
        },
        {
          "name": "stdout",
          "output_type": "stream",
          "text": [
            "Saved content to ./data/scraped/events_test/18.txt\n"
          ]
        },
        {
          "name": "stderr",
          "output_type": "stream",
          "text": [
            "\rCrawling URLs:  50%|█████     | 20/40 [00:36<00:25,  1.27s/it]"
          ]
        },
        {
          "name": "stdout",
          "output_type": "stream",
          "text": [
            "Saved content to ./data/scraped/events_test/19.txt\n"
          ]
        },
        {
          "name": "stderr",
          "output_type": "stream",
          "text": [
            "\rCrawling URLs:  52%|█████▎    | 21/40 [00:40<00:38,  2.05s/it]"
          ]
        },
        {
          "name": "stdout",
          "output_type": "stream",
          "text": [
            "Saved content to ./data/scraped/events_test/20.txt\n"
          ]
        },
        {
          "name": "stderr",
          "output_type": "stream",
          "text": [
            "\rCrawling URLs:  55%|█████▌    | 22/40 [00:47<01:06,  3.72s/it]"
          ]
        },
        {
          "name": "stdout",
          "output_type": "stream",
          "text": [
            "Saved content to ./data/scraped/events_test/21.txt\n"
          ]
        },
        {
          "name": "stderr",
          "output_type": "stream",
          "text": [
            "\rCrawling URLs:  57%|█████▊    | 23/40 [00:55<01:21,  4.77s/it]"
          ]
        },
        {
          "name": "stdout",
          "output_type": "stream",
          "text": [
            "Saved content to ./data/scraped/events_test/22.txt\n"
          ]
        },
        {
          "name": "stderr",
          "output_type": "stream",
          "text": [
            "\rCrawling URLs:  60%|██████    | 24/40 [01:03<01:33,  5.83s/it]"
          ]
        },
        {
          "name": "stdout",
          "output_type": "stream",
          "text": [
            "Saved content to ./data/scraped/events_test/23.txt\n"
          ]
        },
        {
          "name": "stderr",
          "output_type": "stream",
          "text": [
            "\rCrawling URLs:  62%|██████▎   | 25/40 [01:11<01:39,  6.61s/it]"
          ]
        },
        {
          "name": "stdout",
          "output_type": "stream",
          "text": [
            "Saved content to ./data/scraped/events_test/24.txt\n"
          ]
        },
        {
          "name": "stderr",
          "output_type": "stream",
          "text": [
            "Crawling URLs:  95%|█████████▌| 38/40 [01:23<00:05,  2.88s/it]"
          ]
        },
        {
          "name": "stdout",
          "output_type": "stream",
          "text": [
            "Saved content to ./data/scraped/events_test/37.txt\n"
          ]
        },
        {
          "name": "stderr",
          "output_type": "stream",
          "text": [
            "\rCrawling URLs:  98%|█████████▊| 39/40 [01:26<00:03,  3.08s/it]"
          ]
        },
        {
          "name": "stdout",
          "output_type": "stream",
          "text": [
            "Saved content to ./data/scraped/events_test/38.txt\n"
          ]
        },
        {
          "name": "stderr",
          "output_type": "stream",
          "text": [
            "Crawling URLs: 100%|██████████| 40/40 [01:28<00:00,  2.22s/it]"
          ]
        },
        {
          "name": "stdout",
          "output_type": "stream",
          "text": [
            "Saved content to ./data/scraped/events_test/39.txt\n"
          ]
        },
        {
          "name": "stderr",
          "output_type": "stream",
          "text": [
            "\n"
          ]
        }
      ],
      "source": [
        "import csv\n",
        "from selenium import webdriver\n",
        "from selenium.webdriver.chrome.options import Options\n",
        "from selenium.webdriver.chrome.service import Service\n",
        "from selenium.webdriver.common.by import By\n",
        "from selenium.webdriver.support.ui import WebDriverWait\n",
        "from selenium.webdriver.support import expected_conditions as EC\n",
        "from bs4 import BeautifulSoup\n",
        "from webdriver_manager.chrome import ChromeDriverManager\n",
        "from tqdm import tqdm\n",
        "import time\n",
        "# Automatically install the correct version of ChromeDriver\n",
        "import chromedriver_autoinstaller\n",
        "chromedriver_autoinstaller.install()\n",
        "\n",
        "# Function to fetch the page content using Selenium\n",
        "def fetch_page_text_selenium(url, driver):\n",
        "  try:\n",
        "      driver.get(url)\n",
        "\n",
        "      # Wait for the page to load dynamically (up to 10 seconds)\n",
        "      WebDriverWait(driver, 10).until(\n",
        "          EC.presence_of_element_located((By.TAG_NAME, \"body\"))\n",
        "      )\n",
        "\n",
        "      # Get page source\n",
        "      page_source = driver.page_source\n",
        "\n",
        "      # Parse the page content using BeautifulSoup\n",
        "      soup = BeautifulSoup(page_source, 'html.parser')\n",
        "\n",
        "      # Extract and clean the text from the page\n",
        "      page_text = soup.get_text(separator='\\n', strip=True)\n",
        "      return page_text\n",
        "\n",
        "  except Exception as e:\n",
        "      print(f\"Error fetching {url}: {e}\")\n",
        "      return None\n",
        "\n",
        "# Function to read URLs from CSV and crawl each one\n",
        "def crawl_urls_from_csv(csv_file_path, url_column_name, driver):\n",
        "  with open(csv_file_path, newline='', encoding='utf-8') as csvfile:\n",
        "      reader = csv.DictReader(csvfile)\n",
        "      urls = [row[url_column_name] for row in reader]  # Extract all URLs\n",
        "\n",
        "      # Use tqdm to show progress\n",
        "      for index, url in enumerate(tqdm(urls, desc=\"Crawling URLs\")):\n",
        "          text = fetch_page_text_selenium(url, driver)\n",
        "          if text:\n",
        "              # Save the crawled text to a file with the index as the filename\n",
        "              output_file = f\"./data/scraped/events_test/{index}.txt\"\n",
        "              with open(output_file, 'w', encoding='utf-8') as f:\n",
        "                  f.write(text)\n",
        "              print(f\"Saved content to {output_file}\")\n",
        "\n",
        "if __name__ == \"__main__\":\n",
        "    csv_file_path = './data/raw/csv_data/events_after_10_27.csv'\n",
        "    url_column_name = 'Source URL'\n",
        "\n",
        "    # Initialize the Chrome WebDriver\n",
        "    service = Service(executable_path=r'/usr/bin/chromedriver')\n",
        "    options = webdriver.ChromeOptions()\n",
        "    options.add_argument('--headless')\n",
        "    options.add_argument('--no-sandbox')\n",
        "    options.headless = True\n",
        "    driver = webdriver.Chrome(service=service, options=options)\n",
        "\n",
        "    try:\n",
        "        # Start crawling the URLs from the CSV\n",
        "        crawl_urls_from_csv(csv_file_path, url_column_name, driver)\n",
        "    except Exception as e:\n",
        "        print(f\"An error occurred during crawling: {e}\")\n",
        "    finally:\n",
        "        # Ensure the WebDriver is properly closed\n",
        "        driver.quit()"
      ]
    },
    {
      "cell_type": "markdown",
      "metadata": {
        "id": "x5zE7SZl4VSH"
      },
      "source": [
        "# data sharding"
      ]
    },
    {
      "cell_type": "code",
      "execution_count": null,
      "metadata": {
        "colab": {
          "base_uri": "https://localhost:8080/"
        },
        "id": "B3lYd9Ne9Z8q",
        "outputId": "e8260cea-1666-4e18-cd0b-eaecf2b58c6f"
      },
      "outputs": [
        {
          "name": "stderr",
          "output_type": "stream",
          "text": [
            "  2%|▏         | 3/159 [00:00<00:28,  5.49it/s]"
          ]
        },
        {
          "name": "stdout",
          "output_type": "stream",
          "text": [
            "Skipping empty file: 6.txt\n",
            "Skipping empty file: 2.txt\n",
            "Skipping empty file: 4.txt\n",
            "Skipping empty file: 16.txt\n",
            "Skipping empty file: 15.txt\n",
            "Skipping empty file: 85.txt\n",
            "Skipping empty file: 86.txt\n",
            "Skipping empty file: 87.txt\n",
            "Skipping empty file: 88.txt\n",
            "Skipping empty file: 89.txt\n",
            "Skipping empty file: 91.txt\n",
            "Skipping empty file: 90.txt\n",
            "Skipping empty file: 92.txt\n",
            "Skipping empty file: 94.txt\n",
            "Skipping empty file: 93.txt\n",
            "Skipping empty file: 95.txt\n",
            "Skipping empty file: 96.txt\n",
            "Skipping empty file: 97.txt\n",
            "Skipping empty file: 98.txt\n",
            "Skipping empty file: 120.txt\n",
            "Skipping empty file: 151.txt\n",
            "Skipping empty file: 152.txt\n"
          ]
        },
        {
          "name": "stderr",
          "output_type": "stream",
          "text": [
            "100%|██████████| 159/159 [00:16<00:00,  9.81it/s]"
          ]
        },
        {
          "name": "stdout",
          "output_type": "stream",
          "text": [
            "All files processed.\n"
          ]
        },
        {
          "name": "stderr",
          "output_type": "stream",
          "text": [
            "\n"
          ]
        }
      ],
      "source": [
        "import os\n",
        "import re\n",
        "from transformers import BartTokenizer\n",
        "from tqdm import tqdm\n",
        "\n",
        "# Load the tokenizer for the BART model\n",
        "tokenizer = BartTokenizer.from_pretrained(\"facebook/bart-large-cnn\")\n",
        "\n",
        "# Clean the text\n",
        "def clean_text(text):\n",
        "    # Remove non-ASCII characters\n",
        "    text = re.sub(r'[^\\x00-\\x7F]+', ' ', text)\n",
        "    # Remove extra whitespace\n",
        "    text = ' '.join(text.split())\n",
        "    return text\n",
        "\n",
        "# Read the content of a file\n",
        "def read_file(file_path):\n",
        "    with open(file_path, 'r', encoding='utf-8') as file:\n",
        "        return file.read()\n",
        "\n",
        "# Split text into chunks of 1024 tokens (or fewer)\n",
        "def split_into_token_chunks(text, max_tokens=1024):\n",
        "    try:\n",
        "        # Tokenize the text\n",
        "        tokens = tokenizer.encode(text, truncation=False, return_tensors=\"pt\")[0]\n",
        "\n",
        "        # Split tokens into chunks of max_tokens\n",
        "        chunks = []\n",
        "        for i in range(0, len(tokens), 1000):\n",
        "            chunk_tokens = tokens[i:i + 1000]\n",
        "\n",
        "            # Decode tokens back to text\n",
        "            chunk_text = tokenizer.decode(chunk_tokens, skip_special_tokens=True)\n",
        "\n",
        "            # Verify token count for the chunk\n",
        "            chunk_token_count = len(chunk_tokens)\n",
        "            if chunk_token_count > max_tokens:\n",
        "                raise ValueError(f\"Chunk exceeds {max_tokens} tokens: {chunk_token_count}\")\n",
        "\n",
        "            if chunk_text.strip():  # Skip empty chunks\n",
        "                chunks.append(chunk_text)\n",
        "\n",
        "        return chunks\n",
        "    except Exception as e:\n",
        "        print(f\"Error tokenizing or splitting text: {e}\")\n",
        "        return []\n",
        "\n",
        "# Save the processed text to a file\n",
        "def save_processed_text(text, output_dir, file_name, chunk_index=None):\n",
        "    if chunk_index is not None:\n",
        "        file_name = f\"{os.path.splitext(file_name)[0]}_chunk_{chunk_index}.txt\"\n",
        "    output_file = os.path.join(output_dir, file_name)\n",
        "    with open(output_file, 'w', encoding='utf-8') as file:\n",
        "        file.write(text)\n",
        "\n",
        "# Process each text file in the directory\n",
        "def process_directory(input_dir, output_dir):\n",
        "    # Ensure output directory exists\n",
        "    if not os.path.exists(output_dir):\n",
        "        os.makedirs(output_dir)\n",
        "\n",
        "    # Iterate over all text files in the input directory\n",
        "    for file_name in tqdm(os.listdir(input_dir)):\n",
        "        if file_name.endswith(\".txt\"):  # Only process .txt files\n",
        "            file_path = os.path.join(input_dir, file_name)\n",
        "            file_base_name = os.path.splitext(file_name)[0]  # Remove file extension\n",
        "\n",
        "            # Read the file content\n",
        "            text = read_file(file_path)\n",
        "\n",
        "            # Skip empty files\n",
        "            if not text.strip():\n",
        "                print(f\"Skipping empty file: {file_name}\")\n",
        "                continue\n",
        "\n",
        "            # Clean the text\n",
        "            cleaned_text = clean_text(text)\n",
        "\n",
        "            # Skip if cleaned text is empty\n",
        "            if not cleaned_text.strip():\n",
        "                print(f\"Skipping file with no valid text: {file_name}\")\n",
        "                continue\n",
        "\n",
        "            # Split the text into chunks of 1024 tokens (or fewer)\n",
        "            chunks = split_into_token_chunks(cleaned_text, max_tokens=1024)\n",
        "\n",
        "            # Skip if no valid chunks are produced\n",
        "            if not chunks:\n",
        "                print(f\"Skipping file with no valid chunks: {file_name}\")\n",
        "                continue\n",
        "\n",
        "            # Save each chunk as a separate file\n",
        "            if len(chunks) == 1:\n",
        "                # If there's only one chunk, save it as the original file name\n",
        "                save_processed_text(chunks[0], output_dir, file_name)\n",
        "            else:\n",
        "                # If there are multiple chunks, save each chunk with a suffix\n",
        "                for index, chunk in enumerate(chunks):\n",
        "                    save_processed_text(chunk, output_dir, file_name, chunk_index=index)\n",
        "\n",
        "    print(\"All files processed.\")\n",
        "\n",
        "# Set your input and output directories\n",
        "input_directory = './data/scraped/scraped_web_text_data'  # The directory containing your text files\n",
        "output_directory = './data/scraped/cleaned_and_truncated_text_data'  # Directory to save processed files\n",
        "\n",
        "# Create the directory if it doesn't exist\n",
        "os.makedirs(output_directory, exist_ok=True)\n",
        "\n",
        "# Process the directory\n",
        "process_directory(input_directory, output_directory)"
      ]
    },
    {
      "cell_type": "code",
      "execution_count": null,
      "metadata": {
        "colab": {
          "base_uri": "https://localhost:8080/"
        },
        "id": "nBJWornwfzI8",
        "outputId": "5a7b96bc-5cb4-4fef-cd78-a9c07384ddc6"
      },
      "outputs": [
        {
          "name": "stderr",
          "output_type": "stream",
          "text": [
            "Device set to use cuda:0\n",
            "  0%|          | 0/473 [00:00<?, ?it/s]Asking to truncate to max_length but no maximum length is provided and the model has no predefined maximum length. Default to no truncation.\n",
            "Your max_length is set to 1024, but your input_length is only 1000. Since this is a summarization task, where outputs shorter than the input are typically wanted, you might consider decreasing max_length manually, e.g. summarizer('...', max_length=500)\n",
            "  0%|          | 1/473 [00:03<31:05,  3.95s/it]Your max_length is set to 1024, but your input_length is only 1003. Since this is a summarization task, where outputs shorter than the input are typically wanted, you might consider decreasing max_length manually, e.g. summarizer('...', max_length=501)\n",
            "  0%|          | 2/473 [00:04<17:19,  2.21s/it]Your max_length is set to 1024, but your input_length is only 1003. Since this is a summarization task, where outputs shorter than the input are typically wanted, you might consider decreasing max_length manually, e.g. summarizer('...', max_length=501)\n",
            "  1%|          | 3/473 [00:05<13:06,  1.67s/it]Your max_length is set to 1024, but your input_length is only 1003. Since this is a summarization task, where outputs shorter than the input are typically wanted, you might consider decreasing max_length manually, e.g. summarizer('...', max_length=501)\n",
            "  1%|          | 4/473 [00:07<11:26,  1.46s/it]Your max_length is set to 1024, but your input_length is only 164. Since this is a summarization task, where outputs shorter than the input are typically wanted, you might consider decreasing max_length manually, e.g. summarizer('...', max_length=82)\n",
            "  1%|          | 5/473 [00:09<14:48,  1.90s/it]Your max_length is set to 1024, but your input_length is only 1001. Since this is a summarization task, where outputs shorter than the input are typically wanted, you might consider decreasing max_length manually, e.g. summarizer('...', max_length=500)\n",
            "  1%|▏         | 6/473 [00:11<15:06,  1.94s/it]Your max_length is set to 1024, but your input_length is only 1002. Since this is a summarization task, where outputs shorter than the input are typically wanted, you might consider decreasing max_length manually, e.g. summarizer('...', max_length=501)\n",
            "  1%|▏         | 7/473 [00:13<14:01,  1.81s/it]Your max_length is set to 1024, but your input_length is only 1000. Since this is a summarization task, where outputs shorter than the input are typically wanted, you might consider decreasing max_length manually, e.g. summarizer('...', max_length=500)\n",
            "  2%|▏         | 8/473 [00:14<12:43,  1.64s/it]Your max_length is set to 1024, but your input_length is only 1002. Since this is a summarization task, where outputs shorter than the input are typically wanted, you might consider decreasing max_length manually, e.g. summarizer('...', max_length=501)\n",
            "  2%|▏         | 9/473 [00:15<12:02,  1.56s/it]Your max_length is set to 1024, but your input_length is only 957. Since this is a summarization task, where outputs shorter than the input are typically wanted, you might consider decreasing max_length manually, e.g. summarizer('...', max_length=478)\n",
            "  2%|▏         | 10/473 [00:17<11:37,  1.51s/it]You seem to be using the pipelines sequentially on GPU. In order to maximize efficiency please use a dataset\n",
            "Your max_length is set to 1024, but your input_length is only 1000. Since this is a summarization task, where outputs shorter than the input are typically wanted, you might consider decreasing max_length manually, e.g. summarizer('...', max_length=500)\n",
            "  2%|▏         | 11/473 [00:19<12:53,  1.68s/it]Your max_length is set to 1024, but your input_length is only 1003. Since this is a summarization task, where outputs shorter than the input are typically wanted, you might consider decreasing max_length manually, e.g. summarizer('...', max_length=501)\n",
            "  3%|▎         | 12/473 [00:20<11:41,  1.52s/it]Your max_length is set to 1024, but your input_length is only 1003. Since this is a summarization task, where outputs shorter than the input are typically wanted, you might consider decreasing max_length manually, e.g. summarizer('...', max_length=501)\n",
            "  3%|▎         | 13/473 [00:22<11:20,  1.48s/it]Your max_length is set to 1024, but your input_length is only 1003. Since this is a summarization task, where outputs shorter than the input are typically wanted, you might consider decreasing max_length manually, e.g. summarizer('...', max_length=501)\n",
            "  3%|▎         | 14/473 [00:23<11:36,  1.52s/it]Your max_length is set to 1024, but your input_length is only 1002. Since this is a summarization task, where outputs shorter than the input are typically wanted, you might consider decreasing max_length manually, e.g. summarizer('...', max_length=501)\n",
            "  3%|▎         | 15/473 [00:25<11:35,  1.52s/it]Your max_length is set to 1024, but your input_length is only 1002. Since this is a summarization task, where outputs shorter than the input are typically wanted, you might consider decreasing max_length manually, e.g. summarizer('...', max_length=501)\n",
            "  3%|▎         | 16/473 [00:26<10:26,  1.37s/it]Your max_length is set to 1024, but your input_length is only 1003. Since this is a summarization task, where outputs shorter than the input are typically wanted, you might consider decreasing max_length manually, e.g. summarizer('...', max_length=501)\n",
            "  4%|▎         | 17/473 [00:27<09:47,  1.29s/it]Your max_length is set to 1024, but your input_length is only 1003. Since this is a summarization task, where outputs shorter than the input are typically wanted, you might consider decreasing max_length manually, e.g. summarizer('...', max_length=501)\n",
            "  4%|▍         | 18/473 [00:28<09:29,  1.25s/it]Your max_length is set to 1024, but your input_length is only 1003. Since this is a summarization task, where outputs shorter than the input are typically wanted, you might consider decreasing max_length manually, e.g. summarizer('...', max_length=501)\n",
            "  4%|▍         | 19/473 [00:29<09:03,  1.20s/it]Your max_length is set to 1024, but your input_length is only 1003. Since this is a summarization task, where outputs shorter than the input are typically wanted, you might consider decreasing max_length manually, e.g. summarizer('...', max_length=501)\n",
            "  4%|▍         | 20/473 [00:30<08:47,  1.16s/it]Your max_length is set to 1024, but your input_length is only 1003. Since this is a summarization task, where outputs shorter than the input are typically wanted, you might consider decreasing max_length manually, e.g. summarizer('...', max_length=501)\n",
            "  4%|▍         | 21/473 [00:31<09:07,  1.21s/it]Your max_length is set to 1024, but your input_length is only 541. Since this is a summarization task, where outputs shorter than the input are typically wanted, you might consider decreasing max_length manually, e.g. summarizer('...', max_length=270)\n",
            "  5%|▍         | 22/473 [00:33<09:30,  1.26s/it]Your max_length is set to 1024, but your input_length is only 1000. Since this is a summarization task, where outputs shorter than the input are typically wanted, you might consider decreasing max_length manually, e.g. summarizer('...', max_length=500)\n",
            "  5%|▍         | 23/473 [00:34<09:43,  1.30s/it]Your max_length is set to 1024, but your input_length is only 1002. Since this is a summarization task, where outputs shorter than the input are typically wanted, you might consider decreasing max_length manually, e.g. summarizer('...', max_length=501)\n",
            "  5%|▌         | 24/473 [00:37<12:27,  1.66s/it]Your max_length is set to 1024, but your input_length is only 1003. Since this is a summarization task, where outputs shorter than the input are typically wanted, you might consider decreasing max_length manually, e.g. summarizer('...', max_length=501)\n",
            "  5%|▌         | 25/473 [00:38<11:33,  1.55s/it]Your max_length is set to 1024, but your input_length is only 1003. Since this is a summarization task, where outputs shorter than the input are typically wanted, you might consider decreasing max_length manually, e.g. summarizer('...', max_length=501)\n",
            "  5%|▌         | 26/473 [00:39<10:32,  1.41s/it]Your max_length is set to 1024, but your input_length is only 1003. Since this is a summarization task, where outputs shorter than the input are typically wanted, you might consider decreasing max_length manually, e.g. summarizer('...', max_length=501)\n",
            "  6%|▌         | 27/473 [00:41<10:45,  1.45s/it]Your max_length is set to 1024, but your input_length is only 1003. Since this is a summarization task, where outputs shorter than the input are typically wanted, you might consider decreasing max_length manually, e.g. summarizer('...', max_length=501)\n",
            "  6%|▌         | 28/473 [00:42<10:17,  1.39s/it]Your max_length is set to 1024, but your input_length is only 1002. Since this is a summarization task, where outputs shorter than the input are typically wanted, you might consider decreasing max_length manually, e.g. summarizer('...', max_length=501)\n",
            "  6%|▌         | 29/473 [00:43<10:13,  1.38s/it]Your max_length is set to 1024, but your input_length is only 1002. Since this is a summarization task, where outputs shorter than the input are typically wanted, you might consider decreasing max_length manually, e.g. summarizer('...', max_length=501)\n",
            "  6%|▋         | 30/473 [00:44<09:41,  1.31s/it]Your max_length is set to 1024, but your input_length is only 1003. Since this is a summarization task, where outputs shorter than the input are typically wanted, you might consider decreasing max_length manually, e.g. summarizer('...', max_length=501)\n",
            "  7%|▋         | 31/473 [00:46<09:51,  1.34s/it]Your max_length is set to 1024, but your input_length is only 1003. Since this is a summarization task, where outputs shorter than the input are typically wanted, you might consider decreasing max_length manually, e.g. summarizer('...', max_length=501)\n",
            "  7%|▋         | 32/473 [00:47<10:08,  1.38s/it]Your max_length is set to 1024, but your input_length is only 1002. Since this is a summarization task, where outputs shorter than the input are typically wanted, you might consider decreasing max_length manually, e.g. summarizer('...', max_length=501)\n",
            "  7%|▋         | 33/473 [00:49<10:30,  1.43s/it]Your max_length is set to 1024, but your input_length is only 1003. Since this is a summarization task, where outputs shorter than the input are typically wanted, you might consider decreasing max_length manually, e.g. summarizer('...', max_length=501)\n",
            "  7%|▋         | 34/473 [00:50<10:14,  1.40s/it]Your max_length is set to 1024, but your input_length is only 1003. Since this is a summarization task, where outputs shorter than the input are typically wanted, you might consider decreasing max_length manually, e.g. summarizer('...', max_length=501)\n",
            "  7%|▋         | 35/473 [00:52<10:17,  1.41s/it]Your max_length is set to 1024, but your input_length is only 1003. Since this is a summarization task, where outputs shorter than the input are typically wanted, you might consider decreasing max_length manually, e.g. summarizer('...', max_length=501)\n",
            "  8%|▊         | 36/473 [00:53<09:40,  1.33s/it]Your max_length is set to 1024, but your input_length is only 1003. Since this is a summarization task, where outputs shorter than the input are typically wanted, you might consider decreasing max_length manually, e.g. summarizer('...', max_length=501)\n",
            "  8%|▊         | 37/473 [00:54<09:40,  1.33s/it]Your max_length is set to 1024, but your input_length is only 1003. Since this is a summarization task, where outputs shorter than the input are typically wanted, you might consider decreasing max_length manually, e.g. summarizer('...', max_length=501)\n",
            "  8%|▊         | 38/473 [00:55<09:34,  1.32s/it]Your max_length is set to 1024, but your input_length is only 1003. Since this is a summarization task, where outputs shorter than the input are typically wanted, you might consider decreasing max_length manually, e.g. summarizer('...', max_length=501)\n",
            "  8%|▊         | 39/473 [00:56<09:10,  1.27s/it]Your max_length is set to 1024, but your input_length is only 1003. Since this is a summarization task, where outputs shorter than the input are typically wanted, you might consider decreasing max_length manually, e.g. summarizer('...', max_length=501)\n",
            "  8%|▊         | 40/473 [00:58<09:36,  1.33s/it]Your max_length is set to 1024, but your input_length is only 1003. Since this is a summarization task, where outputs shorter than the input are typically wanted, you might consider decreasing max_length manually, e.g. summarizer('...', max_length=501)\n",
            "  9%|▊         | 41/473 [00:59<09:12,  1.28s/it]Your max_length is set to 1024, but your input_length is only 1003. Since this is a summarization task, where outputs shorter than the input are typically wanted, you might consider decreasing max_length manually, e.g. summarizer('...', max_length=501)\n",
            "  9%|▉         | 42/473 [01:01<09:47,  1.36s/it]Your max_length is set to 1024, but your input_length is only 1003. Since this is a summarization task, where outputs shorter than the input are typically wanted, you might consider decreasing max_length manually, e.g. summarizer('...', max_length=501)\n",
            "  9%|▉         | 43/473 [01:02<10:15,  1.43s/it]Your max_length is set to 1024, but your input_length is only 1003. Since this is a summarization task, where outputs shorter than the input are typically wanted, you might consider decreasing max_length manually, e.g. summarizer('...', max_length=501)\n",
            "  9%|▉         | 44/473 [01:04<10:21,  1.45s/it]Your max_length is set to 1024, but your input_length is only 1003. Since this is a summarization task, where outputs shorter than the input are typically wanted, you might consider decreasing max_length manually, e.g. summarizer('...', max_length=501)\n",
            " 10%|▉         | 45/473 [01:05<10:33,  1.48s/it]Your max_length is set to 1024, but your input_length is only 1003. Since this is a summarization task, where outputs shorter than the input are typically wanted, you might consider decreasing max_length manually, e.g. summarizer('...', max_length=501)\n",
            " 10%|▉         | 46/473 [01:06<09:56,  1.40s/it]Your max_length is set to 1024, but your input_length is only 1002. Since this is a summarization task, where outputs shorter than the input are typically wanted, you might consider decreasing max_length manually, e.g. summarizer('...', max_length=501)\n",
            " 10%|▉         | 47/473 [01:08<09:16,  1.31s/it]Your max_length is set to 1024, but your input_length is only 1003. Since this is a summarization task, where outputs shorter than the input are typically wanted, you might consider decreasing max_length manually, e.g. summarizer('...', max_length=501)\n",
            " 10%|█         | 48/473 [01:09<09:02,  1.28s/it]Your max_length is set to 1024, but your input_length is only 1003. Since this is a summarization task, where outputs shorter than the input are typically wanted, you might consider decreasing max_length manually, e.g. summarizer('...', max_length=501)\n",
            " 10%|█         | 49/473 [01:10<09:25,  1.33s/it]Your max_length is set to 1024, but your input_length is only 1003. Since this is a summarization task, where outputs shorter than the input are typically wanted, you might consider decreasing max_length manually, e.g. summarizer('...', max_length=501)\n",
            " 11%|█         | 50/473 [01:12<09:30,  1.35s/it]Your max_length is set to 1024, but your input_length is only 1003. Since this is a summarization task, where outputs shorter than the input are typically wanted, you might consider decreasing max_length manually, e.g. summarizer('...', max_length=501)\n",
            " 11%|█         | 51/473 [01:14<11:34,  1.65s/it]Your max_length is set to 1024, but your input_length is only 1003. Since this is a summarization task, where outputs shorter than the input are typically wanted, you might consider decreasing max_length manually, e.g. summarizer('...', max_length=501)\n",
            " 11%|█         | 52/473 [01:15<10:59,  1.57s/it]Your max_length is set to 1024, but your input_length is only 1003. Since this is a summarization task, where outputs shorter than the input are typically wanted, you might consider decreasing max_length manually, e.g. summarizer('...', max_length=501)\n",
            " 11%|█         | 53/473 [01:17<10:52,  1.55s/it]Your max_length is set to 1024, but your input_length is only 1002. Since this is a summarization task, where outputs shorter than the input are typically wanted, you might consider decreasing max_length manually, e.g. summarizer('...', max_length=501)\n",
            " 11%|█▏        | 54/473 [01:19<11:31,  1.65s/it]Your max_length is set to 1024, but your input_length is only 1002. Since this is a summarization task, where outputs shorter than the input are typically wanted, you might consider decreasing max_length manually, e.g. summarizer('...', max_length=501)\n",
            " 12%|█▏        | 55/473 [01:20<10:45,  1.55s/it]Your max_length is set to 1024, but your input_length is only 1003. Since this is a summarization task, where outputs shorter than the input are typically wanted, you might consider decreasing max_length manually, e.g. summarizer('...', max_length=501)\n",
            " 12%|█▏        | 56/473 [01:21<10:21,  1.49s/it]Your max_length is set to 1024, but your input_length is only 1002. Since this is a summarization task, where outputs shorter than the input are typically wanted, you might consider decreasing max_length manually, e.g. summarizer('...', max_length=501)\n",
            " 12%|█▏        | 57/473 [01:23<09:36,  1.39s/it]Your max_length is set to 1024, but your input_length is only 1003. Since this is a summarization task, where outputs shorter than the input are typically wanted, you might consider decreasing max_length manually, e.g. summarizer('...', max_length=501)\n",
            " 12%|█▏        | 58/473 [01:24<09:04,  1.31s/it]Your max_length is set to 1024, but your input_length is only 1003. Since this is a summarization task, where outputs shorter than the input are typically wanted, you might consider decreasing max_length manually, e.g. summarizer('...', max_length=501)\n",
            " 12%|█▏        | 59/473 [01:25<09:15,  1.34s/it]Your max_length is set to 1024, but your input_length is only 1003. Since this is a summarization task, where outputs shorter than the input are typically wanted, you might consider decreasing max_length manually, e.g. summarizer('...', max_length=501)\n",
            " 13%|█▎        | 60/473 [01:27<09:58,  1.45s/it]Your max_length is set to 1024, but your input_length is only 165. Since this is a summarization task, where outputs shorter than the input are typically wanted, you might consider decreasing max_length manually, e.g. summarizer('...', max_length=82)\n",
            " 13%|█▎        | 61/473 [01:28<09:44,  1.42s/it]Your max_length is set to 1024, but your input_length is only 1001. Since this is a summarization task, where outputs shorter than the input are typically wanted, you might consider decreasing max_length manually, e.g. summarizer('...', max_length=500)\n",
            " 13%|█▎        | 62/473 [01:30<09:40,  1.41s/it]Your max_length is set to 1024, but your input_length is only 1003. Since this is a summarization task, where outputs shorter than the input are typically wanted, you might consider decreasing max_length manually, e.g. summarizer('...', max_length=501)\n",
            " 13%|█▎        | 63/473 [01:31<09:06,  1.33s/it]Your max_length is set to 1024, but your input_length is only 1003. Since this is a summarization task, where outputs shorter than the input are typically wanted, you might consider decreasing max_length manually, e.g. summarizer('...', max_length=501)\n",
            " 14%|█▎        | 64/473 [01:32<08:57,  1.32s/it]Your max_length is set to 1024, but your input_length is only 1003. Since this is a summarization task, where outputs shorter than the input are typically wanted, you might consider decreasing max_length manually, e.g. summarizer('...', max_length=501)\n",
            " 14%|█▎        | 65/473 [01:33<09:08,  1.34s/it]Your max_length is set to 1024, but your input_length is only 1002. Since this is a summarization task, where outputs shorter than the input are typically wanted, you might consider decreasing max_length manually, e.g. summarizer('...', max_length=501)\n",
            " 14%|█▍        | 66/473 [01:35<08:52,  1.31s/it]Your max_length is set to 1024, but your input_length is only 1003. Since this is a summarization task, where outputs shorter than the input are typically wanted, you might consider decreasing max_length manually, e.g. summarizer('...', max_length=501)\n",
            " 14%|█▍        | 67/473 [01:36<08:41,  1.28s/it]Your max_length is set to 1024, but your input_length is only 1003. Since this is a summarization task, where outputs shorter than the input are typically wanted, you might consider decreasing max_length manually, e.g. summarizer('...', max_length=501)\n",
            " 14%|█▍        | 68/473 [01:37<08:29,  1.26s/it]Your max_length is set to 1024, but your input_length is only 1003. Since this is a summarization task, where outputs shorter than the input are typically wanted, you might consider decreasing max_length manually, e.g. summarizer('...', max_length=501)\n",
            " 15%|█▍        | 69/473 [01:38<08:07,  1.21s/it]Your max_length is set to 1024, but your input_length is only 1003. Since this is a summarization task, where outputs shorter than the input are typically wanted, you might consider decreasing max_length manually, e.g. summarizer('...', max_length=501)\n",
            " 15%|█▍        | 70/473 [01:40<08:45,  1.31s/it]Your max_length is set to 1024, but your input_length is only 1003. Since this is a summarization task, where outputs shorter than the input are typically wanted, you might consider decreasing max_length manually, e.g. summarizer('...', max_length=501)\n",
            " 15%|█▌        | 71/473 [01:41<09:31,  1.42s/it]Your max_length is set to 1024, but your input_length is only 1003. Since this is a summarization task, where outputs shorter than the input are typically wanted, you might consider decreasing max_length manually, e.g. summarizer('...', max_length=501)\n",
            " 15%|█▌        | 72/473 [01:43<10:41,  1.60s/it]Your max_length is set to 1024, but your input_length is only 1003. Since this is a summarization task, where outputs shorter than the input are typically wanted, you might consider decreasing max_length manually, e.g. summarizer('...', max_length=501)\n",
            " 15%|█▌        | 73/473 [01:45<09:50,  1.48s/it]Your max_length is set to 1024, but your input_length is only 1003. Since this is a summarization task, where outputs shorter than the input are typically wanted, you might consider decreasing max_length manually, e.g. summarizer('...', max_length=501)\n",
            " 16%|█▌        | 74/473 [01:46<09:04,  1.36s/it]Your max_length is set to 1024, but your input_length is only 1002. Since this is a summarization task, where outputs shorter than the input are typically wanted, you might consider decreasing max_length manually, e.g. summarizer('...', max_length=501)\n",
            " 16%|█▌        | 75/473 [01:47<09:04,  1.37s/it]Your max_length is set to 1024, but your input_length is only 1003. Since this is a summarization task, where outputs shorter than the input are typically wanted, you might consider decreasing max_length manually, e.g. summarizer('...', max_length=501)\n",
            " 16%|█▌        | 76/473 [01:48<08:41,  1.31s/it]Your max_length is set to 1024, but your input_length is only 1002. Since this is a summarization task, where outputs shorter than the input are typically wanted, you might consider decreasing max_length manually, e.g. summarizer('...', max_length=501)\n",
            " 16%|█▋        | 77/473 [01:49<08:33,  1.30s/it]Your max_length is set to 1024, but your input_length is only 1003. Since this is a summarization task, where outputs shorter than the input are typically wanted, you might consider decreasing max_length manually, e.g. summarizer('...', max_length=501)\n",
            " 16%|█▋        | 78/473 [01:51<08:22,  1.27s/it]Your max_length is set to 1024, but your input_length is only 1002. Since this is a summarization task, where outputs shorter than the input are typically wanted, you might consider decreasing max_length manually, e.g. summarizer('...', max_length=501)\n",
            " 17%|█▋        | 79/473 [01:52<08:22,  1.27s/it]Your max_length is set to 1024, but your input_length is only 759. Since this is a summarization task, where outputs shorter than the input are typically wanted, you might consider decreasing max_length manually, e.g. summarizer('...', max_length=379)\n",
            " 17%|█▋        | 80/473 [01:54<09:24,  1.44s/it]Your max_length is set to 1024, but your input_length is only 1000. Since this is a summarization task, where outputs shorter than the input are typically wanted, you might consider decreasing max_length manually, e.g. summarizer('...', max_length=500)\n",
            " 17%|█▋        | 81/473 [01:55<09:32,  1.46s/it]Your max_length is set to 1024, but your input_length is only 1003. Since this is a summarization task, where outputs shorter than the input are typically wanted, you might consider decreasing max_length manually, e.g. summarizer('...', max_length=501)\n",
            " 17%|█▋        | 82/473 [01:57<09:22,  1.44s/it]Your max_length is set to 1024, but your input_length is only 410. Since this is a summarization task, where outputs shorter than the input are typically wanted, you might consider decreasing max_length manually, e.g. summarizer('...', max_length=205)\n",
            " 18%|█▊        | 83/473 [01:58<08:58,  1.38s/it]Your max_length is set to 1024, but your input_length is only 1000. Since this is a summarization task, where outputs shorter than the input are typically wanted, you might consider decreasing max_length manually, e.g. summarizer('...', max_length=500)\n",
            " 18%|█▊        | 84/473 [01:59<08:58,  1.39s/it]Your max_length is set to 1024, but your input_length is only 1003. Since this is a summarization task, where outputs shorter than the input are typically wanted, you might consider decreasing max_length manually, e.g. summarizer('...', max_length=501)\n",
            " 18%|█▊        | 85/473 [02:01<08:39,  1.34s/it]Your max_length is set to 1024, but your input_length is only 799. Since this is a summarization task, where outputs shorter than the input are typically wanted, you might consider decreasing max_length manually, e.g. summarizer('...', max_length=399)\n",
            " 18%|█▊        | 86/473 [02:02<08:39,  1.34s/it]Your max_length is set to 1024, but your input_length is only 1000. Since this is a summarization task, where outputs shorter than the input are typically wanted, you might consider decreasing max_length manually, e.g. summarizer('...', max_length=500)\n",
            " 18%|█▊        | 87/473 [02:05<11:38,  1.81s/it]Your max_length is set to 1024, but your input_length is only 1003. Since this is a summarization task, where outputs shorter than the input are typically wanted, you might consider decreasing max_length manually, e.g. summarizer('...', max_length=501)\n",
            " 19%|█▊        | 88/473 [02:06<11:15,  1.75s/it]Your max_length is set to 1024, but your input_length is only 1003. Since this is a summarization task, where outputs shorter than the input are typically wanted, you might consider decreasing max_length manually, e.g. summarizer('...', max_length=501)\n",
            " 19%|█▉        | 89/473 [02:08<10:11,  1.59s/it]Your max_length is set to 1024, but your input_length is only 1002. Since this is a summarization task, where outputs shorter than the input are typically wanted, you might consider decreasing max_length manually, e.g. summarizer('...', max_length=501)\n",
            " 19%|█▉        | 90/473 [02:09<10:29,  1.64s/it]Your max_length is set to 1024, but your input_length is only 1002. Since this is a summarization task, where outputs shorter than the input are typically wanted, you might consider decreasing max_length manually, e.g. summarizer('...', max_length=501)\n",
            " 19%|█▉        | 91/473 [02:10<09:19,  1.46s/it]Your max_length is set to 1024, but your input_length is only 1003. Since this is a summarization task, where outputs shorter than the input are typically wanted, you might consider decreasing max_length manually, e.g. summarizer('...', max_length=501)\n",
            " 19%|█▉        | 92/473 [02:12<08:38,  1.36s/it]Your max_length is set to 1024, but your input_length is only 1003. Since this is a summarization task, where outputs shorter than the input are typically wanted, you might consider decreasing max_length manually, e.g. summarizer('...', max_length=501)\n",
            " 20%|█▉        | 93/473 [02:13<09:03,  1.43s/it]Your max_length is set to 1024, but your input_length is only 1003. Since this is a summarization task, where outputs shorter than the input are typically wanted, you might consider decreasing max_length manually, e.g. summarizer('...', max_length=501)\n",
            " 20%|█▉        | 94/473 [02:14<08:20,  1.32s/it]Your max_length is set to 1024, but your input_length is only 1003. Since this is a summarization task, where outputs shorter than the input are typically wanted, you might consider decreasing max_length manually, e.g. summarizer('...', max_length=501)\n",
            " 20%|██        | 95/473 [02:15<07:57,  1.26s/it]Your max_length is set to 1024, but your input_length is only 1003. Since this is a summarization task, where outputs shorter than the input are typically wanted, you might consider decreasing max_length manually, e.g. summarizer('...', max_length=501)\n",
            " 20%|██        | 96/473 [02:16<07:35,  1.21s/it]Your max_length is set to 1024, but your input_length is only 1003. Since this is a summarization task, where outputs shorter than the input are typically wanted, you might consider decreasing max_length manually, e.g. summarizer('...', max_length=501)\n",
            " 21%|██        | 97/473 [02:18<08:12,  1.31s/it]Your max_length is set to 1024, but your input_length is only 226. Since this is a summarization task, where outputs shorter than the input are typically wanted, you might consider decreasing max_length manually, e.g. summarizer('...', max_length=113)\n",
            " 21%|██        | 98/473 [02:19<08:04,  1.29s/it]Your max_length is set to 1024, but your input_length is only 1000. Since this is a summarization task, where outputs shorter than the input are typically wanted, you might consider decreasing max_length manually, e.g. summarizer('...', max_length=500)\n",
            " 21%|██        | 99/473 [02:21<09:44,  1.56s/it]Your max_length is set to 1024, but your input_length is only 1003. Since this is a summarization task, where outputs shorter than the input are typically wanted, you might consider decreasing max_length manually, e.g. summarizer('...', max_length=501)\n",
            " 21%|██        | 100/473 [02:23<09:21,  1.50s/it]Your max_length is set to 1024, but your input_length is only 1003. Since this is a summarization task, where outputs shorter than the input are typically wanted, you might consider decreasing max_length manually, e.g. summarizer('...', max_length=501)\n",
            " 21%|██▏       | 101/473 [02:24<08:32,  1.38s/it]Your max_length is set to 1024, but your input_length is only 1003. Since this is a summarization task, where outputs shorter than the input are typically wanted, you might consider decreasing max_length manually, e.g. summarizer('...', max_length=501)\n",
            " 22%|██▏       | 102/473 [02:25<08:17,  1.34s/it]Your max_length is set to 1024, but your input_length is only 1003. Since this is a summarization task, where outputs shorter than the input are typically wanted, you might consider decreasing max_length manually, e.g. summarizer('...', max_length=501)\n",
            " 22%|██▏       | 103/473 [02:26<07:57,  1.29s/it]Your max_length is set to 1024, but your input_length is only 1003. Since this is a summarization task, where outputs shorter than the input are typically wanted, you might consider decreasing max_length manually, e.g. summarizer('...', max_length=501)\n",
            " 22%|██▏       | 104/473 [02:28<08:23,  1.37s/it]Your max_length is set to 1024, but your input_length is only 1003. Since this is a summarization task, where outputs shorter than the input are typically wanted, you might consider decreasing max_length manually, e.g. summarizer('...', max_length=501)\n",
            " 22%|██▏       | 105/473 [02:29<08:28,  1.38s/it]Your max_length is set to 1024, but your input_length is only 716. Since this is a summarization task, where outputs shorter than the input are typically wanted, you might consider decreasing max_length manually, e.g. summarizer('...', max_length=358)\n",
            " 22%|██▏       | 106/473 [02:31<08:42,  1.42s/it]Your max_length is set to 1024, but your input_length is only 1001. Since this is a summarization task, where outputs shorter than the input are typically wanted, you might consider decreasing max_length manually, e.g. summarizer('...', max_length=500)\n",
            " 23%|██▎       | 107/473 [02:33<10:09,  1.66s/it]Your max_length is set to 1024, but your input_length is only 129. Since this is a summarization task, where outputs shorter than the input are typically wanted, you might consider decreasing max_length manually, e.g. summarizer('...', max_length=64)\n",
            " 23%|██▎       | 108/473 [02:34<09:14,  1.52s/it]Your max_length is set to 1024, but your input_length is only 1001. Since this is a summarization task, where outputs shorter than the input are typically wanted, you might consider decreasing max_length manually, e.g. summarizer('...', max_length=500)\n",
            " 23%|██▎       | 109/473 [02:35<08:30,  1.40s/it]Your max_length is set to 1024, but your input_length is only 657. Since this is a summarization task, where outputs shorter than the input are typically wanted, you might consider decreasing max_length manually, e.g. summarizer('...', max_length=328)\n",
            " 23%|██▎       | 110/473 [02:37<08:25,  1.39s/it]Your max_length is set to 1024, but your input_length is only 1000. Since this is a summarization task, where outputs shorter than the input are typically wanted, you might consider decreasing max_length manually, e.g. summarizer('...', max_length=500)\n",
            " 23%|██▎       | 111/473 [02:38<09:02,  1.50s/it]Your max_length is set to 1024, but your input_length is only 1003. Since this is a summarization task, where outputs shorter than the input are typically wanted, you might consider decreasing max_length manually, e.g. summarizer('...', max_length=501)\n",
            " 24%|██▎       | 112/473 [02:40<08:39,  1.44s/it]Your max_length is set to 1024, but your input_length is only 1003. Since this is a summarization task, where outputs shorter than the input are typically wanted, you might consider decreasing max_length manually, e.g. summarizer('...', max_length=501)\n",
            " 24%|██▍       | 113/473 [02:41<08:14,  1.37s/it]Your max_length is set to 1024, but your input_length is only 1003. Since this is a summarization task, where outputs shorter than the input are typically wanted, you might consider decreasing max_length manually, e.g. summarizer('...', max_length=501)\n",
            " 24%|██▍       | 114/473 [02:42<07:44,  1.29s/it]Your max_length is set to 1024, but your input_length is only 1003. Since this is a summarization task, where outputs shorter than the input are typically wanted, you might consider decreasing max_length manually, e.g. summarizer('...', max_length=501)\n",
            " 24%|██▍       | 115/473 [02:44<08:12,  1.38s/it]Your max_length is set to 1024, but your input_length is only 621. Since this is a summarization task, where outputs shorter than the input are typically wanted, you might consider decreasing max_length manually, e.g. summarizer('...', max_length=310)\n",
            " 25%|██▍       | 116/473 [02:46<09:27,  1.59s/it]Your max_length is set to 1024, but your input_length is only 1000. Since this is a summarization task, where outputs shorter than the input are typically wanted, you might consider decreasing max_length manually, e.g. summarizer('...', max_length=500)\n",
            " 25%|██▍       | 117/473 [02:47<09:32,  1.61s/it]Your max_length is set to 1024, but your input_length is only 1003. Since this is a summarization task, where outputs shorter than the input are typically wanted, you might consider decreasing max_length manually, e.g. summarizer('...', max_length=501)\n",
            " 25%|██▍       | 118/473 [02:49<08:44,  1.48s/it]Your max_length is set to 1024, but your input_length is only 1003. Since this is a summarization task, where outputs shorter than the input are typically wanted, you might consider decreasing max_length manually, e.g. summarizer('...', max_length=501)\n",
            " 25%|██▌       | 119/473 [02:50<08:19,  1.41s/it]Your max_length is set to 1024, but your input_length is only 1003. Since this is a summarization task, where outputs shorter than the input are typically wanted, you might consider decreasing max_length manually, e.g. summarizer('...', max_length=501)\n",
            " 25%|██▌       | 120/473 [02:51<07:53,  1.34s/it]Your max_length is set to 1024, but your input_length is only 1003. Since this is a summarization task, where outputs shorter than the input are typically wanted, you might consider decreasing max_length manually, e.g. summarizer('...', max_length=501)\n",
            " 26%|██▌       | 121/473 [02:52<07:56,  1.35s/it]Your max_length is set to 1024, but your input_length is only 1002. Since this is a summarization task, where outputs shorter than the input are typically wanted, you might consider decreasing max_length manually, e.g. summarizer('...', max_length=501)\n",
            " 26%|██▌       | 122/473 [02:54<08:08,  1.39s/it]Your max_length is set to 1024, but your input_length is only 1002. Since this is a summarization task, where outputs shorter than the input are typically wanted, you might consider decreasing max_length manually, e.g. summarizer('...', max_length=501)\n",
            " 26%|██▌       | 123/473 [02:55<08:10,  1.40s/it]Your max_length is set to 1024, but your input_length is only 697. Since this is a summarization task, where outputs shorter than the input are typically wanted, you might consider decreasing max_length manually, e.g. summarizer('...', max_length=348)\n",
            " 26%|██▌       | 124/473 [02:57<08:44,  1.50s/it]Your max_length is set to 1024, but your input_length is only 1001. Since this is a summarization task, where outputs shorter than the input are typically wanted, you might consider decreasing max_length manually, e.g. summarizer('...', max_length=500)\n",
            " 26%|██▋       | 125/473 [02:59<09:50,  1.70s/it]Your max_length is set to 1024, but your input_length is only 1002. Since this is a summarization task, where outputs shorter than the input are typically wanted, you might consider decreasing max_length manually, e.g. summarizer('...', max_length=501)\n",
            " 27%|██▋       | 126/473 [03:01<10:34,  1.83s/it]Your max_length is set to 1024, but your input_length is only 1003. Since this is a summarization task, where outputs shorter than the input are typically wanted, you might consider decreasing max_length manually, e.g. summarizer('...', max_length=501)\n",
            " 27%|██▋       | 127/473 [03:03<09:38,  1.67s/it]Your max_length is set to 1024, but your input_length is only 1003. Since this is a summarization task, where outputs shorter than the input are typically wanted, you might consider decreasing max_length manually, e.g. summarizer('...', max_length=501)\n",
            " 27%|██▋       | 128/473 [03:04<08:50,  1.54s/it]Your max_length is set to 1024, but your input_length is only 1003. Since this is a summarization task, where outputs shorter than the input are typically wanted, you might consider decreasing max_length manually, e.g. summarizer('...', max_length=501)\n",
            " 27%|██▋       | 129/473 [03:05<08:07,  1.42s/it]Your max_length is set to 1024, but your input_length is only 1003. Since this is a summarization task, where outputs shorter than the input are typically wanted, you might consider decreasing max_length manually, e.g. summarizer('...', max_length=501)\n",
            " 27%|██▋       | 130/473 [03:06<07:28,  1.31s/it]Your max_length is set to 1024, but your input_length is only 1003. Since this is a summarization task, where outputs shorter than the input are typically wanted, you might consider decreasing max_length manually, e.g. summarizer('...', max_length=501)\n",
            " 28%|██▊       | 131/473 [03:07<07:13,  1.27s/it]Your max_length is set to 1024, but your input_length is only 1003. Since this is a summarization task, where outputs shorter than the input are typically wanted, you might consider decreasing max_length manually, e.g. summarizer('...', max_length=501)\n",
            " 28%|██▊       | 132/473 [03:11<11:29,  2.02s/it]Your max_length is set to 1024, but your input_length is only 1003. Since this is a summarization task, where outputs shorter than the input are typically wanted, you might consider decreasing max_length manually, e.g. summarizer('...', max_length=501)\n",
            " 28%|██▊       | 133/473 [03:13<10:35,  1.87s/it]Your max_length is set to 1024, but your input_length is only 265. Since this is a summarization task, where outputs shorter than the input are typically wanted, you might consider decreasing max_length manually, e.g. summarizer('...', max_length=132)\n",
            " 28%|██▊       | 134/473 [03:14<09:56,  1.76s/it]Your max_length is set to 1024, but your input_length is only 1001. Since this is a summarization task, where outputs shorter than the input are typically wanted, you might consider decreasing max_length manually, e.g. summarizer('...', max_length=500)\n",
            " 29%|██▊       | 135/473 [03:16<10:12,  1.81s/it]Your max_length is set to 1024, but your input_length is only 927. Since this is a summarization task, where outputs shorter than the input are typically wanted, you might consider decreasing max_length manually, e.g. summarizer('...', max_length=463)\n",
            " 29%|██▉       | 136/473 [03:17<09:35,  1.71s/it]Your max_length is set to 1024, but your input_length is only 1001. Since this is a summarization task, where outputs shorter than the input are typically wanted, you might consider decreasing max_length manually, e.g. summarizer('...', max_length=500)\n",
            " 29%|██▉       | 137/473 [03:19<08:51,  1.58s/it]Your max_length is set to 1024, but your input_length is only 40. Since this is a summarization task, where outputs shorter than the input are typically wanted, you might consider decreasing max_length manually, e.g. summarizer('...', max_length=20)\n",
            " 29%|██▉       | 138/473 [03:20<08:17,  1.48s/it]Your max_length is set to 1024, but your input_length is only 1000. Since this is a summarization task, where outputs shorter than the input are typically wanted, you might consider decreasing max_length manually, e.g. summarizer('...', max_length=500)\n",
            " 29%|██▉       | 139/473 [03:21<08:06,  1.46s/it]Your max_length is set to 1024, but your input_length is only 1002. Since this is a summarization task, where outputs shorter than the input are typically wanted, you might consider decreasing max_length manually, e.g. summarizer('...', max_length=501)\n",
            " 30%|██▉       | 140/473 [03:23<08:15,  1.49s/it]Your max_length is set to 1024, but your input_length is only 1003. Since this is a summarization task, where outputs shorter than the input are typically wanted, you might consider decreasing max_length manually, e.g. summarizer('...', max_length=501)\n",
            " 30%|██▉       | 141/473 [03:25<08:49,  1.59s/it]Your max_length is set to 1024, but your input_length is only 1003. Since this is a summarization task, where outputs shorter than the input are typically wanted, you might consider decreasing max_length manually, e.g. summarizer('...', max_length=501)\n",
            " 30%|███       | 142/473 [03:26<08:29,  1.54s/it]Your max_length is set to 1024, but your input_length is only 1003. Since this is a summarization task, where outputs shorter than the input are typically wanted, you might consider decreasing max_length manually, e.g. summarizer('...', max_length=501)\n",
            " 30%|███       | 143/473 [03:27<07:59,  1.45s/it]Your max_length is set to 1024, but your input_length is only 1003. Since this is a summarization task, where outputs shorter than the input are typically wanted, you might consider decreasing max_length manually, e.g. summarizer('...', max_length=501)\n",
            " 30%|███       | 144/473 [03:29<07:30,  1.37s/it]Your max_length is set to 1024, but your input_length is only 1003. Since this is a summarization task, where outputs shorter than the input are typically wanted, you might consider decreasing max_length manually, e.g. summarizer('...', max_length=501)\n",
            " 31%|███       | 145/473 [03:30<07:26,  1.36s/it]Your max_length is set to 1024, but your input_length is only 1003. Since this is a summarization task, where outputs shorter than the input are typically wanted, you might consider decreasing max_length manually, e.g. summarizer('...', max_length=501)\n",
            " 31%|███       | 146/473 [03:31<07:28,  1.37s/it]Your max_length is set to 1024, but your input_length is only 1003. Since this is a summarization task, where outputs shorter than the input are typically wanted, you might consider decreasing max_length manually, e.g. summarizer('...', max_length=501)\n",
            " 31%|███       | 147/473 [03:33<07:28,  1.38s/it]Your max_length is set to 1024, but your input_length is only 1003. Since this is a summarization task, where outputs shorter than the input are typically wanted, you might consider decreasing max_length manually, e.g. summarizer('...', max_length=501)\n",
            " 31%|███▏      | 148/473 [03:34<07:20,  1.36s/it]Your max_length is set to 1024, but your input_length is only 1003. Since this is a summarization task, where outputs shorter than the input are typically wanted, you might consider decreasing max_length manually, e.g. summarizer('...', max_length=501)\n",
            " 32%|███▏      | 149/473 [03:36<08:01,  1.49s/it]Your max_length is set to 1024, but your input_length is only 1002. Since this is a summarization task, where outputs shorter than the input are typically wanted, you might consider decreasing max_length manually, e.g. summarizer('...', max_length=501)\n",
            " 32%|███▏      | 150/473 [03:37<08:03,  1.50s/it]Your max_length is set to 1024, but your input_length is only 1003. Since this is a summarization task, where outputs shorter than the input are typically wanted, you might consider decreasing max_length manually, e.g. summarizer('...', max_length=501)\n",
            " 32%|███▏      | 151/473 [03:39<07:54,  1.47s/it]Your max_length is set to 1024, but your input_length is only 1003. Since this is a summarization task, where outputs shorter than the input are typically wanted, you might consider decreasing max_length manually, e.g. summarizer('...', max_length=501)\n",
            " 32%|███▏      | 152/473 [03:40<07:44,  1.45s/it]Your max_length is set to 1024, but your input_length is only 1003. Since this is a summarization task, where outputs shorter than the input are typically wanted, you might consider decreasing max_length manually, e.g. summarizer('...', max_length=501)\n",
            " 32%|███▏      | 153/473 [03:42<07:52,  1.48s/it]Your max_length is set to 1024, but your input_length is only 1003. Since this is a summarization task, where outputs shorter than the input are typically wanted, you might consider decreasing max_length manually, e.g. summarizer('...', max_length=501)\n",
            " 33%|███▎      | 154/473 [03:43<07:37,  1.44s/it]Your max_length is set to 1024, but your input_length is only 1003. Since this is a summarization task, where outputs shorter than the input are typically wanted, you might consider decreasing max_length manually, e.g. summarizer('...', max_length=501)\n",
            " 33%|███▎      | 155/473 [03:44<07:36,  1.43s/it]Your max_length is set to 1024, but your input_length is only 1003. Since this is a summarization task, where outputs shorter than the input are typically wanted, you might consider decreasing max_length manually, e.g. summarizer('...', max_length=501)\n",
            " 33%|███▎      | 156/473 [03:46<07:30,  1.42s/it]Your max_length is set to 1024, but your input_length is only 1003. Since this is a summarization task, where outputs shorter than the input are typically wanted, you might consider decreasing max_length manually, e.g. summarizer('...', max_length=501)\n",
            " 33%|███▎      | 157/473 [03:47<07:12,  1.37s/it]Your max_length is set to 1024, but your input_length is only 1002. Since this is a summarization task, where outputs shorter than the input are typically wanted, you might consider decreasing max_length manually, e.g. summarizer('...', max_length=501)\n",
            " 33%|███▎      | 158/473 [03:49<07:18,  1.39s/it]Your max_length is set to 1024, but your input_length is only 1003. Since this is a summarization task, where outputs shorter than the input are typically wanted, you might consider decreasing max_length manually, e.g. summarizer('...', max_length=501)\n",
            " 34%|███▎      | 159/473 [03:50<07:57,  1.52s/it]Your max_length is set to 1024, but your input_length is only 1002. Since this is a summarization task, where outputs shorter than the input are typically wanted, you might consider decreasing max_length manually, e.g. summarizer('...', max_length=501)\n",
            " 34%|███▍      | 160/473 [03:51<07:16,  1.40s/it]Your max_length is set to 1024, but your input_length is only 963. Since this is a summarization task, where outputs shorter than the input are typically wanted, you might consider decreasing max_length manually, e.g. summarizer('...', max_length=481)\n",
            " 34%|███▍      | 161/473 [03:53<07:08,  1.37s/it]Your max_length is set to 1024, but your input_length is only 475. Since this is a summarization task, where outputs shorter than the input are typically wanted, you might consider decreasing max_length manually, e.g. summarizer('...', max_length=237)\n",
            " 34%|███▍      | 162/473 [03:54<07:00,  1.35s/it]Your max_length is set to 1024, but your input_length is only 400. Since this is a summarization task, where outputs shorter than the input are typically wanted, you might consider decreasing max_length manually, e.g. summarizer('...', max_length=200)\n",
            " 34%|███▍      | 163/473 [03:55<06:39,  1.29s/it]Your max_length is set to 1024, but your input_length is only 275. Since this is a summarization task, where outputs shorter than the input are typically wanted, you might consider decreasing max_length manually, e.g. summarizer('...', max_length=137)\n",
            " 35%|███▍      | 164/473 [03:58<08:09,  1.59s/it]Your max_length is set to 1024, but your input_length is only 769. Since this is a summarization task, where outputs shorter than the input are typically wanted, you might consider decreasing max_length manually, e.g. summarizer('...', max_length=384)\n",
            " 35%|███▍      | 165/473 [03:59<07:49,  1.52s/it]Your max_length is set to 1024, but your input_length is only 238. Since this is a summarization task, where outputs shorter than the input are typically wanted, you might consider decreasing max_length manually, e.g. summarizer('...', max_length=119)\n",
            " 35%|███▌      | 166/473 [04:00<07:34,  1.48s/it]Your max_length is set to 1024, but your input_length is only 302. Since this is a summarization task, where outputs shorter than the input are typically wanted, you might consider decreasing max_length manually, e.g. summarizer('...', max_length=151)\n",
            " 35%|███▌      | 167/473 [04:02<07:57,  1.56s/it]Your max_length is set to 1024, but your input_length is only 874. Since this is a summarization task, where outputs shorter than the input are typically wanted, you might consider decreasing max_length manually, e.g. summarizer('...', max_length=437)\n",
            " 36%|███▌      | 168/473 [04:04<08:31,  1.68s/it]Your max_length is set to 1024, but your input_length is only 1001. Since this is a summarization task, where outputs shorter than the input are typically wanted, you might consider decreasing max_length manually, e.g. summarizer('...', max_length=500)\n",
            " 36%|███▌      | 169/473 [04:05<07:52,  1.55s/it]Your max_length is set to 1024, but your input_length is only 104. Since this is a summarization task, where outputs shorter than the input are typically wanted, you might consider decreasing max_length manually, e.g. summarizer('...', max_length=52)\n",
            " 36%|███▌      | 170/473 [04:06<07:10,  1.42s/it]Your max_length is set to 1024, but your input_length is only 494. Since this is a summarization task, where outputs shorter than the input are typically wanted, you might consider decreasing max_length manually, e.g. summarizer('...', max_length=247)\n",
            " 36%|███▌      | 171/473 [04:08<07:02,  1.40s/it]Your max_length is set to 1024, but your input_length is only 1000. Since this is a summarization task, where outputs shorter than the input are typically wanted, you might consider decreasing max_length manually, e.g. summarizer('...', max_length=500)\n",
            " 36%|███▋      | 172/473 [04:09<07:00,  1.40s/it]Your max_length is set to 1024, but your input_length is only 1003. Since this is a summarization task, where outputs shorter than the input are typically wanted, you might consider decreasing max_length manually, e.g. summarizer('...', max_length=501)\n",
            " 37%|███▋      | 173/473 [04:10<06:48,  1.36s/it]Your max_length is set to 1024, but your input_length is only 1003. Since this is a summarization task, where outputs shorter than the input are typically wanted, you might consider decreasing max_length manually, e.g. summarizer('...', max_length=501)\n",
            " 37%|███▋      | 174/473 [04:12<06:33,  1.31s/it]Your max_length is set to 1024, but your input_length is only 1002. Since this is a summarization task, where outputs shorter than the input are typically wanted, you might consider decreasing max_length manually, e.g. summarizer('...', max_length=501)\n",
            " 37%|███▋      | 175/473 [04:13<06:17,  1.27s/it]Your max_length is set to 1024, but your input_length is only 1003. Since this is a summarization task, where outputs shorter than the input are typically wanted, you might consider decreasing max_length manually, e.g. summarizer('...', max_length=501)\n",
            " 37%|███▋      | 176/473 [04:14<06:37,  1.34s/it]Your max_length is set to 1024, but your input_length is only 1003. Since this is a summarization task, where outputs shorter than the input are typically wanted, you might consider decreasing max_length manually, e.g. summarizer('...', max_length=501)\n",
            " 37%|███▋      | 177/473 [04:16<06:30,  1.32s/it]Your max_length is set to 1024, but your input_length is only 1002. Since this is a summarization task, where outputs shorter than the input are typically wanted, you might consider decreasing max_length manually, e.g. summarizer('...', max_length=501)\n",
            " 38%|███▊      | 178/473 [04:17<06:37,  1.35s/it]Your max_length is set to 1024, but your input_length is only 1002. Since this is a summarization task, where outputs shorter than the input are typically wanted, you might consider decreasing max_length manually, e.g. summarizer('...', max_length=501)\n",
            " 38%|███▊      | 179/473 [04:18<06:16,  1.28s/it]Your max_length is set to 1024, but your input_length is only 1003. Since this is a summarization task, where outputs shorter than the input are typically wanted, you might consider decreasing max_length manually, e.g. summarizer('...', max_length=501)\n",
            " 38%|███▊      | 180/473 [04:19<05:58,  1.23s/it]Your max_length is set to 1024, but your input_length is only 1003. Since this is a summarization task, where outputs shorter than the input are typically wanted, you might consider decreasing max_length manually, e.g. summarizer('...', max_length=501)\n",
            " 38%|███▊      | 181/473 [04:21<07:23,  1.52s/it]Your max_length is set to 1024, but your input_length is only 1003. Since this is a summarization task, where outputs shorter than the input are typically wanted, you might consider decreasing max_length manually, e.g. summarizer('...', max_length=501)\n",
            " 38%|███▊      | 182/473 [04:23<07:06,  1.47s/it]Your max_length is set to 1024, but your input_length is only 1002. Since this is a summarization task, where outputs shorter than the input are typically wanted, you might consider decreasing max_length manually, e.g. summarizer('...', max_length=501)\n",
            " 39%|███▊      | 183/473 [04:24<07:04,  1.46s/it]Your max_length is set to 1024, but your input_length is only 1003. Since this is a summarization task, where outputs shorter than the input are typically wanted, you might consider decreasing max_length manually, e.g. summarizer('...', max_length=501)\n",
            " 39%|███▉      | 184/473 [04:25<06:29,  1.35s/it]Your max_length is set to 1024, but your input_length is only 1002. Since this is a summarization task, where outputs shorter than the input are typically wanted, you might consider decreasing max_length manually, e.g. summarizer('...', max_length=501)\n",
            " 39%|███▉      | 185/473 [04:28<07:51,  1.64s/it]Your max_length is set to 1024, but your input_length is only 1002. Since this is a summarization task, where outputs shorter than the input are typically wanted, you might consider decreasing max_length manually, e.g. summarizer('...', max_length=501)\n",
            " 39%|███▉      | 186/473 [04:29<07:48,  1.63s/it]Your max_length is set to 1024, but your input_length is only 1002. Since this is a summarization task, where outputs shorter than the input are typically wanted, you might consider decreasing max_length manually, e.g. summarizer('...', max_length=501)\n",
            " 40%|███▉      | 187/473 [04:30<07:06,  1.49s/it]Your max_length is set to 1024, but your input_length is only 1002. Since this is a summarization task, where outputs shorter than the input are typically wanted, you might consider decreasing max_length manually, e.g. summarizer('...', max_length=501)\n",
            " 40%|███▉      | 188/473 [04:32<06:43,  1.42s/it]Your max_length is set to 1024, but your input_length is only 1003. Since this is a summarization task, where outputs shorter than the input are typically wanted, you might consider decreasing max_length manually, e.g. summarizer('...', max_length=501)\n",
            " 40%|███▉      | 189/473 [04:33<07:03,  1.49s/it]Your max_length is set to 1024, but your input_length is only 393. Since this is a summarization task, where outputs shorter than the input are typically wanted, you might consider decreasing max_length manually, e.g. summarizer('...', max_length=196)\n",
            " 40%|████      | 190/473 [04:34<06:16,  1.33s/it]Your max_length is set to 1024, but your input_length is only 1000. Since this is a summarization task, where outputs shorter than the input are typically wanted, you might consider decreasing max_length manually, e.g. summarizer('...', max_length=500)\n",
            " 40%|████      | 191/473 [04:36<06:29,  1.38s/it]Your max_length is set to 1024, but your input_length is only 1003. Since this is a summarization task, where outputs shorter than the input are typically wanted, you might consider decreasing max_length manually, e.g. summarizer('...', max_length=501)\n",
            " 41%|████      | 192/473 [04:37<06:23,  1.37s/it]Your max_length is set to 1024, but your input_length is only 1003. Since this is a summarization task, where outputs shorter than the input are typically wanted, you might consider decreasing max_length manually, e.g. summarizer('...', max_length=501)\n",
            " 41%|████      | 193/473 [04:38<06:21,  1.36s/it]Your max_length is set to 1024, but your input_length is only 1003. Since this is a summarization task, where outputs shorter than the input are typically wanted, you might consider decreasing max_length manually, e.g. summarizer('...', max_length=501)\n",
            " 41%|████      | 194/473 [04:41<07:25,  1.60s/it]Your max_length is set to 1024, but your input_length is only 1004. Since this is a summarization task, where outputs shorter than the input are typically wanted, you might consider decreasing max_length manually, e.g. summarizer('...', max_length=502)\n",
            " 41%|████      | 195/473 [04:42<07:32,  1.63s/it]Your max_length is set to 1024, but your input_length is only 36. Since this is a summarization task, where outputs shorter than the input are typically wanted, you might consider decreasing max_length manually, e.g. summarizer('...', max_length=18)\n",
            " 41%|████▏     | 196/473 [04:43<06:28,  1.40s/it]Your max_length is set to 1024, but your input_length is only 1000. Since this is a summarization task, where outputs shorter than the input are typically wanted, you might consider decreasing max_length manually, e.g. summarizer('...', max_length=500)\n",
            " 42%|████▏     | 197/473 [04:45<06:28,  1.41s/it]Your max_length is set to 1024, but your input_length is only 177. Since this is a summarization task, where outputs shorter than the input are typically wanted, you might consider decreasing max_length manually, e.g. summarizer('...', max_length=88)\n",
            " 42%|████▏     | 198/473 [04:46<06:14,  1.36s/it]Your max_length is set to 1024, but your input_length is only 871. Since this is a summarization task, where outputs shorter than the input are typically wanted, you might consider decreasing max_length manually, e.g. summarizer('...', max_length=435)\n",
            " 42%|████▏     | 199/473 [04:48<06:53,  1.51s/it]Your max_length is set to 1024, but your input_length is only 1000. Since this is a summarization task, where outputs shorter than the input are typically wanted, you might consider decreasing max_length manually, e.g. summarizer('...', max_length=500)\n",
            " 42%|████▏     | 200/473 [04:49<06:17,  1.38s/it]Your max_length is set to 1024, but your input_length is only 16. Since this is a summarization task, where outputs shorter than the input are typically wanted, you might consider decreasing max_length manually, e.g. summarizer('...', max_length=8)\n",
            " 42%|████▏     | 201/473 [04:50<05:35,  1.23s/it]Your max_length is set to 1024, but your input_length is only 209. Since this is a summarization task, where outputs shorter than the input are typically wanted, you might consider decreasing max_length manually, e.g. summarizer('...', max_length=104)\n",
            " 43%|████▎     | 202/473 [04:51<05:42,  1.26s/it]Your max_length is set to 1024, but your input_length is only 1001. Since this is a summarization task, where outputs shorter than the input are typically wanted, you might consider decreasing max_length manually, e.g. summarizer('...', max_length=500)\n",
            " 43%|████▎     | 203/473 [04:52<05:26,  1.21s/it]Your max_length is set to 1024, but your input_length is only 249. Since this is a summarization task, where outputs shorter than the input are typically wanted, you might consider decreasing max_length manually, e.g. summarizer('...', max_length=124)\n",
            " 43%|████▎     | 204/473 [04:54<06:02,  1.35s/it]Your max_length is set to 1024, but your input_length is only 1001. Since this is a summarization task, where outputs shorter than the input are typically wanted, you might consider decreasing max_length manually, e.g. summarizer('...', max_length=500)\n",
            " 43%|████▎     | 205/473 [04:55<06:16,  1.40s/it]Your max_length is set to 1024, but your input_length is only 246. Since this is a summarization task, where outputs shorter than the input are typically wanted, you might consider decreasing max_length manually, e.g. summarizer('...', max_length=123)\n",
            " 44%|████▎     | 206/473 [04:57<06:14,  1.40s/it]Your max_length is set to 1024, but your input_length is only 1000. Since this is a summarization task, where outputs shorter than the input are typically wanted, you might consider decreasing max_length manually, e.g. summarizer('...', max_length=500)\n",
            " 44%|████▍     | 207/473 [04:58<06:19,  1.43s/it]Your max_length is set to 1024, but your input_length is only 669. Since this is a summarization task, where outputs shorter than the input are typically wanted, you might consider decreasing max_length manually, e.g. summarizer('...', max_length=334)\n",
            " 44%|████▍     | 208/473 [05:00<06:56,  1.57s/it]Your max_length is set to 1024, but your input_length is only 1001. Since this is a summarization task, where outputs shorter than the input are typically wanted, you might consider decreasing max_length manually, e.g. summarizer('...', max_length=500)\n",
            " 44%|████▍     | 209/473 [05:01<06:15,  1.42s/it]Your max_length is set to 1024, but your input_length is only 1002. Since this is a summarization task, where outputs shorter than the input are typically wanted, you might consider decreasing max_length manually, e.g. summarizer('...', max_length=501)\n",
            " 44%|████▍     | 210/473 [05:02<05:47,  1.32s/it]Your max_length is set to 1024, but your input_length is only 1002. Since this is a summarization task, where outputs shorter than the input are typically wanted, you might consider decreasing max_length manually, e.g. summarizer('...', max_length=501)\n",
            " 45%|████▍     | 211/473 [05:03<05:25,  1.24s/it]Your max_length is set to 1024, but your input_length is only 1003. Since this is a summarization task, where outputs shorter than the input are typically wanted, you might consider decreasing max_length manually, e.g. summarizer('...', max_length=501)\n",
            " 45%|████▍     | 212/473 [05:04<05:11,  1.19s/it]Your max_length is set to 1024, but your input_length is only 1002. Since this is a summarization task, where outputs shorter than the input are typically wanted, you might consider decreasing max_length manually, e.g. summarizer('...', max_length=501)\n",
            " 45%|████▌     | 213/473 [05:05<05:11,  1.20s/it]Your max_length is set to 1024, but your input_length is only 1003. Since this is a summarization task, where outputs shorter than the input are typically wanted, you might consider decreasing max_length manually, e.g. summarizer('...', max_length=501)\n",
            " 45%|████▌     | 214/473 [05:07<05:24,  1.25s/it]Your max_length is set to 1024, but your input_length is only 1003. Since this is a summarization task, where outputs shorter than the input are typically wanted, you might consider decreasing max_length manually, e.g. summarizer('...', max_length=501)\n",
            " 45%|████▌     | 215/473 [05:08<05:26,  1.27s/it]Your max_length is set to 1024, but your input_length is only 1002. Since this is a summarization task, where outputs shorter than the input are typically wanted, you might consider decreasing max_length manually, e.g. summarizer('...', max_length=501)\n",
            " 46%|████▌     | 216/473 [05:10<05:44,  1.34s/it]Your max_length is set to 1024, but your input_length is only 1003. Since this is a summarization task, where outputs shorter than the input are typically wanted, you might consider decreasing max_length manually, e.g. summarizer('...', max_length=501)\n",
            " 46%|████▌     | 217/473 [05:11<05:37,  1.32s/it]Your max_length is set to 1024, but your input_length is only 1002. Since this is a summarization task, where outputs shorter than the input are typically wanted, you might consider decreasing max_length manually, e.g. summarizer('...', max_length=501)\n",
            " 46%|████▌     | 218/473 [05:12<05:36,  1.32s/it]Your max_length is set to 1024, but your input_length is only 1002. Since this is a summarization task, where outputs shorter than the input are typically wanted, you might consider decreasing max_length manually, e.g. summarizer('...', max_length=501)\n",
            " 46%|████▋     | 219/473 [05:13<05:16,  1.25s/it]Your max_length is set to 1024, but your input_length is only 1003. Since this is a summarization task, where outputs shorter than the input are typically wanted, you might consider decreasing max_length manually, e.g. summarizer('...', max_length=501)\n",
            " 47%|████▋     | 220/473 [05:14<05:04,  1.20s/it]Your max_length is set to 1024, but your input_length is only 1002. Since this is a summarization task, where outputs shorter than the input are typically wanted, you might consider decreasing max_length manually, e.g. summarizer('...', max_length=501)\n",
            " 47%|████▋     | 221/473 [05:16<04:55,  1.17s/it]Your max_length is set to 1024, but your input_length is only 1002. Since this is a summarization task, where outputs shorter than the input are typically wanted, you might consider decreasing max_length manually, e.g. summarizer('...', max_length=501)\n",
            " 47%|████▋     | 222/473 [05:17<04:49,  1.15s/it]Your max_length is set to 1024, but your input_length is only 1003. Since this is a summarization task, where outputs shorter than the input are typically wanted, you might consider decreasing max_length manually, e.g. summarizer('...', max_length=501)\n",
            " 47%|████▋     | 223/473 [05:18<05:08,  1.23s/it]Your max_length is set to 1024, but your input_length is only 1002. Since this is a summarization task, where outputs shorter than the input are typically wanted, you might consider decreasing max_length manually, e.g. summarizer('...', max_length=501)\n",
            " 47%|████▋     | 224/473 [05:19<05:19,  1.28s/it]Your max_length is set to 1024, but your input_length is only 1002. Since this is a summarization task, where outputs shorter than the input are typically wanted, you might consider decreasing max_length manually, e.g. summarizer('...', max_length=501)\n",
            " 48%|████▊     | 225/473 [05:21<05:34,  1.35s/it]Your max_length is set to 1024, but your input_length is only 1003. Since this is a summarization task, where outputs shorter than the input are typically wanted, you might consider decreasing max_length manually, e.g. summarizer('...', max_length=501)\n",
            " 48%|████▊     | 226/473 [05:22<05:23,  1.31s/it]Your max_length is set to 1024, but your input_length is only 1002. Since this is a summarization task, where outputs shorter than the input are typically wanted, you might consider decreasing max_length manually, e.g. summarizer('...', max_length=501)\n",
            " 48%|████▊     | 227/473 [05:23<05:17,  1.29s/it]Your max_length is set to 1024, but your input_length is only 1003. Since this is a summarization task, where outputs shorter than the input are typically wanted, you might consider decreasing max_length manually, e.g. summarizer('...', max_length=501)\n",
            " 48%|████▊     | 228/473 [05:25<05:16,  1.29s/it]Your max_length is set to 1024, but your input_length is only 413. Since this is a summarization task, where outputs shorter than the input are typically wanted, you might consider decreasing max_length manually, e.g. summarizer('...', max_length=206)\n",
            " 48%|████▊     | 229/473 [05:26<04:48,  1.18s/it]Your max_length is set to 1024, but your input_length is only 453. Since this is a summarization task, where outputs shorter than the input are typically wanted, you might consider decreasing max_length manually, e.g. summarizer('...', max_length=226)\n",
            " 49%|████▊     | 230/473 [05:27<05:25,  1.34s/it]Your max_length is set to 1024, but your input_length is only 817. Since this is a summarization task, where outputs shorter than the input are typically wanted, you might consider decreasing max_length manually, e.g. summarizer('...', max_length=408)\n",
            " 49%|████▉     | 231/473 [05:29<05:19,  1.32s/it]Your max_length is set to 1024, but your input_length is only 1001. Since this is a summarization task, where outputs shorter than the input are typically wanted, you might consider decreasing max_length manually, e.g. summarizer('...', max_length=500)\n",
            " 49%|████▉     | 232/473 [05:30<05:05,  1.27s/it]Your max_length is set to 1024, but your input_length is only 910. Since this is a summarization task, where outputs shorter than the input are typically wanted, you might consider decreasing max_length manually, e.g. summarizer('...', max_length=455)\n",
            " 49%|████▉     | 233/473 [05:31<05:24,  1.35s/it]Your max_length is set to 1024, but your input_length is only 1001. Since this is a summarization task, where outputs shorter than the input are typically wanted, you might consider decreasing max_length manually, e.g. summarizer('...', max_length=500)\n",
            " 49%|████▉     | 234/473 [05:33<05:23,  1.35s/it]Your max_length is set to 1024, but your input_length is only 376. Since this is a summarization task, where outputs shorter than the input are typically wanted, you might consider decreasing max_length manually, e.g. summarizer('...', max_length=188)\n",
            " 50%|████▉     | 235/473 [05:34<05:41,  1.44s/it]Your max_length is set to 1024, but your input_length is only 642. Since this is a summarization task, where outputs shorter than the input are typically wanted, you might consider decreasing max_length manually, e.g. summarizer('...', max_length=321)\n",
            " 50%|████▉     | 236/473 [05:36<05:42,  1.45s/it]Your max_length is set to 1024, but your input_length is only 1000. Since this is a summarization task, where outputs shorter than the input are typically wanted, you might consider decreasing max_length manually, e.g. summarizer('...', max_length=500)\n",
            " 50%|█████     | 237/473 [05:37<05:35,  1.42s/it]Your max_length is set to 1024, but your input_length is only 1003. Since this is a summarization task, where outputs shorter than the input are typically wanted, you might consider decreasing max_length manually, e.g. summarizer('...', max_length=501)\n",
            " 50%|█████     | 238/473 [05:39<05:44,  1.47s/it]Your max_length is set to 1024, but your input_length is only 1003. Since this is a summarization task, where outputs shorter than the input are typically wanted, you might consider decreasing max_length manually, e.g. summarizer('...', max_length=501)\n",
            " 51%|█████     | 239/473 [05:40<05:24,  1.39s/it]Your max_length is set to 1024, but your input_length is only 1003. Since this is a summarization task, where outputs shorter than the input are typically wanted, you might consider decreasing max_length manually, e.g. summarizer('...', max_length=501)\n",
            " 51%|█████     | 240/473 [05:41<05:19,  1.37s/it]Your max_length is set to 1024, but your input_length is only 1003. Since this is a summarization task, where outputs shorter than the input are typically wanted, you might consider decreasing max_length manually, e.g. summarizer('...', max_length=501)\n",
            " 51%|█████     | 241/473 [05:42<05:06,  1.32s/it]Your max_length is set to 1024, but your input_length is only 1003. Since this is a summarization task, where outputs shorter than the input are typically wanted, you might consider decreasing max_length manually, e.g. summarizer('...', max_length=501)\n",
            " 51%|█████     | 242/473 [05:44<04:54,  1.27s/it]Your max_length is set to 1024, but your input_length is only 1002. Since this is a summarization task, where outputs shorter than the input are typically wanted, you might consider decreasing max_length manually, e.g. summarizer('...', max_length=501)\n",
            " 51%|█████▏    | 243/473 [05:45<05:03,  1.32s/it]Your max_length is set to 1024, but your input_length is only 423. Since this is a summarization task, where outputs shorter than the input are typically wanted, you might consider decreasing max_length manually, e.g. summarizer('...', max_length=211)\n",
            " 52%|█████▏    | 244/473 [05:47<05:22,  1.41s/it]Your max_length is set to 1024, but your input_length is only 1001. Since this is a summarization task, where outputs shorter than the input are typically wanted, you might consider decreasing max_length manually, e.g. summarizer('...', max_length=500)\n",
            " 52%|█████▏    | 245/473 [05:48<05:19,  1.40s/it]Your max_length is set to 1024, but your input_length is only 179. Since this is a summarization task, where outputs shorter than the input are typically wanted, you might consider decreasing max_length manually, e.g. summarizer('...', max_length=89)\n",
            " 52%|█████▏    | 246/473 [05:50<05:42,  1.51s/it]Your max_length is set to 1024, but your input_length is only 692. Since this is a summarization task, where outputs shorter than the input are typically wanted, you might consider decreasing max_length manually, e.g. summarizer('...', max_length=346)\n",
            " 52%|█████▏    | 247/473 [05:51<05:27,  1.45s/it]Your max_length is set to 1024, but your input_length is only 1001. Since this is a summarization task, where outputs shorter than the input are typically wanted, you might consider decreasing max_length manually, e.g. summarizer('...', max_length=500)\n",
            " 52%|█████▏    | 248/473 [05:53<05:38,  1.50s/it]Your max_length is set to 1024, but your input_length is only 255. Since this is a summarization task, where outputs shorter than the input are typically wanted, you might consider decreasing max_length manually, e.g. summarizer('...', max_length=127)\n",
            " 53%|█████▎    | 249/473 [05:54<05:25,  1.45s/it]Your max_length is set to 1024, but your input_length is only 738. Since this is a summarization task, where outputs shorter than the input are typically wanted, you might consider decreasing max_length manually, e.g. summarizer('...', max_length=369)\n",
            " 53%|█████▎    | 250/473 [06:02<12:29,  3.36s/it]Your max_length is set to 1024, but your input_length is only 1001. Since this is a summarization task, where outputs shorter than the input are typically wanted, you might consider decreasing max_length manually, e.g. summarizer('...', max_length=500)\n",
            " 53%|█████▎    | 251/473 [06:03<09:54,  2.68s/it]Your max_length is set to 1024, but your input_length is only 591. Since this is a summarization task, where outputs shorter than the input are typically wanted, you might consider decreasing max_length manually, e.g. summarizer('...', max_length=295)\n",
            " 53%|█████▎    | 252/473 [06:04<08:20,  2.26s/it]Your max_length is set to 1024, but your input_length is only 1000. Since this is a summarization task, where outputs shorter than the input are typically wanted, you might consider decreasing max_length manually, e.g. summarizer('...', max_length=500)\n",
            " 53%|█████▎    | 253/473 [06:06<07:36,  2.07s/it]Your max_length is set to 1024, but your input_length is only 848. Since this is a summarization task, where outputs shorter than the input are typically wanted, you might consider decreasing max_length manually, e.g. summarizer('...', max_length=424)\n",
            " 54%|█████▎    | 254/473 [06:08<07:01,  1.93s/it]Your max_length is set to 1024, but your input_length is only 1000. Since this is a summarization task, where outputs shorter than the input are typically wanted, you might consider decreasing max_length manually, e.g. summarizer('...', max_length=500)\n",
            " 54%|█████▍    | 255/473 [06:09<06:33,  1.80s/it]Your max_length is set to 1024, but your input_length is only 1003. Since this is a summarization task, where outputs shorter than the input are typically wanted, you might consider decreasing max_length manually, e.g. summarizer('...', max_length=501)\n",
            " 54%|█████▍    | 256/473 [06:11<06:13,  1.72s/it]Your max_length is set to 1024, but your input_length is only 241. Since this is a summarization task, where outputs shorter than the input are typically wanted, you might consider decreasing max_length manually, e.g. summarizer('...', max_length=120)\n",
            " 54%|█████▍    | 257/473 [06:12<05:58,  1.66s/it]Your max_length is set to 1024, but your input_length is only 1000. Since this is a summarization task, where outputs shorter than the input are typically wanted, you might consider decreasing max_length manually, e.g. summarizer('...', max_length=500)\n",
            " 55%|█████▍    | 258/473 [06:14<06:16,  1.75s/it]Your max_length is set to 1024, but your input_length is only 1003. Since this is a summarization task, where outputs shorter than the input are typically wanted, you might consider decreasing max_length manually, e.g. summarizer('...', max_length=501)\n",
            " 55%|█████▍    | 259/473 [06:15<05:37,  1.57s/it]Your max_length is set to 1024, but your input_length is only 187. Since this is a summarization task, where outputs shorter than the input are typically wanted, you might consider decreasing max_length manually, e.g. summarizer('...', max_length=93)\n",
            " 55%|█████▍    | 260/473 [06:17<05:18,  1.49s/it]Your max_length is set to 1024, but your input_length is only 1000. Since this is a summarization task, where outputs shorter than the input are typically wanted, you might consider decreasing max_length manually, e.g. summarizer('...', max_length=500)\n",
            " 55%|█████▌    | 261/473 [06:18<05:47,  1.64s/it]Your max_length is set to 1024, but your input_length is only 572. Since this is a summarization task, where outputs shorter than the input are typically wanted, you might consider decreasing max_length manually, e.g. summarizer('...', max_length=286)\n",
            " 55%|█████▌    | 262/473 [06:20<05:23,  1.53s/it]Your max_length is set to 1024, but your input_length is only 1000. Since this is a summarization task, where outputs shorter than the input are typically wanted, you might consider decreasing max_length manually, e.g. summarizer('...', max_length=500)\n",
            " 56%|█████▌    | 263/473 [06:21<05:26,  1.55s/it]Your max_length is set to 1024, but your input_length is only 872. Since this is a summarization task, where outputs shorter than the input are typically wanted, you might consider decreasing max_length manually, e.g. summarizer('...', max_length=436)\n",
            " 56%|█████▌    | 264/473 [06:23<05:14,  1.50s/it]Your max_length is set to 1024, but your input_length is only 1000. Since this is a summarization task, where outputs shorter than the input are typically wanted, you might consider decreasing max_length manually, e.g. summarizer('...', max_length=500)\n",
            " 56%|█████▌    | 265/473 [06:25<05:38,  1.63s/it]Your max_length is set to 1024, but your input_length is only 822. Since this is a summarization task, where outputs shorter than the input are typically wanted, you might consider decreasing max_length manually, e.g. summarizer('...', max_length=411)\n",
            " 56%|█████▌    | 266/473 [06:26<05:38,  1.64s/it]Your max_length is set to 1024, but your input_length is only 1000. Since this is a summarization task, where outputs shorter than the input are typically wanted, you might consider decreasing max_length manually, e.g. summarizer('...', max_length=500)\n",
            " 56%|█████▋    | 267/473 [06:28<05:46,  1.68s/it]Your max_length is set to 1024, but your input_length is only 1003. Since this is a summarization task, where outputs shorter than the input are typically wanted, you might consider decreasing max_length manually, e.g. summarizer('...', max_length=501)\n",
            " 57%|█████▋    | 268/473 [06:29<05:06,  1.50s/it]Your max_length is set to 1024, but your input_length is only 1002. Since this is a summarization task, where outputs shorter than the input are typically wanted, you might consider decreasing max_length manually, e.g. summarizer('...', max_length=501)\n",
            " 57%|█████▋    | 269/473 [06:31<05:52,  1.73s/it]Your max_length is set to 1024, but your input_length is only 1003. Since this is a summarization task, where outputs shorter than the input are typically wanted, you might consider decreasing max_length manually, e.g. summarizer('...', max_length=501)\n",
            " 57%|█████▋    | 270/473 [06:33<05:52,  1.74s/it]Your max_length is set to 1024, but your input_length is only 549. Since this is a summarization task, where outputs shorter than the input are typically wanted, you might consider decreasing max_length manually, e.g. summarizer('...', max_length=274)\n",
            " 57%|█████▋    | 271/473 [06:35<05:25,  1.61s/it]Your max_length is set to 1024, but your input_length is only 1000. Since this is a summarization task, where outputs shorter than the input are typically wanted, you might consider decreasing max_length manually, e.g. summarizer('...', max_length=500)\n",
            " 58%|█████▊    | 272/473 [06:36<05:32,  1.65s/it]Your max_length is set to 1024, but your input_length is only 857. Since this is a summarization task, where outputs shorter than the input are typically wanted, you might consider decreasing max_length manually, e.g. summarizer('...', max_length=428)\n",
            " 58%|█████▊    | 273/473 [06:38<05:53,  1.77s/it]Your max_length is set to 1024, but your input_length is only 1000. Since this is a summarization task, where outputs shorter than the input are typically wanted, you might consider decreasing max_length manually, e.g. summarizer('...', max_length=500)\n",
            " 58%|█████▊    | 274/473 [06:40<05:37,  1.69s/it]Your max_length is set to 1024, but your input_length is only 1003. Since this is a summarization task, where outputs shorter than the input are typically wanted, you might consider decreasing max_length manually, e.g. summarizer('...', max_length=501)\n",
            " 58%|█████▊    | 275/473 [06:41<04:58,  1.51s/it]Your max_length is set to 1024, but your input_length is only 1003. Since this is a summarization task, where outputs shorter than the input are typically wanted, you might consider decreasing max_length manually, e.g. summarizer('...', max_length=501)\n",
            " 58%|█████▊    | 276/473 [06:42<04:39,  1.42s/it]Your max_length is set to 1024, but your input_length is only 1002. Since this is a summarization task, where outputs shorter than the input are typically wanted, you might consider decreasing max_length manually, e.g. summarizer('...', max_length=501)\n",
            " 59%|█████▊    | 277/473 [06:43<04:17,  1.32s/it]Your max_length is set to 1024, but your input_length is only 1002. Since this is a summarization task, where outputs shorter than the input are typically wanted, you might consider decreasing max_length manually, e.g. summarizer('...', max_length=501)\n",
            " 59%|█████▉    | 278/473 [06:44<04:11,  1.29s/it]Your max_length is set to 1024, but your input_length is only 1003. Since this is a summarization task, where outputs shorter than the input are typically wanted, you might consider decreasing max_length manually, e.g. summarizer('...', max_length=501)\n",
            " 59%|█████▉    | 279/473 [06:46<04:00,  1.24s/it]Your max_length is set to 1024, but your input_length is only 829. Since this is a summarization task, where outputs shorter than the input are typically wanted, you might consider decreasing max_length manually, e.g. summarizer('...', max_length=414)\n",
            " 59%|█████▉    | 280/473 [06:47<03:59,  1.24s/it]Your max_length is set to 1024, but your input_length is only 1000. Since this is a summarization task, where outputs shorter than the input are typically wanted, you might consider decreasing max_length manually, e.g. summarizer('...', max_length=500)\n",
            " 59%|█████▉    | 281/473 [06:48<04:18,  1.35s/it]Your max_length is set to 1024, but your input_length is only 700. Since this is a summarization task, where outputs shorter than the input are typically wanted, you might consider decreasing max_length manually, e.g. summarizer('...', max_length=350)\n",
            " 60%|█████▉    | 282/473 [06:50<04:54,  1.54s/it]Your max_length is set to 1024, but your input_length is only 1001. Since this is a summarization task, where outputs shorter than the input are typically wanted, you might consider decreasing max_length manually, e.g. summarizer('...', max_length=500)\n",
            " 60%|█████▉    | 283/473 [06:52<04:53,  1.55s/it]Your max_length is set to 1024, but your input_length is only 861. Since this is a summarization task, where outputs shorter than the input are typically wanted, you might consider decreasing max_length manually, e.g. summarizer('...', max_length=430)\n",
            " 60%|██████    | 284/473 [06:54<05:02,  1.60s/it]Your max_length is set to 1024, but your input_length is only 1000. Since this is a summarization task, where outputs shorter than the input are typically wanted, you might consider decreasing max_length manually, e.g. summarizer('...', max_length=500)\n",
            " 60%|██████    | 285/473 [06:55<04:59,  1.60s/it]Your max_length is set to 1024, but your input_length is only 863. Since this is a summarization task, where outputs shorter than the input are typically wanted, you might consider decreasing max_length manually, e.g. summarizer('...', max_length=431)\n",
            " 60%|██████    | 286/473 [06:57<04:45,  1.53s/it]Your max_length is set to 1024, but your input_length is only 1001. Since this is a summarization task, where outputs shorter than the input are typically wanted, you might consider decreasing max_length manually, e.g. summarizer('...', max_length=500)\n",
            " 61%|██████    | 287/473 [06:58<04:35,  1.48s/it]Your max_length is set to 1024, but your input_length is only 478. Since this is a summarization task, where outputs shorter than the input are typically wanted, you might consider decreasing max_length manually, e.g. summarizer('...', max_length=239)\n",
            " 61%|██████    | 288/473 [06:59<04:21,  1.41s/it]Your max_length is set to 1024, but your input_length is only 1000. Since this is a summarization task, where outputs shorter than the input are typically wanted, you might consider decreasing max_length manually, e.g. summarizer('...', max_length=500)\n",
            " 61%|██████    | 289/473 [07:01<04:39,  1.52s/it]Your max_length is set to 1024, but your input_length is only 684. Since this is a summarization task, where outputs shorter than the input are typically wanted, you might consider decreasing max_length manually, e.g. summarizer('...', max_length=342)\n",
            " 61%|██████▏   | 290/473 [07:03<04:51,  1.59s/it]Your max_length is set to 1024, but your input_length is only 999. Since this is a summarization task, where outputs shorter than the input are typically wanted, you might consider decreasing max_length manually, e.g. summarizer('...', max_length=499)\n",
            " 62%|██████▏   | 291/473 [07:05<05:00,  1.65s/it]Your max_length is set to 1024, but your input_length is only 829. Since this is a summarization task, where outputs shorter than the input are typically wanted, you might consider decreasing max_length manually, e.g. summarizer('...', max_length=414)\n",
            " 62%|██████▏   | 292/473 [07:06<04:53,  1.62s/it]Your max_length is set to 1024, but your input_length is only 1000. Since this is a summarization task, where outputs shorter than the input are typically wanted, you might consider decreasing max_length manually, e.g. summarizer('...', max_length=500)\n",
            " 62%|██████▏   | 293/473 [07:08<04:57,  1.65s/it]Your max_length is set to 1024, but your input_length is only 598. Since this is a summarization task, where outputs shorter than the input are typically wanted, you might consider decreasing max_length manually, e.g. summarizer('...', max_length=299)\n",
            " 62%|██████▏   | 294/473 [07:09<04:41,  1.58s/it]Your max_length is set to 1024, but your input_length is only 1001. Since this is a summarization task, where outputs shorter than the input are typically wanted, you might consider decreasing max_length manually, e.g. summarizer('...', max_length=500)\n",
            " 62%|██████▏   | 295/473 [07:10<04:22,  1.47s/it]Your max_length is set to 1024, but your input_length is only 1003. Since this is a summarization task, where outputs shorter than the input are typically wanted, you might consider decreasing max_length manually, e.g. summarizer('...', max_length=501)\n",
            " 63%|██████▎   | 296/473 [07:12<04:16,  1.45s/it]Your max_length is set to 1024, but your input_length is only 74. Since this is a summarization task, where outputs shorter than the input are typically wanted, you might consider decreasing max_length manually, e.g. summarizer('...', max_length=37)\n",
            " 63%|██████▎   | 297/473 [07:13<03:58,  1.36s/it]Your max_length is set to 1024, but your input_length is only 1001. Since this is a summarization task, where outputs shorter than the input are typically wanted, you might consider decreasing max_length manually, e.g. summarizer('...', max_length=500)\n",
            " 63%|██████▎   | 298/473 [07:15<04:11,  1.44s/it]Your max_length is set to 1024, but your input_length is only 1003. Since this is a summarization task, where outputs shorter than the input are typically wanted, you might consider decreasing max_length manually, e.g. summarizer('...', max_length=501)\n",
            " 63%|██████▎   | 299/473 [07:16<04:15,  1.47s/it]Your max_length is set to 1024, but your input_length is only 1002. Since this is a summarization task, where outputs shorter than the input are typically wanted, you might consider decreasing max_length manually, e.g. summarizer('...', max_length=501)\n",
            " 63%|██████▎   | 300/473 [07:18<04:08,  1.43s/it]Your max_length is set to 1024, but your input_length is only 450. Since this is a summarization task, where outputs shorter than the input are typically wanted, you might consider decreasing max_length manually, e.g. summarizer('...', max_length=225)\n",
            " 64%|██████▎   | 301/473 [07:19<03:54,  1.36s/it]Your max_length is set to 1024, but your input_length is only 1001. Since this is a summarization task, where outputs shorter than the input are typically wanted, you might consider decreasing max_length manually, e.g. summarizer('...', max_length=500)\n",
            " 64%|██████▍   | 302/473 [07:20<04:02,  1.42s/it]Your max_length is set to 1024, but your input_length is only 1003. Since this is a summarization task, where outputs shorter than the input are typically wanted, you might consider decreasing max_length manually, e.g. summarizer('...', max_length=501)\n",
            " 64%|██████▍   | 303/473 [07:22<03:51,  1.36s/it]Your max_length is set to 1024, but your input_length is only 1003. Since this is a summarization task, where outputs shorter than the input are typically wanted, you might consider decreasing max_length manually, e.g. summarizer('...', max_length=501)\n",
            " 64%|██████▍   | 304/473 [07:23<03:47,  1.35s/it]Your max_length is set to 1024, but your input_length is only 757. Since this is a summarization task, where outputs shorter than the input are typically wanted, you might consider decreasing max_length manually, e.g. summarizer('...', max_length=378)\n",
            " 64%|██████▍   | 305/473 [07:24<03:46,  1.35s/it]Your max_length is set to 1024, but your input_length is only 1000. Since this is a summarization task, where outputs shorter than the input are typically wanted, you might consider decreasing max_length manually, e.g. summarizer('...', max_length=500)\n",
            " 65%|██████▍   | 306/473 [07:26<04:06,  1.48s/it]Your max_length is set to 1024, but your input_length is only 1003. Since this is a summarization task, where outputs shorter than the input are typically wanted, you might consider decreasing max_length manually, e.g. summarizer('...', max_length=501)\n",
            " 65%|██████▍   | 307/473 [07:28<04:16,  1.54s/it]Your max_length is set to 1024, but your input_length is only 1003. Since this is a summarization task, where outputs shorter than the input are typically wanted, you might consider decreasing max_length manually, e.g. summarizer('...', max_length=501)\n",
            " 65%|██████▌   | 308/473 [07:29<04:20,  1.58s/it]Your max_length is set to 1024, but your input_length is only 454. Since this is a summarization task, where outputs shorter than the input are typically wanted, you might consider decreasing max_length manually, e.g. summarizer('...', max_length=227)\n",
            " 65%|██████▌   | 309/473 [07:31<04:14,  1.55s/it]Your max_length is set to 1024, but your input_length is only 1001. Since this is a summarization task, where outputs shorter than the input are typically wanted, you might consider decreasing max_length manually, e.g. summarizer('...', max_length=500)\n",
            " 66%|██████▌   | 310/473 [07:32<03:59,  1.47s/it]Your max_length is set to 1024, but your input_length is only 1003. Since this is a summarization task, where outputs shorter than the input are typically wanted, you might consider decreasing max_length manually, e.g. summarizer('...', max_length=501)\n",
            " 66%|██████▌   | 311/473 [07:33<03:52,  1.44s/it]Your max_length is set to 1024, but your input_length is only 1003. Since this is a summarization task, where outputs shorter than the input are typically wanted, you might consider decreasing max_length manually, e.g. summarizer('...', max_length=501)\n",
            " 66%|██████▌   | 312/473 [07:35<03:40,  1.37s/it]Your max_length is set to 1024, but your input_length is only 134. Since this is a summarization task, where outputs shorter than the input are typically wanted, you might consider decreasing max_length manually, e.g. summarizer('...', max_length=67)\n",
            " 66%|██████▌   | 313/473 [07:36<03:33,  1.34s/it]Your max_length is set to 1024, but your input_length is only 1000. Since this is a summarization task, where outputs shorter than the input are typically wanted, you might consider decreasing max_length manually, e.g. summarizer('...', max_length=500)\n",
            " 66%|██████▋   | 314/473 [07:38<03:47,  1.43s/it]Your max_length is set to 1024, but your input_length is only 1003. Since this is a summarization task, where outputs shorter than the input are typically wanted, you might consider decreasing max_length manually, e.g. summarizer('...', max_length=501)\n",
            " 67%|██████▋   | 315/473 [07:39<03:33,  1.35s/it]Your max_length is set to 1024, but your input_length is only 484. Since this is a summarization task, where outputs shorter than the input are typically wanted, you might consider decreasing max_length manually, e.g. summarizer('...', max_length=242)\n",
            " 67%|██████▋   | 316/473 [07:40<03:38,  1.39s/it]Your max_length is set to 1024, but your input_length is only 798. Since this is a summarization task, where outputs shorter than the input are typically wanted, you might consider decreasing max_length manually, e.g. summarizer('...', max_length=399)\n",
            " 67%|██████▋   | 317/473 [07:42<04:09,  1.60s/it]Your max_length is set to 1024, but your input_length is only 798. Since this is a summarization task, where outputs shorter than the input are typically wanted, you might consider decreasing max_length manually, e.g. summarizer('...', max_length=399)\n",
            " 67%|██████▋   | 318/473 [07:44<04:08,  1.60s/it]Your max_length is set to 1024, but your input_length is only 798. Since this is a summarization task, where outputs shorter than the input are typically wanted, you might consider decreasing max_length manually, e.g. summarizer('...', max_length=399)\n",
            " 67%|██████▋   | 319/473 [07:46<04:32,  1.77s/it]Your max_length is set to 1024, but your input_length is only 798. Since this is a summarization task, where outputs shorter than the input are typically wanted, you might consider decreasing max_length manually, e.g. summarizer('...', max_length=399)\n",
            " 68%|██████▊   | 320/473 [07:48<04:25,  1.73s/it]Your max_length is set to 1024, but your input_length is only 798. Since this is a summarization task, where outputs shorter than the input are typically wanted, you might consider decreasing max_length manually, e.g. summarizer('...', max_length=399)\n",
            " 68%|██████▊   | 321/473 [07:49<04:18,  1.70s/it]Your max_length is set to 1024, but your input_length is only 798. Since this is a summarization task, where outputs shorter than the input are typically wanted, you might consider decreasing max_length manually, e.g. summarizer('...', max_length=399)\n",
            " 68%|██████▊   | 322/473 [07:51<04:11,  1.67s/it]Your max_length is set to 1024, but your input_length is only 798. Since this is a summarization task, where outputs shorter than the input are typically wanted, you might consider decreasing max_length manually, e.g. summarizer('...', max_length=399)\n",
            " 68%|██████▊   | 323/473 [07:53<04:08,  1.65s/it]Your max_length is set to 1024, but your input_length is only 1000. Since this is a summarization task, where outputs shorter than the input are typically wanted, you might consider decreasing max_length manually, e.g. summarizer('...', max_length=500)\n",
            " 68%|██████▊   | 324/473 [07:54<04:17,  1.73s/it]Your max_length is set to 1024, but your input_length is only 636. Since this is a summarization task, where outputs shorter than the input are typically wanted, you might consider decreasing max_length manually, e.g. summarizer('...', max_length=318)\n",
            " 69%|██████▊   | 325/473 [07:56<04:10,  1.69s/it]Your max_length is set to 1024, but your input_length is only 1000. Since this is a summarization task, where outputs shorter than the input are typically wanted, you might consider decreasing max_length manually, e.g. summarizer('...', max_length=500)\n",
            " 69%|██████▉   | 326/473 [07:58<04:17,  1.75s/it]Your max_length is set to 1024, but your input_length is only 904. Since this is a summarization task, where outputs shorter than the input are typically wanted, you might consider decreasing max_length manually, e.g. summarizer('...', max_length=452)\n",
            " 69%|██████▉   | 327/473 [07:59<03:58,  1.63s/it]Your max_length is set to 1024, but your input_length is only 798. Since this is a summarization task, where outputs shorter than the input are typically wanted, you might consider decreasing max_length manually, e.g. summarizer('...', max_length=399)\n",
            " 69%|██████▉   | 328/473 [08:01<03:57,  1.64s/it]Your max_length is set to 1024, but your input_length is only 1000. Since this is a summarization task, where outputs shorter than the input are typically wanted, you might consider decreasing max_length manually, e.g. summarizer('...', max_length=500)\n",
            " 70%|██████▉   | 329/473 [08:03<04:08,  1.73s/it]Your max_length is set to 1024, but your input_length is only 793. Since this is a summarization task, where outputs shorter than the input are typically wanted, you might consider decreasing max_length manually, e.g. summarizer('...', max_length=396)\n",
            " 70%|██████▉   | 330/473 [08:04<03:59,  1.67s/it]Your max_length is set to 1024, but your input_length is only 1001. Since this is a summarization task, where outputs shorter than the input are typically wanted, you might consider decreasing max_length manually, e.g. summarizer('...', max_length=500)\n",
            " 70%|██████▉   | 331/473 [08:07<04:54,  2.08s/it]Your max_length is set to 1024, but your input_length is only 1003. Since this is a summarization task, where outputs shorter than the input are typically wanted, you might consider decreasing max_length manually, e.g. summarizer('...', max_length=501)\n",
            " 70%|███████   | 332/473 [08:09<04:18,  1.83s/it]Your max_length is set to 1024, but your input_length is only 1002. Since this is a summarization task, where outputs shorter than the input are typically wanted, you might consider decreasing max_length manually, e.g. summarizer('...', max_length=501)\n",
            " 70%|███████   | 333/473 [08:10<03:59,  1.71s/it]Your max_length is set to 1024, but your input_length is only 483. Since this is a summarization task, where outputs shorter than the input are typically wanted, you might consider decreasing max_length manually, e.g. summarizer('...', max_length=241)\n",
            " 71%|███████   | 334/473 [08:11<03:39,  1.58s/it]Your max_length is set to 1024, but your input_length is only 1000. Since this is a summarization task, where outputs shorter than the input are typically wanted, you might consider decreasing max_length manually, e.g. summarizer('...', max_length=500)\n",
            " 71%|███████   | 335/473 [08:13<03:50,  1.67s/it]Your max_length is set to 1024, but your input_length is only 1003. Since this is a summarization task, where outputs shorter than the input are typically wanted, you might consider decreasing max_length manually, e.g. summarizer('...', max_length=501)\n",
            " 71%|███████   | 336/473 [08:14<03:27,  1.51s/it]Your max_length is set to 1024, but your input_length is only 1003. Since this is a summarization task, where outputs shorter than the input are typically wanted, you might consider decreasing max_length manually, e.g. summarizer('...', max_length=501)\n",
            " 71%|███████   | 337/473 [08:15<03:07,  1.38s/it]Your max_length is set to 1024, but your input_length is only 1003. Since this is a summarization task, where outputs shorter than the input are typically wanted, you might consider decreasing max_length manually, e.g. summarizer('...', max_length=501)\n",
            " 71%|███████▏  | 338/473 [08:17<03:00,  1.34s/it]Your max_length is set to 1024, but your input_length is only 1002. Since this is a summarization task, where outputs shorter than the input are typically wanted, you might consider decreasing max_length manually, e.g. summarizer('...', max_length=501)\n",
            " 72%|███████▏  | 339/473 [08:18<02:52,  1.29s/it]Your max_length is set to 1024, but your input_length is only 1003. Since this is a summarization task, where outputs shorter than the input are typically wanted, you might consider decreasing max_length manually, e.g. summarizer('...', max_length=501)\n",
            " 72%|███████▏  | 340/473 [08:20<03:06,  1.40s/it]Your max_length is set to 1024, but your input_length is only 1003. Since this is a summarization task, where outputs shorter than the input are typically wanted, you might consider decreasing max_length manually, e.g. summarizer('...', max_length=501)\n",
            " 72%|███████▏  | 341/473 [08:21<03:10,  1.44s/it]Your max_length is set to 1024, but your input_length is only 1003. Since this is a summarization task, where outputs shorter than the input are typically wanted, you might consider decreasing max_length manually, e.g. summarizer('...', max_length=501)\n",
            " 72%|███████▏  | 342/473 [08:22<03:02,  1.39s/it]Your max_length is set to 1024, but your input_length is only 1003. Since this is a summarization task, where outputs shorter than the input are typically wanted, you might consider decreasing max_length manually, e.g. summarizer('...', max_length=501)\n",
            " 73%|███████▎  | 343/473 [08:24<02:59,  1.38s/it]Your max_length is set to 1024, but your input_length is only 643. Since this is a summarization task, where outputs shorter than the input are typically wanted, you might consider decreasing max_length manually, e.g. summarizer('...', max_length=321)\n",
            " 73%|███████▎  | 344/473 [08:25<02:47,  1.30s/it]Your max_length is set to 1024, but your input_length is only 1000. Since this is a summarization task, where outputs shorter than the input are typically wanted, you might consider decreasing max_length manually, e.g. summarizer('...', max_length=500)\n",
            " 73%|███████▎  | 345/473 [08:26<02:37,  1.23s/it]Your max_length is set to 1024, but your input_length is only 937. Since this is a summarization task, where outputs shorter than the input are typically wanted, you might consider decreasing max_length manually, e.g. summarizer('...', max_length=468)\n",
            " 73%|███████▎  | 346/473 [08:27<02:32,  1.20s/it]Your max_length is set to 1024, but your input_length is only 803. Since this is a summarization task, where outputs shorter than the input are typically wanted, you might consider decreasing max_length manually, e.g. summarizer('...', max_length=401)\n",
            " 73%|███████▎  | 347/473 [08:28<02:37,  1.25s/it]Your max_length is set to 1024, but your input_length is only 438. Since this is a summarization task, where outputs shorter than the input are typically wanted, you might consider decreasing max_length manually, e.g. summarizer('...', max_length=219)\n",
            " 74%|███████▎  | 348/473 [08:31<03:19,  1.60s/it]Your max_length is set to 1024, but your input_length is only 719. Since this is a summarization task, where outputs shorter than the input are typically wanted, you might consider decreasing max_length manually, e.g. summarizer('...', max_length=359)\n",
            " 74%|███████▍  | 349/473 [08:32<03:17,  1.59s/it]Your max_length is set to 1024, but your input_length is only 678. Since this is a summarization task, where outputs shorter than the input are typically wanted, you might consider decreasing max_length manually, e.g. summarizer('...', max_length=339)\n",
            " 74%|███████▍  | 350/473 [08:34<03:23,  1.66s/it]Your max_length is set to 1024, but your input_length is only 635. Since this is a summarization task, where outputs shorter than the input are typically wanted, you might consider decreasing max_length manually, e.g. summarizer('...', max_length=317)\n",
            " 74%|███████▍  | 351/473 [08:35<03:07,  1.54s/it]Your max_length is set to 1024, but your input_length is only 1001. Since this is a summarization task, where outputs shorter than the input are typically wanted, you might consider decreasing max_length manually, e.g. summarizer('...', max_length=500)\n",
            " 74%|███████▍  | 352/473 [08:37<03:06,  1.54s/it]Your max_length is set to 1024, but your input_length is only 331. Since this is a summarization task, where outputs shorter than the input are typically wanted, you might consider decreasing max_length manually, e.g. summarizer('...', max_length=165)\n",
            " 75%|███████▍  | 353/473 [08:38<02:44,  1.37s/it]Your max_length is set to 1024, but your input_length is only 580. Since this is a summarization task, where outputs shorter than the input are typically wanted, you might consider decreasing max_length manually, e.g. summarizer('...', max_length=290)\n",
            " 75%|███████▍  | 354/473 [08:39<02:40,  1.35s/it]Your max_length is set to 1024, but your input_length is only 1000. Since this is a summarization task, where outputs shorter than the input are typically wanted, you might consider decreasing max_length manually, e.g. summarizer('...', max_length=500)\n",
            " 75%|███████▌  | 355/473 [08:40<02:33,  1.30s/it]Your max_length is set to 1024, but your input_length is only 329. Since this is a summarization task, where outputs shorter than the input are typically wanted, you might consider decreasing max_length manually, e.g. summarizer('...', max_length=164)\n",
            " 75%|███████▌  | 356/473 [08:41<02:19,  1.19s/it]Your max_length is set to 1024, but your input_length is only 1001. Since this is a summarization task, where outputs shorter than the input are typically wanted, you might consider decreasing max_length manually, e.g. summarizer('...', max_length=500)\n",
            " 75%|███████▌  | 357/473 [08:43<02:14,  1.16s/it]Your max_length is set to 1024, but your input_length is only 1003. Since this is a summarization task, where outputs shorter than the input are typically wanted, you might consider decreasing max_length manually, e.g. summarizer('...', max_length=501)\n",
            " 76%|███████▌  | 358/473 [08:44<02:12,  1.16s/it]Your max_length is set to 1024, but your input_length is only 890. Since this is a summarization task, where outputs shorter than the input are typically wanted, you might consider decreasing max_length manually, e.g. summarizer('...', max_length=445)\n",
            " 76%|███████▌  | 359/473 [08:45<02:25,  1.27s/it]Your max_length is set to 1024, but your input_length is only 1001. Since this is a summarization task, where outputs shorter than the input are typically wanted, you might consider decreasing max_length manually, e.g. summarizer('...', max_length=500)\n",
            " 76%|███████▌  | 360/473 [08:47<02:36,  1.39s/it]Your max_length is set to 1024, but your input_length is only 1003. Since this is a summarization task, where outputs shorter than the input are typically wanted, you might consider decreasing max_length manually, e.g. summarizer('...', max_length=501)\n",
            " 76%|███████▋  | 361/473 [08:48<02:26,  1.31s/it]Your max_length is set to 1024, but your input_length is only 31. Since this is a summarization task, where outputs shorter than the input are typically wanted, you might consider decreasing max_length manually, e.g. summarizer('...', max_length=15)\n",
            " 77%|███████▋  | 362/473 [08:49<02:10,  1.18s/it]Your max_length is set to 1024, but your input_length is only 1000. Since this is a summarization task, where outputs shorter than the input are typically wanted, you might consider decreasing max_length manually, e.g. summarizer('...', max_length=500)\n",
            " 77%|███████▋  | 363/473 [08:50<02:08,  1.16s/it]Your max_length is set to 1024, but your input_length is only 1003. Since this is a summarization task, where outputs shorter than the input are typically wanted, you might consider decreasing max_length manually, e.g. summarizer('...', max_length=501)\n",
            " 77%|███████▋  | 364/473 [08:51<02:10,  1.20s/it]Your max_length is set to 1024, but your input_length is only 1003. Since this is a summarization task, where outputs shorter than the input are typically wanted, you might consider decreasing max_length manually, e.g. summarizer('...', max_length=501)\n",
            " 77%|███████▋  | 365/473 [08:53<02:10,  1.21s/it]Your max_length is set to 1024, but your input_length is only 1003. Since this is a summarization task, where outputs shorter than the input are typically wanted, you might consider decreasing max_length manually, e.g. summarizer('...', max_length=501)\n",
            " 77%|███████▋  | 366/473 [08:54<02:06,  1.18s/it]Your max_length is set to 1024, but your input_length is only 580. Since this is a summarization task, where outputs shorter than the input are typically wanted, you might consider decreasing max_length manually, e.g. summarizer('...', max_length=290)\n",
            " 78%|███████▊  | 367/473 [09:00<04:55,  2.79s/it]Your max_length is set to 1024, but your input_length is only 1001. Since this is a summarization task, where outputs shorter than the input are typically wanted, you might consider decreasing max_length manually, e.g. summarizer('...', max_length=500)\n",
            " 78%|███████▊  | 368/473 [09:01<03:59,  2.29s/it]Your max_length is set to 1024, but your input_length is only 918. Since this is a summarization task, where outputs shorter than the input are typically wanted, you might consider decreasing max_length manually, e.g. summarizer('...', max_length=459)\n",
            " 78%|███████▊  | 369/473 [09:02<03:19,  1.92s/it]Your max_length is set to 1024, but your input_length is only 1001. Since this is a summarization task, where outputs shorter than the input are typically wanted, you might consider decreasing max_length manually, e.g. summarizer('...', max_length=500)\n",
            " 78%|███████▊  | 370/473 [09:04<02:56,  1.71s/it]Your max_length is set to 1024, but your input_length is only 1002. Since this is a summarization task, where outputs shorter than the input are typically wanted, you might consider decreasing max_length manually, e.g. summarizer('...', max_length=501)\n",
            " 78%|███████▊  | 371/473 [09:05<02:35,  1.53s/it]Your max_length is set to 1024, but your input_length is only 1003. Since this is a summarization task, where outputs shorter than the input are typically wanted, you might consider decreasing max_length manually, e.g. summarizer('...', max_length=501)\n",
            " 79%|███████▊  | 372/473 [09:06<02:26,  1.45s/it]Your max_length is set to 1024, but your input_length is only 1003. Since this is a summarization task, where outputs shorter than the input are typically wanted, you might consider decreasing max_length manually, e.g. summarizer('...', max_length=501)\n",
            " 79%|███████▉  | 373/473 [09:07<02:17,  1.37s/it]Your max_length is set to 1024, but your input_length is only 1003. Since this is a summarization task, where outputs shorter than the input are typically wanted, you might consider decreasing max_length manually, e.g. summarizer('...', max_length=501)\n",
            " 79%|███████▉  | 374/473 [09:08<02:11,  1.33s/it]Your max_length is set to 1024, but your input_length is only 810. Since this is a summarization task, where outputs shorter than the input are typically wanted, you might consider decreasing max_length manually, e.g. summarizer('...', max_length=405)\n",
            " 79%|███████▉  | 375/473 [09:09<02:04,  1.27s/it]Your max_length is set to 1024, but your input_length is only 1000. Since this is a summarization task, where outputs shorter than the input are typically wanted, you might consider decreasing max_length manually, e.g. summarizer('...', max_length=500)\n",
            " 79%|███████▉  | 376/473 [09:12<02:39,  1.65s/it]Your max_length is set to 1024, but your input_length is only 898. Since this is a summarization task, where outputs shorter than the input are typically wanted, you might consider decreasing max_length manually, e.g. summarizer('...', max_length=449)\n",
            " 80%|███████▉  | 377/473 [09:14<02:37,  1.64s/it]Your max_length is set to 1024, but your input_length is only 1001. Since this is a summarization task, where outputs shorter than the input are typically wanted, you might consider decreasing max_length manually, e.g. summarizer('...', max_length=500)\n",
            " 80%|███████▉  | 378/473 [09:15<02:25,  1.54s/it]Your max_length is set to 1024, but your input_length is only 1003. Since this is a summarization task, where outputs shorter than the input are typically wanted, you might consider decreasing max_length manually, e.g. summarizer('...', max_length=501)\n",
            " 80%|████████  | 379/473 [09:16<02:17,  1.47s/it]Your max_length is set to 1024, but your input_length is only 1003. Since this is a summarization task, where outputs shorter than the input are typically wanted, you might consider decreasing max_length manually, e.g. summarizer('...', max_length=501)\n",
            " 80%|████████  | 380/473 [09:18<02:25,  1.56s/it]Your max_length is set to 1024, but your input_length is only 1003. Since this is a summarization task, where outputs shorter than the input are typically wanted, you might consider decreasing max_length manually, e.g. summarizer('...', max_length=501)\n",
            " 81%|████████  | 381/473 [09:20<02:37,  1.71s/it]Your max_length is set to 1024, but your input_length is only 1003. Since this is a summarization task, where outputs shorter than the input are typically wanted, you might consider decreasing max_length manually, e.g. summarizer('...', max_length=501)\n",
            " 81%|████████  | 382/473 [09:21<02:22,  1.57s/it]Your max_length is set to 1024, but your input_length is only 1003. Since this is a summarization task, where outputs shorter than the input are typically wanted, you might consider decreasing max_length manually, e.g. summarizer('...', max_length=501)\n",
            " 81%|████████  | 383/473 [09:23<02:14,  1.49s/it]Your max_length is set to 1024, but your input_length is only 1003. Since this is a summarization task, where outputs shorter than the input are typically wanted, you might consider decreasing max_length manually, e.g. summarizer('...', max_length=501)\n",
            " 81%|████████  | 384/473 [09:24<02:19,  1.57s/it]Your max_length is set to 1024, but your input_length is only 1003. Since this is a summarization task, where outputs shorter than the input are typically wanted, you might consider decreasing max_length manually, e.g. summarizer('...', max_length=501)\n",
            " 81%|████████▏ | 385/473 [09:26<02:19,  1.59s/it]Your max_length is set to 1024, but your input_length is only 1003. Since this is a summarization task, where outputs shorter than the input are typically wanted, you might consider decreasing max_length manually, e.g. summarizer('...', max_length=501)\n",
            " 82%|████████▏ | 386/473 [09:28<02:16,  1.57s/it]Your max_length is set to 1024, but your input_length is only 1003. Since this is a summarization task, where outputs shorter than the input are typically wanted, you might consider decreasing max_length manually, e.g. summarizer('...', max_length=501)\n",
            " 82%|████████▏ | 387/473 [09:29<02:22,  1.65s/it]Your max_length is set to 1024, but your input_length is only 1003. Since this is a summarization task, where outputs shorter than the input are typically wanted, you might consider decreasing max_length manually, e.g. summarizer('...', max_length=501)\n",
            " 82%|████████▏ | 388/473 [09:31<02:12,  1.56s/it]Your max_length is set to 1024, but your input_length is only 1003. Since this is a summarization task, where outputs shorter than the input are typically wanted, you might consider decreasing max_length manually, e.g. summarizer('...', max_length=501)\n",
            " 82%|████████▏ | 389/473 [09:32<02:01,  1.45s/it]Your max_length is set to 1024, but your input_length is only 1002. Since this is a summarization task, where outputs shorter than the input are typically wanted, you might consider decreasing max_length manually, e.g. summarizer('...', max_length=501)\n",
            " 82%|████████▏ | 390/473 [09:34<02:13,  1.60s/it]Your max_length is set to 1024, but your input_length is only 1002. Since this is a summarization task, where outputs shorter than the input are typically wanted, you might consider decreasing max_length manually, e.g. summarizer('...', max_length=501)\n",
            " 83%|████████▎ | 391/473 [09:35<02:09,  1.58s/it]Your max_length is set to 1024, but your input_length is only 1002. Since this is a summarization task, where outputs shorter than the input are typically wanted, you might consider decreasing max_length manually, e.g. summarizer('...', max_length=501)\n",
            " 83%|████████▎ | 392/473 [09:37<02:05,  1.55s/it]Your max_length is set to 1024, but your input_length is only 1003. Since this is a summarization task, where outputs shorter than the input are typically wanted, you might consider decreasing max_length manually, e.g. summarizer('...', max_length=501)\n",
            " 83%|████████▎ | 393/473 [09:38<01:59,  1.49s/it]Your max_length is set to 1024, but your input_length is only 464. Since this is a summarization task, where outputs shorter than the input are typically wanted, you might consider decreasing max_length manually, e.g. summarizer('...', max_length=232)\n",
            " 83%|████████▎ | 394/473 [09:39<01:49,  1.39s/it]Your max_length is set to 1024, but your input_length is only 987. Since this is a summarization task, where outputs shorter than the input are typically wanted, you might consider decreasing max_length manually, e.g. summarizer('...', max_length=493)\n",
            " 84%|████████▎ | 395/473 [09:41<01:52,  1.44s/it]Your max_length is set to 1024, but your input_length is only 1000. Since this is a summarization task, where outputs shorter than the input are typically wanted, you might consider decreasing max_length manually, e.g. summarizer('...', max_length=500)\n",
            " 84%|████████▎ | 396/473 [09:42<01:46,  1.38s/it]Your max_length is set to 1024, but your input_length is only 459. Since this is a summarization task, where outputs shorter than the input are typically wanted, you might consider decreasing max_length manually, e.g. summarizer('...', max_length=229)\n",
            " 84%|████████▍ | 397/473 [09:43<01:35,  1.25s/it]Your max_length is set to 1024, but your input_length is only 1000. Since this is a summarization task, where outputs shorter than the input are typically wanted, you might consider decreasing max_length manually, e.g. summarizer('...', max_length=500)\n",
            " 84%|████████▍ | 398/473 [09:44<01:31,  1.22s/it]Your max_length is set to 1024, but your input_length is only 1002. Since this is a summarization task, where outputs shorter than the input are typically wanted, you might consider decreasing max_length manually, e.g. summarizer('...', max_length=501)\n",
            " 84%|████████▍ | 399/473 [09:46<01:47,  1.46s/it]Your max_length is set to 1024, but your input_length is only 880. Since this is a summarization task, where outputs shorter than the input are typically wanted, you might consider decreasing max_length manually, e.g. summarizer('...', max_length=440)\n",
            " 85%|████████▍ | 400/473 [09:49<02:04,  1.71s/it]Your max_length is set to 1024, but your input_length is only 1000. Since this is a summarization task, where outputs shorter than the input are typically wanted, you might consider decreasing max_length manually, e.g. summarizer('...', max_length=500)\n",
            " 85%|████████▍ | 401/473 [09:50<02:02,  1.71s/it]Your max_length is set to 1024, but your input_length is only 322. Since this is a summarization task, where outputs shorter than the input are typically wanted, you might consider decreasing max_length manually, e.g. summarizer('...', max_length=161)\n",
            " 85%|████████▍ | 402/473 [09:52<01:56,  1.65s/it]Your max_length is set to 1024, but your input_length is only 1000. Since this is a summarization task, where outputs shorter than the input are typically wanted, you might consider decreasing max_length manually, e.g. summarizer('...', max_length=500)\n",
            " 85%|████████▌ | 403/473 [09:53<01:43,  1.48s/it]Your max_length is set to 1024, but your input_length is only 135. Since this is a summarization task, where outputs shorter than the input are typically wanted, you might consider decreasing max_length manually, e.g. summarizer('...', max_length=67)\n",
            " 85%|████████▌ | 404/473 [09:54<01:31,  1.33s/it]Your max_length is set to 1024, but your input_length is only 616. Since this is a summarization task, where outputs shorter than the input are typically wanted, you might consider decreasing max_length manually, e.g. summarizer('...', max_length=308)\n",
            " 86%|████████▌ | 405/473 [09:56<01:56,  1.71s/it]Your max_length is set to 1024, but your input_length is only 1001. Since this is a summarization task, where outputs shorter than the input are typically wanted, you might consider decreasing max_length manually, e.g. summarizer('...', max_length=500)\n",
            " 86%|████████▌ | 406/473 [09:58<01:42,  1.53s/it]Your max_length is set to 1024, but your input_length is only 1003. Since this is a summarization task, where outputs shorter than the input are typically wanted, you might consider decreasing max_length manually, e.g. summarizer('...', max_length=501)\n",
            " 86%|████████▌ | 407/473 [09:59<01:32,  1.41s/it]Your max_length is set to 1024, but your input_length is only 1003. Since this is a summarization task, where outputs shorter than the input are typically wanted, you might consider decreasing max_length manually, e.g. summarizer('...', max_length=501)\n",
            " 86%|████████▋ | 408/473 [10:00<01:30,  1.40s/it]Your max_length is set to 1024, but your input_length is only 834. Since this is a summarization task, where outputs shorter than the input are typically wanted, you might consider decreasing max_length manually, e.g. summarizer('...', max_length=417)\n",
            " 86%|████████▋ | 409/473 [10:01<01:26,  1.35s/it]Your max_length is set to 1024, but your input_length is only 713. Since this is a summarization task, where outputs shorter than the input are typically wanted, you might consider decreasing max_length manually, e.g. summarizer('...', max_length=356)\n",
            " 87%|████████▋ | 410/473 [10:03<01:28,  1.41s/it]Your max_length is set to 1024, but your input_length is only 1000. Since this is a summarization task, where outputs shorter than the input are typically wanted, you might consider decreasing max_length manually, e.g. summarizer('...', max_length=500)\n",
            " 87%|████████▋ | 411/473 [10:04<01:28,  1.43s/it]Your max_length is set to 1024, but your input_length is only 1002. Since this is a summarization task, where outputs shorter than the input are typically wanted, you might consider decreasing max_length manually, e.g. summarizer('...', max_length=501)\n",
            " 87%|████████▋ | 412/473 [10:06<01:23,  1.37s/it]Your max_length is set to 1024, but your input_length is only 1003. Since this is a summarization task, where outputs shorter than the input are typically wanted, you might consider decreasing max_length manually, e.g. summarizer('...', max_length=501)\n",
            " 87%|████████▋ | 413/473 [10:07<01:22,  1.38s/it]Your max_length is set to 1024, but your input_length is only 68. Since this is a summarization task, where outputs shorter than the input are typically wanted, you might consider decreasing max_length manually, e.g. summarizer('...', max_length=34)\n",
            " 88%|████████▊ | 414/473 [10:08<01:11,  1.21s/it]Your max_length is set to 1024, but your input_length is only 1001. Since this is a summarization task, where outputs shorter than the input are typically wanted, you might consider decreasing max_length manually, e.g. summarizer('...', max_length=500)\n",
            " 88%|████████▊ | 415/473 [10:09<01:08,  1.17s/it]Your max_length is set to 1024, but your input_length is only 207. Since this is a summarization task, where outputs shorter than the input are typically wanted, you might consider decreasing max_length manually, e.g. summarizer('...', max_length=103)\n",
            " 88%|████████▊ | 416/473 [10:10<01:04,  1.13s/it]Your max_length is set to 1024, but your input_length is only 542. Since this is a summarization task, where outputs shorter than the input are typically wanted, you might consider decreasing max_length manually, e.g. summarizer('...', max_length=271)\n",
            " 88%|████████▊ | 417/473 [10:11<01:06,  1.19s/it]Your max_length is set to 1024, but your input_length is only 523. Since this is a summarization task, where outputs shorter than the input are typically wanted, you might consider decreasing max_length manually, e.g. summarizer('...', max_length=261)\n",
            " 88%|████████▊ | 418/473 [10:13<01:15,  1.37s/it]Your max_length is set to 1024, but your input_length is only 1001. Since this is a summarization task, where outputs shorter than the input are typically wanted, you might consider decreasing max_length manually, e.g. summarizer('...', max_length=500)\n",
            " 89%|████████▊ | 419/473 [10:14<01:09,  1.28s/it]Your max_length is set to 1024, but your input_length is only 77. Since this is a summarization task, where outputs shorter than the input are typically wanted, you might consider decreasing max_length manually, e.g. summarizer('...', max_length=38)\n",
            " 89%|████████▉ | 420/473 [10:15<01:03,  1.20s/it]Your max_length is set to 1024, but your input_length is only 672. Since this is a summarization task, where outputs shorter than the input are typically wanted, you might consider decreasing max_length manually, e.g. summarizer('...', max_length=336)\n",
            " 89%|████████▉ | 421/473 [10:17<01:17,  1.49s/it]Your max_length is set to 1024, but your input_length is only 1001. Since this is a summarization task, where outputs shorter than the input are typically wanted, you might consider decreasing max_length manually, e.g. summarizer('...', max_length=500)\n",
            " 89%|████████▉ | 422/473 [10:19<01:12,  1.42s/it]Your max_length is set to 1024, but your input_length is only 359. Since this is a summarization task, where outputs shorter than the input are typically wanted, you might consider decreasing max_length manually, e.g. summarizer('...', max_length=179)\n",
            " 89%|████████▉ | 423/473 [10:19<01:03,  1.27s/it]Your max_length is set to 1024, but your input_length is only 1000. Since this is a summarization task, where outputs shorter than the input are typically wanted, you might consider decreasing max_length manually, e.g. summarizer('...', max_length=500)\n",
            " 90%|████████▉ | 424/473 [10:21<01:01,  1.26s/it]Your max_length is set to 1024, but your input_length is only 1003. Since this is a summarization task, where outputs shorter than the input are typically wanted, you might consider decreasing max_length manually, e.g. summarizer('...', max_length=501)\n",
            " 90%|████████▉ | 425/473 [10:22<01:00,  1.27s/it]Your max_length is set to 1024, but your input_length is only 1002. Since this is a summarization task, where outputs shorter than the input are typically wanted, you might consider decreasing max_length manually, e.g. summarizer('...', max_length=501)\n",
            " 90%|█████████ | 426/473 [10:23<00:59,  1.27s/it]Your max_length is set to 1024, but your input_length is only 120. Since this is a summarization task, where outputs shorter than the input are typically wanted, you might consider decreasing max_length manually, e.g. summarizer('...', max_length=60)\n",
            " 90%|█████████ | 427/473 [10:24<00:54,  1.18s/it]Your max_length is set to 1024, but your input_length is only 1000. Since this is a summarization task, where outputs shorter than the input are typically wanted, you might consider decreasing max_length manually, e.g. summarizer('...', max_length=500)\n",
            " 90%|█████████ | 428/473 [10:25<00:52,  1.17s/it]Your max_length is set to 1024, but your input_length is only 1003. Since this is a summarization task, where outputs shorter than the input are typically wanted, you might consider decreasing max_length manually, e.g. summarizer('...', max_length=501)\n",
            " 91%|█████████ | 429/473 [10:27<00:54,  1.23s/it]Your max_length is set to 1024, but your input_length is only 1003. Since this is a summarization task, where outputs shorter than the input are typically wanted, you might consider decreasing max_length manually, e.g. summarizer('...', max_length=501)\n",
            " 91%|█████████ | 430/473 [10:28<00:54,  1.26s/it]Your max_length is set to 1024, but your input_length is only 809. Since this is a summarization task, where outputs shorter than the input are typically wanted, you might consider decreasing max_length manually, e.g. summarizer('...', max_length=404)\n",
            " 91%|█████████ | 431/473 [10:29<00:54,  1.29s/it]Your max_length is set to 1024, but your input_length is only 732. Since this is a summarization task, where outputs shorter than the input are typically wanted, you might consider decreasing max_length manually, e.g. summarizer('...', max_length=366)\n",
            " 91%|█████████▏| 432/473 [10:32<01:06,  1.63s/it]Your max_length is set to 1024, but your input_length is only 1000. Since this is a summarization task, where outputs shorter than the input are typically wanted, you might consider decreasing max_length manually, e.g. summarizer('...', max_length=500)\n",
            " 92%|█████████▏| 433/473 [10:33<01:00,  1.51s/it]Your max_length is set to 1024, but your input_length is only 1003. Since this is a summarization task, where outputs shorter than the input are typically wanted, you might consider decreasing max_length manually, e.g. summarizer('...', max_length=501)\n",
            " 92%|█████████▏| 434/473 [10:34<00:55,  1.42s/it]Your max_length is set to 1024, but your input_length is only 1003. Since this is a summarization task, where outputs shorter than the input are typically wanted, you might consider decreasing max_length manually, e.g. summarizer('...', max_length=501)\n",
            " 92%|█████████▏| 435/473 [10:35<00:51,  1.35s/it]Your max_length is set to 1024, but your input_length is only 384. Since this is a summarization task, where outputs shorter than the input are typically wanted, you might consider decreasing max_length manually, e.g. summarizer('...', max_length=192)\n",
            " 92%|█████████▏| 436/473 [10:37<00:46,  1.25s/it]Your max_length is set to 1024, but your input_length is only 1001. Since this is a summarization task, where outputs shorter than the input are typically wanted, you might consider decreasing max_length manually, e.g. summarizer('...', max_length=500)\n",
            " 92%|█████████▏| 437/473 [10:38<00:43,  1.21s/it]Your max_length is set to 1024, but your input_length is only 22. Since this is a summarization task, where outputs shorter than the input are typically wanted, you might consider decreasing max_length manually, e.g. summarizer('...', max_length=11)\n",
            " 93%|█████████▎| 438/473 [10:38<00:38,  1.09s/it]Your max_length is set to 1024, but your input_length is only 1000. Since this is a summarization task, where outputs shorter than the input are typically wanted, you might consider decreasing max_length manually, e.g. summarizer('...', max_length=500)\n",
            " 93%|█████████▎| 439/473 [10:40<00:38,  1.13s/it]Your max_length is set to 1024, but your input_length is only 1003. Since this is a summarization task, where outputs shorter than the input are typically wanted, you might consider decreasing max_length manually, e.g. summarizer('...', max_length=501)\n",
            " 93%|█████████▎| 440/473 [10:41<00:38,  1.17s/it]Your max_length is set to 1024, but your input_length is only 176. Since this is a summarization task, where outputs shorter than the input are typically wanted, you might consider decreasing max_length manually, e.g. summarizer('...', max_length=88)\n",
            " 93%|█████████▎| 441/473 [10:42<00:38,  1.19s/it]Your max_length is set to 1024, but your input_length is only 1000. Since this is a summarization task, where outputs shorter than the input are typically wanted, you might consider decreasing max_length manually, e.g. summarizer('...', max_length=500)\n",
            " 93%|█████████▎| 442/473 [10:44<00:40,  1.32s/it]Your max_length is set to 1024, but your input_length is only 11. Since this is a summarization task, where outputs shorter than the input are typically wanted, you might consider decreasing max_length manually, e.g. summarizer('...', max_length=5)\n",
            " 94%|█████████▎| 443/473 [10:45<00:35,  1.18s/it]Your max_length is set to 1024, but your input_length is only 1001. Since this is a summarization task, where outputs shorter than the input are typically wanted, you might consider decreasing max_length manually, e.g. summarizer('...', max_length=500)\n",
            " 94%|█████████▍| 444/473 [10:46<00:37,  1.28s/it]Your max_length is set to 1024, but your input_length is only 1003. Since this is a summarization task, where outputs shorter than the input are typically wanted, you might consider decreasing max_length manually, e.g. summarizer('...', max_length=501)\n",
            " 94%|█████████▍| 445/473 [10:47<00:35,  1.28s/it]Your max_length is set to 1024, but your input_length is only 642. Since this is a summarization task, where outputs shorter than the input are typically wanted, you might consider decreasing max_length manually, e.g. summarizer('...', max_length=321)\n",
            " 94%|█████████▍| 446/473 [10:49<00:33,  1.22s/it]Your max_length is set to 1024, but your input_length is only 1001. Since this is a summarization task, where outputs shorter than the input are typically wanted, you might consider decreasing max_length manually, e.g. summarizer('...', max_length=500)\n",
            " 95%|█████████▍| 447/473 [10:50<00:32,  1.24s/it]Your max_length is set to 1024, but your input_length is only 471. Since this is a summarization task, where outputs shorter than the input are typically wanted, you might consider decreasing max_length manually, e.g. summarizer('...', max_length=235)\n",
            " 95%|█████████▍| 448/473 [10:51<00:28,  1.14s/it]Your max_length is set to 1024, but your input_length is only 1000. Since this is a summarization task, where outputs shorter than the input are typically wanted, you might consider decreasing max_length manually, e.g. summarizer('...', max_length=500)\n",
            " 95%|█████████▍| 449/473 [10:52<00:27,  1.15s/it]Your max_length is set to 1024, but your input_length is only 144. Since this is a summarization task, where outputs shorter than the input are typically wanted, you might consider decreasing max_length manually, e.g. summarizer('...', max_length=72)\n",
            " 95%|█████████▌| 450/473 [10:53<00:25,  1.11s/it]Your max_length is set to 1024, but your input_length is only 1000. Since this is a summarization task, where outputs shorter than the input are typically wanted, you might consider decreasing max_length manually, e.g. summarizer('...', max_length=500)\n",
            " 95%|█████████▌| 451/473 [10:54<00:26,  1.19s/it]Your max_length is set to 1024, but your input_length is only 781. Since this is a summarization task, where outputs shorter than the input are typically wanted, you might consider decreasing max_length manually, e.g. summarizer('...', max_length=390)\n",
            " 96%|█████████▌| 452/473 [10:56<00:25,  1.22s/it]Your max_length is set to 1024, but your input_length is only 338. Since this is a summarization task, where outputs shorter than the input are typically wanted, you might consider decreasing max_length manually, e.g. summarizer('...', max_length=169)\n",
            " 96%|█████████▌| 453/473 [10:57<00:27,  1.36s/it]Your max_length is set to 1024, but your input_length is only 164. Since this is a summarization task, where outputs shorter than the input are typically wanted, you might consider decreasing max_length manually, e.g. summarizer('...', max_length=82)\n",
            " 96%|█████████▌| 454/473 [10:59<00:26,  1.40s/it]Your max_length is set to 1024, but your input_length is only 1001. Since this is a summarization task, where outputs shorter than the input are typically wanted, you might consider decreasing max_length manually, e.g. summarizer('...', max_length=500)\n",
            " 96%|█████████▌| 455/473 [11:00<00:24,  1.34s/it]Your max_length is set to 1024, but your input_length is only 964. Since this is a summarization task, where outputs shorter than the input are typically wanted, you might consider decreasing max_length manually, e.g. summarizer('...', max_length=482)\n",
            " 96%|█████████▋| 456/473 [11:01<00:21,  1.26s/it]Your max_length is set to 1024, but your input_length is only 182. Since this is a summarization task, where outputs shorter than the input are typically wanted, you might consider decreasing max_length manually, e.g. summarizer('...', max_length=91)\n",
            " 97%|█████████▋| 457/473 [11:02<00:20,  1.28s/it]Your max_length is set to 1024, but your input_length is only 799. Since this is a summarization task, where outputs shorter than the input are typically wanted, you might consider decreasing max_length manually, e.g. summarizer('...', max_length=399)\n",
            " 97%|█████████▋| 458/473 [11:04<00:19,  1.28s/it]Your max_length is set to 1024, but your input_length is only 394. Since this is a summarization task, where outputs shorter than the input are typically wanted, you might consider decreasing max_length manually, e.g. summarizer('...', max_length=197)\n",
            " 97%|█████████▋| 459/473 [11:05<00:18,  1.30s/it]Your max_length is set to 1024, but your input_length is only 738. Since this is a summarization task, where outputs shorter than the input are typically wanted, you might consider decreasing max_length manually, e.g. summarizer('...', max_length=369)\n",
            " 97%|█████████▋| 460/473 [11:07<00:18,  1.39s/it]Your max_length is set to 1024, but your input_length is only 1001. Since this is a summarization task, where outputs shorter than the input are typically wanted, you might consider decreasing max_length manually, e.g. summarizer('...', max_length=500)\n",
            " 97%|█████████▋| 461/473 [11:08<00:17,  1.49s/it]Your max_length is set to 1024, but your input_length is only 1003. Since this is a summarization task, where outputs shorter than the input are typically wanted, you might consider decreasing max_length manually, e.g. summarizer('...', max_length=501)\n",
            " 98%|█████████▊| 462/473 [11:10<00:16,  1.52s/it]Your max_length is set to 1024, but your input_length is only 869. Since this is a summarization task, where outputs shorter than the input are typically wanted, you might consider decreasing max_length manually, e.g. summarizer('...', max_length=434)\n",
            " 98%|█████████▊| 463/473 [11:11<00:14,  1.42s/it]Your max_length is set to 1024, but your input_length is only 785. Since this is a summarization task, where outputs shorter than the input are typically wanted, you might consider decreasing max_length manually, e.g. summarizer('...', max_length=392)\n",
            " 98%|█████████▊| 464/473 [11:12<00:12,  1.40s/it]Your max_length is set to 1024, but your input_length is only 536. Since this is a summarization task, where outputs shorter than the input are typically wanted, you might consider decreasing max_length manually, e.g. summarizer('...', max_length=268)\n",
            " 98%|█████████▊| 465/473 [11:16<00:16,  2.01s/it]Your max_length is set to 1024, but your input_length is only 1000. Since this is a summarization task, where outputs shorter than the input are typically wanted, you might consider decreasing max_length manually, e.g. summarizer('...', max_length=500)\n",
            " 99%|█████████▊| 466/473 [11:19<00:16,  2.41s/it]Your max_length is set to 1024, but your input_length is only 1003. Since this is a summarization task, where outputs shorter than the input are typically wanted, you might consider decreasing max_length manually, e.g. summarizer('...', max_length=501)\n",
            " 99%|█████████▊| 467/473 [11:21<00:12,  2.14s/it]Your max_length is set to 1024, but your input_length is only 1002. Since this is a summarization task, where outputs shorter than the input are typically wanted, you might consider decreasing max_length manually, e.g. summarizer('...', max_length=501)\n",
            " 99%|█████████▉| 468/473 [11:22<00:09,  1.96s/it]Your max_length is set to 1024, but your input_length is only 1002. Since this is a summarization task, where outputs shorter than the input are typically wanted, you might consider decreasing max_length manually, e.g. summarizer('...', max_length=501)\n",
            " 99%|█████████▉| 469/473 [11:23<00:06,  1.73s/it]Your max_length is set to 1024, but your input_length is only 334. Since this is a summarization task, where outputs shorter than the input are typically wanted, you might consider decreasing max_length manually, e.g. summarizer('...', max_length=167)\n",
            " 99%|█████████▉| 470/473 [11:24<00:04,  1.50s/it]Your max_length is set to 1024, but your input_length is only 1000. Since this is a summarization task, where outputs shorter than the input are typically wanted, you might consider decreasing max_length manually, e.g. summarizer('...', max_length=500)\n",
            "100%|█████████▉| 471/473 [11:26<00:02,  1.41s/it]Your max_length is set to 1024, but your input_length is only 1002. Since this is a summarization task, where outputs shorter than the input are typically wanted, you might consider decreasing max_length manually, e.g. summarizer('...', max_length=501)\n",
            "100%|█████████▉| 472/473 [11:27<00:01,  1.37s/it]Your max_length is set to 1024, but your input_length is only 961. Since this is a summarization task, where outputs shorter than the input are typically wanted, you might consider decreasing max_length manually, e.g. summarizer('...', max_length=480)\n",
            "100%|██████████| 473/473 [11:30<00:00,  1.46s/it]\n"
          ]
        }
      ],
      "source": [
        "import os\n",
        "from transformers import pipeline, BartTokenizer\n",
        "from tqdm import tqdm\n",
        "\n",
        "# Load the pre-trained summarization model and tokenizer\n",
        "summarizer = pipeline(\"summarization\", model=\"facebook/bart-large-cnn\", device=0)  # Use GPU (device=0) or CPU (device=-1)\n",
        "\n",
        "# Read the content of a file\n",
        "def read_file(file_path):\n",
        "    with open(file_path, 'r', encoding='utf-8') as file:\n",
        "        return file.read()\n",
        "\n",
        "# Summarize a text chunk\n",
        "def summarize_text(text, max_length=1024):\n",
        "    try:\n",
        "        # Skip empty or invalid text\n",
        "        if not text.strip():\n",
        "            raise ValueError(\"Empty text provided\")\n",
        "\n",
        "        # Generate the summary\n",
        "        summary = summarizer(\n",
        "            text,\n",
        "            max_length=max_length,\n",
        "            min_length=61,\n",
        "            do_sample=False,\n",
        "            truncation=True  # Ensure truncation is applied (though text is already truncated)\n",
        "        )\n",
        "        return summary[0]['summary_text']\n",
        "    except Exception as e:\n",
        "        print(f\"Error summarizing text: {e}\")\n",
        "        return None\n",
        "\n",
        "# Process each shard file in the directory and create summaries\n",
        "def process_directory(input_dir, output_dir, summary_output_dir, max_summary_length=1024):\n",
        "    # Ensure the output directories exist\n",
        "    if not os.path.exists(summary_output_dir):\n",
        "        os.makedirs(summary_output_dir)\n",
        "\n",
        "    # Iterate over all text files (shards) in the input directory\n",
        "    for file_name in tqdm(os.listdir(input_dir)):\n",
        "        if file_name.endswith(\".txt\"):  # Only process .txt files\n",
        "            file_path = os.path.join(input_dir, file_name)\n",
        "            text = read_file(file_path)\n",
        "\n",
        "            # Skip empty files\n",
        "            if not text.strip():\n",
        "                print(f\"Skipping empty file: {file_name}\")\n",
        "                continue\n",
        "\n",
        "            # Generate the summary\n",
        "            summary = summarize_text(text, max_length=max_summary_length)\n",
        "            if not summary:\n",
        "                print(f\"Failed to summarize {file_name}\")\n",
        "                continue\n",
        "\n",
        "            # Save the summary\n",
        "            summary_file_path = os.path.join(summary_output_dir, f\"{file_name}_summary.txt\")\n",
        "            with open(summary_file_path, 'w', encoding='utf-8') as summary_file:\n",
        "                summary_file.write(summary)\n",
        "\n",
        "# Example usage\n",
        "input_directory = './data/scraped/cleaned_and_truncated_text_data'\n",
        "summary_output_directory = './data/scraped/output_summary'\n",
        "\n",
        "process_directory(\n",
        "    input_directory,\n",
        "    summary_output_directory,\n",
        "    summary_output_directory,\n",
        "    max_summary_length=1024  # Ensure this does not exceed the model's limit\n",
        ")"
      ]
    }
  ],
  "metadata": {
    "accelerator": "GPU",
    "colab": {
      "gpuType": "T4",
      "provenance": []
    },
    "kernelspec": {
      "display_name": "Python 3",
      "name": "python3"
    },
    "language_info": {
      "codemirror_mode": {
        "name": "ipython",
        "version": 3
      },
      "file_extension": ".py",
      "mimetype": "text/x-python",
      "name": "python",
      "nbconvert_exporter": "python",
      "pygments_lexer": "ipython3",
      "version": "3.10.12"
    }
  },
  "nbformat": 4,
  "nbformat_minor": 0
}